{
 "cells": [
  {
   "cell_type": "markdown",
   "metadata": {
    "slideshow": {
     "slide_type": "-"
    }
   },
   "source": [
    "# renfe-guru sagemaker example"
   ]
  },
  {
   "cell_type": "markdown",
   "metadata": {},
   "source": [
    "## 0. python general imports"
   ]
  },
  {
   "cell_type": "code",
   "execution_count": 1,
   "metadata": {
    "ExecuteTime": {
     "end_time": "2020-04-17T13:41:00.689695Z",
     "start_time": "2020-04-17T13:41:00.310958Z"
    }
   },
   "outputs": [],
   "source": [
    "import pandas as pd\n",
    "import logging\n",
    "import matplotlib.pyplot as plt\n",
    "\n",
    "%matplotlib inline"
   ]
  },
  {
   "cell_type": "code",
   "execution_count": 2,
   "metadata": {
    "ExecuteTime": {
     "end_time": "2020-04-17T13:41:02.811581Z",
     "start_time": "2020-04-17T13:41:01.630944Z"
    }
   },
   "outputs": [
    {
     "name": "stdout",
     "output_type": "stream",
     "text": [
      "\n",
      "INSTALLED VERSIONS\n",
      "------------------\n",
      "commit           : None\n",
      "python           : 3.7.3.final.0\n",
      "python-bits      : 64\n",
      "OS               : Linux\n",
      "OS-release       : 3.10.0-1062.4.3.el7.x86_64\n",
      "machine          : x86_64\n",
      "processor        : x86_64\n",
      "byteorder        : little\n",
      "LC_ALL           : None\n",
      "LANG             : en_US.UTF-8\n",
      "LOCALE           : en_US.UTF-8\n",
      "\n",
      "pandas           : 0.25.1\n",
      "numpy            : 1.16.2\n",
      "pytz             : 2018.9\n",
      "dateutil         : 2.8.0\n",
      "pip              : 20.0.2\n",
      "setuptools       : 41.6.0\n",
      "Cython           : 0.29.6\n",
      "pytest           : 4.3.1\n",
      "hypothesis       : None\n",
      "sphinx           : 1.8.5\n",
      "blosc            : None\n",
      "feather          : None\n",
      "xlsxwriter       : 1.1.5\n",
      "lxml.etree       : 4.3.2\n",
      "html5lib         : 1.0.1\n",
      "pymysql          : None\n",
      "psycopg2         : 2.8.3 (dt dec pq3 ext)\n",
      "jinja2           : 2.10.3\n",
      "IPython          : 7.4.0\n",
      "pandas_datareader: None\n",
      "bs4              : 4.7.1\n",
      "bottleneck       : 1.2.1\n",
      "fastparquet      : 0.2.1\n",
      "gcsfs            : None\n",
      "lxml.etree       : 4.3.2\n",
      "matplotlib       : 3.1.1\n",
      "numexpr          : 2.6.9\n",
      "odfpy            : None\n",
      "openpyxl         : 2.6.1\n",
      "pandas_gbq       : None\n",
      "pyarrow          : 0.13.0\n",
      "pytables         : None\n",
      "s3fs             : 0.3.5\n",
      "scipy            : 1.4.1\n",
      "sqlalchemy       : 1.3.1\n",
      "tables           : 3.5.1\n",
      "xarray           : None\n",
      "xlrd             : 1.2.0\n",
      "xlwt             : 1.3.0\n",
      "xlsxwriter       : 1.1.5\n"
     ]
    }
   ],
   "source": [
    "pd.show_versions()\n"
   ]
  },
  {
   "cell_type": "code",
   "execution_count": 3,
   "metadata": {
    "ExecuteTime": {
     "end_time": "2020-04-17T13:41:03.724226Z",
     "start_time": "2020-04-17T13:41:03.719269Z"
    },
    "scrolled": true
   },
   "outputs": [
    {
     "name": "stderr",
     "output_type": "stream",
     "text": [
      "2020-04-17 13:41:03,721 - root - INFO - hi!\n"
     ]
    }
   ],
   "source": [
    "def get_logger():\n",
    "    logger = logging.getLogger()\n",
    "    logger.setLevel(logging.DEBUG)\n",
    "    ch = logging.StreamHandler()\n",
    "    ch.setLevel(logging.INFO)\n",
    "    formatter = logging.Formatter(\n",
    "        '%(asctime)s - %(name)s - %(levelname)s - %(message)s')\n",
    "    ch.setFormatter(formatter)\n",
    "    logger.addHandler(ch)\n",
    "\n",
    "    return logger\n",
    "\n",
    "logger = get_logger()\n",
    "\n",
    "logger.info(\"hi!\")"
   ]
  },
  {
   "cell_type": "markdown",
   "metadata": {},
   "source": [
    "## 1. data loading"
   ]
  },
  {
   "cell_type": "markdown",
   "metadata": {},
   "source": [
    "the dataset can be downloaded here: https://www.kaggle.com/thegurusteam/spanish-high-speed-rail-system-ticket-pricing"
   ]
  },
  {
   "cell_type": "code",
   "execution_count": 4,
   "metadata": {
    "ExecuteTime": {
     "end_time": "2020-04-17T13:41:07.656700Z",
     "start_time": "2020-04-17T13:41:07.654507Z"
    }
   },
   "outputs": [],
   "source": [
    "#renfe = pd.read_parquet('../data/raw/renfe.parquet')  # about 60MB in .parquet file, but 3.5Gb in memory, be careful!\n",
    "#renfe = pd.read_csv('../data/raw/renfe.csv',infer_datetime_format=True)  \n"
   ]
  },
  {
   "cell_type": "code",
   "execution_count": 5,
   "metadata": {
    "ExecuteTime": {
     "end_time": "2020-04-17T13:41:37.277923Z",
     "start_time": "2020-04-17T13:41:09.919853Z"
    }
   },
   "outputs": [
    {
     "name": "stderr",
     "output_type": "stream",
     "text": [
      "2020-04-17 13:41:09,938 - s3fs - DEBUG - Setting up s3fs instance\n",
      "2020-04-17 13:41:10,030 - s3fs - DEBUG - Get directory listing page for dsla/ml-in-production/data\n"
     ]
    },
    {
     "name": "stdout",
     "output_type": "stream",
     "text": [
      "s3://dsla/ml-in-production/data/renfe.parquet\n"
     ]
    },
    {
     "name": "stderr",
     "output_type": "stream",
     "text": [
      "2020-04-17 13:41:10,578 - s3fs - DEBUG - Fetch: dsla/ml-in-production/data/renfe.parquet, 61947502-62013038\n",
      "2020-04-17 13:41:11,276 - s3fs - DEBUG - Fetch: dsla/ml-in-production/data/renfe.parquet, 7138430-12449078\n",
      "2020-04-17 13:41:19,262 - s3fs - DEBUG - Fetch: dsla/ml-in-production/data/renfe.parquet, 4-12381213\n",
      "2020-04-17 13:41:22,503 - s3fs - DEBUG - Fetch: dsla/ml-in-production/data/renfe.parquet, 7274184-32057204\n",
      "2020-04-17 13:41:27,429 - s3fs - DEBUG - Fetch: dsla/ml-in-production/data/renfe.parquet, 26814423-52160157\n",
      "2020-04-17 13:41:32,418 - s3fs - DEBUG - Fetch: dsla/ml-in-production/data/renfe.parquet, 46917374-47785943\n",
      "2020-04-17 13:41:32,746 - s3fs - DEBUG - Fetch: dsla/ml-in-production/data/renfe.parquet, 48187868-62013038\n",
      "2020-04-17 13:41:35,488 - s3fs - DEBUG - Fetch: dsla/ml-in-production/data/renfe.parquet, 58081695-58673628\n"
     ]
    }
   ],
   "source": [
    "# modified below code so that data can be read from  s3\n",
    "path = \"renfe.parquet\"\n",
    "bucket = \"dsla\"\n",
    "folder = \"ml-in-production/data\" #-sagemaker\n",
    "\n",
    "bucket_uri = f's3://{bucket}/{folder}/{path}'\n",
    "\n",
    "print(bucket_uri)\n",
    "\n",
    "renfe = pd.read_parquet(bucket_uri,engine='auto',columns=None)"
   ]
  },
  {
   "cell_type": "code",
   "execution_count": 6,
   "metadata": {
    "ExecuteTime": {
     "end_time": "2020-04-17T13:57:47.746226Z",
     "start_time": "2020-04-17T13:57:47.730732Z"
    }
   },
   "outputs": [
    {
     "data": {
      "text/html": [
       "<div>\n",
       "<style scoped>\n",
       "    .dataframe tbody tr th:only-of-type {\n",
       "        vertical-align: middle;\n",
       "    }\n",
       "\n",
       "    .dataframe tbody tr th {\n",
       "        vertical-align: top;\n",
       "    }\n",
       "\n",
       "    .dataframe thead th {\n",
       "        text-align: right;\n",
       "    }\n",
       "</style>\n",
       "<table border=\"1\" class=\"dataframe\">\n",
       "  <thead>\n",
       "    <tr style=\"text-align: right;\">\n",
       "      <th></th>\n",
       "      <th>insert_date</th>\n",
       "      <th>origin</th>\n",
       "      <th>destination</th>\n",
       "      <th>start_date</th>\n",
       "      <th>end_date</th>\n",
       "      <th>train_type</th>\n",
       "      <th>price</th>\n",
       "      <th>train_class</th>\n",
       "      <th>fare</th>\n",
       "    </tr>\n",
       "  </thead>\n",
       "  <tbody>\n",
       "    <tr>\n",
       "      <td>0</td>\n",
       "      <td>2019-08-21 03:42:10</td>\n",
       "      <td>SEVILLA</td>\n",
       "      <td>MADRID</td>\n",
       "      <td>2019-08-29 13:40:00</td>\n",
       "      <td>2019-08-29 16:10:00</td>\n",
       "      <td>AVE</td>\n",
       "      <td>47.30</td>\n",
       "      <td>Turista</td>\n",
       "      <td>Promo</td>\n",
       "    </tr>\n",
       "    <tr>\n",
       "      <td>1</td>\n",
       "      <td>2019-08-21 03:42:10</td>\n",
       "      <td>SEVILLA</td>\n",
       "      <td>MADRID</td>\n",
       "      <td>2019-08-29 14:45:00</td>\n",
       "      <td>2019-08-29 17:15:00</td>\n",
       "      <td>AVE</td>\n",
       "      <td>53.40</td>\n",
       "      <td>Turista</td>\n",
       "      <td>Promo</td>\n",
       "    </tr>\n",
       "    <tr>\n",
       "      <td>2</td>\n",
       "      <td>2019-08-21 03:42:10</td>\n",
       "      <td>SEVILLA</td>\n",
       "      <td>MADRID</td>\n",
       "      <td>2019-08-29 14:58:00</td>\n",
       "      <td>2019-08-29 17:50:00</td>\n",
       "      <td>ALVIA</td>\n",
       "      <td>NaN</td>\n",
       "      <td>Preferente</td>\n",
       "      <td>Promo</td>\n",
       "    </tr>\n",
       "    <tr>\n",
       "      <td>3</td>\n",
       "      <td>2019-08-21 03:42:10</td>\n",
       "      <td>SEVILLA</td>\n",
       "      <td>MADRID</td>\n",
       "      <td>2019-08-29 15:45:00</td>\n",
       "      <td>2019-08-29 18:15:00</td>\n",
       "      <td>AVE</td>\n",
       "      <td>61.45</td>\n",
       "      <td>Preferente</td>\n",
       "      <td>Promo</td>\n",
       "    </tr>\n",
       "    <tr>\n",
       "      <td>4</td>\n",
       "      <td>2019-08-21 03:42:10</td>\n",
       "      <td>SEVILLA</td>\n",
       "      <td>MADRID</td>\n",
       "      <td>2019-08-29 16:45:00</td>\n",
       "      <td>2019-08-29 19:17:00</td>\n",
       "      <td>AVE</td>\n",
       "      <td>60.30</td>\n",
       "      <td>Turista</td>\n",
       "      <td>Promo</td>\n",
       "    </tr>\n",
       "  </tbody>\n",
       "</table>\n",
       "</div>"
      ],
      "text/plain": [
       "          insert_date   origin destination          start_date  \\\n",
       "0 2019-08-21 03:42:10  SEVILLA      MADRID 2019-08-29 13:40:00   \n",
       "1 2019-08-21 03:42:10  SEVILLA      MADRID 2019-08-29 14:45:00   \n",
       "2 2019-08-21 03:42:10  SEVILLA      MADRID 2019-08-29 14:58:00   \n",
       "3 2019-08-21 03:42:10  SEVILLA      MADRID 2019-08-29 15:45:00   \n",
       "4 2019-08-21 03:42:10  SEVILLA      MADRID 2019-08-29 16:45:00   \n",
       "\n",
       "             end_date train_type  price train_class   fare  \n",
       "0 2019-08-29 16:10:00        AVE  47.30     Turista  Promo  \n",
       "1 2019-08-29 17:15:00        AVE  53.40     Turista  Promo  \n",
       "2 2019-08-29 17:50:00      ALVIA    NaN  Preferente  Promo  \n",
       "3 2019-08-29 18:15:00        AVE  61.45  Preferente  Promo  \n",
       "4 2019-08-29 19:17:00        AVE  60.30     Turista  Promo  "
      ]
     },
     "execution_count": 6,
     "metadata": {},
     "output_type": "execute_result"
    }
   ],
   "source": [
    "renfe.head()"
   ]
  },
  {
   "cell_type": "code",
   "execution_count": 7,
   "metadata": {
    "ExecuteTime": {
     "end_time": "2020-04-17T13:57:49.070638Z",
     "start_time": "2020-04-17T13:57:49.066174Z"
    }
   },
   "outputs": [
    {
     "data": {
      "text/plain": [
       "insert_date    datetime64[ns]\n",
       "origin                 object\n",
       "destination            object\n",
       "start_date     datetime64[ns]\n",
       "end_date       datetime64[ns]\n",
       "train_type             object\n",
       "price                 float64\n",
       "train_class            object\n",
       "fare                   object\n",
       "dtype: object"
      ]
     },
     "execution_count": 7,
     "metadata": {},
     "output_type": "execute_result"
    }
   ],
   "source": [
    "renfe.dtypes"
   ]
  },
  {
   "cell_type": "code",
   "execution_count": 8,
   "metadata": {
    "ExecuteTime": {
     "end_time": "2020-04-17T13:57:49.649924Z",
     "start_time": "2020-04-17T13:57:49.645504Z"
    }
   },
   "outputs": [
    {
     "name": "stdout",
     "output_type": "stream",
     "text": [
      "<class 'pandas.core.frame.DataFrame'>\n",
      "RangeIndex: 10800510 entries, 0 to 10800509\n",
      "Data columns (total 9 columns):\n",
      "insert_date    datetime64[ns]\n",
      "origin         object\n",
      "destination    object\n",
      "start_date     datetime64[ns]\n",
      "end_date       datetime64[ns]\n",
      "train_type     object\n",
      "price          float64\n",
      "train_class    object\n",
      "fare           object\n",
      "dtypes: datetime64[ns](3), float64(1), object(5)\n",
      "memory usage: 741.6+ MB\n"
     ]
    }
   ],
   "source": [
    "renfe.info()  # with deep memory usage will take a while...</div><i class=\"fa fa-lightbulb-o \"></i>"
   ]
  },
  {
   "cell_type": "markdown",
   "metadata": {},
   "source": [
    "## 2. data wrangling"
   ]
  },
  {
   "cell_type": "markdown",
   "metadata": {},
   "source": [
    "first of all, null values will be dropped. all null values are due to:\n",
    "- scrapping errors, specially at the beggining of the process\n",
    "- trains with no ticket available (usually full, canceled, etc.)"
   ]
  },
  {
   "cell_type": "code",
   "execution_count": 9,
   "metadata": {
    "ExecuteTime": {
     "end_time": "2020-04-17T13:57:54.607742Z",
     "start_time": "2020-04-17T13:57:51.618201Z"
    }
   },
   "outputs": [],
   "source": [
    "# filtering null values, inplace to modify original df\n",
    "\n",
    "renfe.dropna(inplace=True)"
   ]
  },
  {
   "cell_type": "markdown",
   "metadata": {},
   "source": [
    "as the goal is to predict ticket price in advance, some interesting features can be derived:\n",
    "- trip duration (in hours)\n",
    "- time to departure (in days)\n",
    "- hour of departure (24h)\n",
    "- week day of departure"
   ]
  },
  {
   "cell_type": "code",
   "execution_count": 10,
   "metadata": {
    "ExecuteTime": {
     "end_time": "2020-04-17T13:57:59.005827Z",
     "start_time": "2020-04-17T13:57:54.667137Z"
    }
   },
   "outputs": [],
   "source": [
    "# feature engineering / generation\n",
    "\n",
    "def add_features(renfe_df):\n",
    "\n",
    "    renfe_df['duration'] = (renfe_df['end_date'] - renfe_df['start_date']).dt.seconds / 3600\n",
    "    renfe_df['time_to_departure'] = (renfe_df['start_date'].dt.tz_localize('Europe/Madrid').dt.tz_convert('UTC') \\\n",
    "                                   - renfe_df['insert_date'].dt.tz_localize('UTC')).dt.days\n",
    "    renfe_df['hour'] = renfe_df['start_date'].dt.hour\n",
    "    renfe_df['weekday'] = renfe_df['start_date'].dt.dayofweek\n",
    "\n",
    "add_features(renfe)"
   ]
  },
  {
   "cell_type": "markdown",
   "metadata": {},
   "source": [
    "following, perform train - validation - test splits:"
   ]
  },
  {
   "cell_type": "code",
   "execution_count": 11,
   "metadata": {
    "ExecuteTime": {
     "end_time": "2020-04-17T13:58:09.074440Z",
     "start_time": "2020-04-17T13:58:03.235339Z"
    }
   },
   "outputs": [],
   "source": [
    "# train - test split\n",
    "\n",
    "from sklearn.model_selection import train_test_split\n",
    "\n",
    "renfe_train_validation, renfe_test = train_test_split(renfe)\n",
    "renfe_train, renfe_validation = train_test_split(renfe_train_validation)\n",
    "\n",
    "# to avoid chained assignment 'pandas warning'\n",
    "\n",
    "renfe_train = renfe_train.copy()\n",
    "renfe_validation = renfe_validation.copy()\n",
    "renfe_test = renfe_test.copy()"
   ]
  },
  {
   "cell_type": "code",
   "execution_count": 12,
   "metadata": {
    "ExecuteTime": {
     "end_time": "2020-04-17T13:58:09.326479Z",
     "start_time": "2020-04-17T13:58:09.319952Z"
    }
   },
   "outputs": [
    {
     "name": "stderr",
     "output_type": "stream",
     "text": [
      "2020-04-17 13:58:09,321 - root - INFO - n obs in training set are: 5699503\n",
      "2020-04-17 13:58:09,322 - root - INFO - n obs in validation set are: 1899835\n",
      "2020-04-17 13:58:09,323 - root - INFO - n obs in test set are: 2533113\n"
     ]
    }
   ],
   "source": [
    "logger.info(f'n obs in training set are: {renfe_train.shape[0]}')\n",
    "logger.info(f'n obs in validation set are: {renfe_validation.shape[0]}')\n",
    "logger.info(f'n obs in test set are: {renfe_test.shape[0]}')"
   ]
  },
  {
   "cell_type": "markdown",
   "metadata": {},
   "source": [
    "data looks like this so far:"
   ]
  },
  {
   "cell_type": "code",
   "execution_count": 13,
   "metadata": {
    "ExecuteTime": {
     "end_time": "2020-04-17T13:58:09.579342Z",
     "start_time": "2020-04-17T13:58:09.566215Z"
    }
   },
   "outputs": [
    {
     "data": {
      "text/html": [
       "<div>\n",
       "<style scoped>\n",
       "    .dataframe tbody tr th:only-of-type {\n",
       "        vertical-align: middle;\n",
       "    }\n",
       "\n",
       "    .dataframe tbody tr th {\n",
       "        vertical-align: top;\n",
       "    }\n",
       "\n",
       "    .dataframe thead th {\n",
       "        text-align: right;\n",
       "    }\n",
       "</style>\n",
       "<table border=\"1\" class=\"dataframe\">\n",
       "  <thead>\n",
       "    <tr style=\"text-align: right;\">\n",
       "      <th></th>\n",
       "      <th>9990470</th>\n",
       "      <th>10243411</th>\n",
       "      <th>7292010</th>\n",
       "      <th>6467341</th>\n",
       "      <th>1184519</th>\n",
       "    </tr>\n",
       "  </thead>\n",
       "  <tbody>\n",
       "    <tr>\n",
       "      <td>insert_date</td>\n",
       "      <td>2019-08-01 03:26:13</td>\n",
       "      <td>2019-08-04 11:48:31</td>\n",
       "      <td>2019-05-26 07:16:37</td>\n",
       "      <td>2019-05-17 09:18:11</td>\n",
       "      <td>2019-09-02 09:34:21</td>\n",
       "    </tr>\n",
       "    <tr>\n",
       "      <td>origin</td>\n",
       "      <td>SEVILLA</td>\n",
       "      <td>SEVILLA</td>\n",
       "      <td>MADRID</td>\n",
       "      <td>VALENCIA</td>\n",
       "      <td>SEVILLA</td>\n",
       "    </tr>\n",
       "    <tr>\n",
       "      <td>destination</td>\n",
       "      <td>MADRID</td>\n",
       "      <td>MADRID</td>\n",
       "      <td>VALENCIA</td>\n",
       "      <td>MADRID</td>\n",
       "      <td>MADRID</td>\n",
       "    </tr>\n",
       "    <tr>\n",
       "      <td>start_date</td>\n",
       "      <td>2019-09-13 19:45:00</td>\n",
       "      <td>2019-08-14 14:45:00</td>\n",
       "      <td>2019-07-14 14:10:00</td>\n",
       "      <td>2019-05-23 08:00:00</td>\n",
       "      <td>2019-09-15 16:15:00</td>\n",
       "    </tr>\n",
       "    <tr>\n",
       "      <td>end_date</td>\n",
       "      <td>2019-09-13 22:17:00</td>\n",
       "      <td>2019-08-14 17:15:00</td>\n",
       "      <td>2019-07-14 16:03:00</td>\n",
       "      <td>2019-05-23 09:47:00</td>\n",
       "      <td>2019-09-15 18:54:00</td>\n",
       "    </tr>\n",
       "    <tr>\n",
       "      <td>train_type</td>\n",
       "      <td>AVE</td>\n",
       "      <td>AVE</td>\n",
       "      <td>AVE</td>\n",
       "      <td>AVE</td>\n",
       "      <td>AVE</td>\n",
       "    </tr>\n",
       "    <tr>\n",
       "      <td>price</td>\n",
       "      <td>47.3</td>\n",
       "      <td>53.5</td>\n",
       "      <td>33.65</td>\n",
       "      <td>57.75</td>\n",
       "      <td>69.4</td>\n",
       "    </tr>\n",
       "    <tr>\n",
       "      <td>train_class</td>\n",
       "      <td>Turista</td>\n",
       "      <td>Preferente</td>\n",
       "      <td>Turista</td>\n",
       "      <td>Turista</td>\n",
       "      <td>Preferente</td>\n",
       "    </tr>\n",
       "    <tr>\n",
       "      <td>fare</td>\n",
       "      <td>Promo</td>\n",
       "      <td>Promo</td>\n",
       "      <td>Promo</td>\n",
       "      <td>Promo</td>\n",
       "      <td>Promo</td>\n",
       "    </tr>\n",
       "    <tr>\n",
       "      <td>duration</td>\n",
       "      <td>2.53333</td>\n",
       "      <td>2.5</td>\n",
       "      <td>1.88333</td>\n",
       "      <td>1.78333</td>\n",
       "      <td>2.65</td>\n",
       "    </tr>\n",
       "    <tr>\n",
       "      <td>time_to_departure</td>\n",
       "      <td>43</td>\n",
       "      <td>10</td>\n",
       "      <td>49</td>\n",
       "      <td>5</td>\n",
       "      <td>13</td>\n",
       "    </tr>\n",
       "    <tr>\n",
       "      <td>hour</td>\n",
       "      <td>19</td>\n",
       "      <td>14</td>\n",
       "      <td>14</td>\n",
       "      <td>8</td>\n",
       "      <td>16</td>\n",
       "    </tr>\n",
       "    <tr>\n",
       "      <td>weekday</td>\n",
       "      <td>4</td>\n",
       "      <td>2</td>\n",
       "      <td>6</td>\n",
       "      <td>3</td>\n",
       "      <td>6</td>\n",
       "    </tr>\n",
       "  </tbody>\n",
       "</table>\n",
       "</div>"
      ],
      "text/plain": [
       "                              9990470              10243411  \\\n",
       "insert_date        2019-08-01 03:26:13  2019-08-04 11:48:31   \n",
       "origin                         SEVILLA              SEVILLA   \n",
       "destination                     MADRID               MADRID   \n",
       "start_date         2019-09-13 19:45:00  2019-08-14 14:45:00   \n",
       "end_date           2019-09-13 22:17:00  2019-08-14 17:15:00   \n",
       "train_type                         AVE                  AVE   \n",
       "price                             47.3                 53.5   \n",
       "train_class                    Turista           Preferente   \n",
       "fare                             Promo                Promo   \n",
       "duration                       2.53333                  2.5   \n",
       "time_to_departure                   43                   10   \n",
       "hour                                19                   14   \n",
       "weekday                              4                    2   \n",
       "\n",
       "                              7292010              6467341   \\\n",
       "insert_date        2019-05-26 07:16:37  2019-05-17 09:18:11   \n",
       "origin                          MADRID             VALENCIA   \n",
       "destination                   VALENCIA               MADRID   \n",
       "start_date         2019-07-14 14:10:00  2019-05-23 08:00:00   \n",
       "end_date           2019-07-14 16:03:00  2019-05-23 09:47:00   \n",
       "train_type                         AVE                  AVE   \n",
       "price                            33.65                57.75   \n",
       "train_class                    Turista              Turista   \n",
       "fare                             Promo                Promo   \n",
       "duration                       1.88333              1.78333   \n",
       "time_to_departure                   49                    5   \n",
       "hour                                14                    8   \n",
       "weekday                              6                    3   \n",
       "\n",
       "                              1184519   \n",
       "insert_date        2019-09-02 09:34:21  \n",
       "origin                         SEVILLA  \n",
       "destination                     MADRID  \n",
       "start_date         2019-09-15 16:15:00  \n",
       "end_date           2019-09-15 18:54:00  \n",
       "train_type                         AVE  \n",
       "price                             69.4  \n",
       "train_class                 Preferente  \n",
       "fare                             Promo  \n",
       "duration                          2.65  \n",
       "time_to_departure                   13  \n",
       "hour                                16  \n",
       "weekday                              6  "
      ]
     },
     "execution_count": 13,
     "metadata": {},
     "output_type": "execute_result"
    }
   ],
   "source": [
    "renfe_train.head().T"
   ]
  },
  {
   "cell_type": "markdown",
   "metadata": {},
   "source": [
    "following, there are some categorical columns that have to be encoded (most ML algorithms will need that):"
   ]
  },
  {
   "cell_type": "code",
   "execution_count": 14,
   "metadata": {
    "ExecuteTime": {
     "end_time": "2020-04-17T13:58:31.985433Z",
     "start_time": "2020-04-17T13:58:09.842097Z"
    }
   },
   "outputs": [
    {
     "name": "stderr",
     "output_type": "stream",
     "text": [
      "2020-04-17 13:58:11,992 - root - INFO - transforming training set...\n",
      "2020-04-17 13:58:23,331 - root - INFO - transforming validation set...\n",
      "2020-04-17 13:58:27,002 - root - INFO - transforming test set...\n"
     ]
    }
   ],
   "source": [
    "# preprocessing\n",
    "\n",
    "from sklearn.preprocessing import OrdinalEncoder\n",
    "import joblib\n",
    "\n",
    "encode_cols = ['train_type', 'train_class', 'fare', 'origin', 'destination']\n",
    "encoder = OrdinalEncoder()\n",
    "encoder.fit(renfe[encode_cols])  # warning, it should be fit only on training data!\n",
    "joblib.dump(encoder, '../output/pickle_data/encoder.joblib')\n",
    "\n",
    "for split, df in {'training': renfe_train, \n",
    "                  'validation': renfe_validation, \n",
    "                  'test': renfe_test}.items():\n",
    "    logger.info(f'transforming {split} set...')\n",
    "    df.loc[:,encode_cols] = encoder.transform(df.loc[:,encode_cols])"
   ]
  },
  {
   "cell_type": "markdown",
   "metadata": {},
   "source": [
    "with those columns encoded, data looks like this:"
   ]
  },
  {
   "cell_type": "code",
   "execution_count": 15,
   "metadata": {
    "ExecuteTime": {
     "end_time": "2020-04-17T13:58:32.276716Z",
     "start_time": "2020-04-17T13:58:32.264563Z"
    }
   },
   "outputs": [
    {
     "data": {
      "text/html": [
       "<div>\n",
       "<style scoped>\n",
       "    .dataframe tbody tr th:only-of-type {\n",
       "        vertical-align: middle;\n",
       "    }\n",
       "\n",
       "    .dataframe tbody tr th {\n",
       "        vertical-align: top;\n",
       "    }\n",
       "\n",
       "    .dataframe thead th {\n",
       "        text-align: right;\n",
       "    }\n",
       "</style>\n",
       "<table border=\"1\" class=\"dataframe\">\n",
       "  <thead>\n",
       "    <tr style=\"text-align: right;\">\n",
       "      <th></th>\n",
       "      <th>9990470</th>\n",
       "      <th>10243411</th>\n",
       "      <th>7292010</th>\n",
       "      <th>6467341</th>\n",
       "      <th>1184519</th>\n",
       "    </tr>\n",
       "  </thead>\n",
       "  <tbody>\n",
       "    <tr>\n",
       "      <td>insert_date</td>\n",
       "      <td>2019-08-01 03:26:13</td>\n",
       "      <td>2019-08-04 11:48:31</td>\n",
       "      <td>2019-05-26 07:16:37</td>\n",
       "      <td>2019-05-17 09:18:11</td>\n",
       "      <td>2019-09-02 09:34:21</td>\n",
       "    </tr>\n",
       "    <tr>\n",
       "      <td>origin</td>\n",
       "      <td>4</td>\n",
       "      <td>4</td>\n",
       "      <td>2</td>\n",
       "      <td>5</td>\n",
       "      <td>4</td>\n",
       "    </tr>\n",
       "    <tr>\n",
       "      <td>destination</td>\n",
       "      <td>2</td>\n",
       "      <td>2</td>\n",
       "      <td>5</td>\n",
       "      <td>2</td>\n",
       "      <td>2</td>\n",
       "    </tr>\n",
       "    <tr>\n",
       "      <td>start_date</td>\n",
       "      <td>2019-09-13 19:45:00</td>\n",
       "      <td>2019-08-14 14:45:00</td>\n",
       "      <td>2019-07-14 14:10:00</td>\n",
       "      <td>2019-05-23 08:00:00</td>\n",
       "      <td>2019-09-15 16:15:00</td>\n",
       "    </tr>\n",
       "    <tr>\n",
       "      <td>end_date</td>\n",
       "      <td>2019-09-13 22:17:00</td>\n",
       "      <td>2019-08-14 17:15:00</td>\n",
       "      <td>2019-07-14 16:03:00</td>\n",
       "      <td>2019-05-23 09:47:00</td>\n",
       "      <td>2019-09-15 18:54:00</td>\n",
       "    </tr>\n",
       "    <tr>\n",
       "      <td>train_type</td>\n",
       "      <td>2</td>\n",
       "      <td>2</td>\n",
       "      <td>2</td>\n",
       "      <td>2</td>\n",
       "      <td>2</td>\n",
       "    </tr>\n",
       "    <tr>\n",
       "      <td>price</td>\n",
       "      <td>47.3</td>\n",
       "      <td>53.5</td>\n",
       "      <td>33.65</td>\n",
       "      <td>57.75</td>\n",
       "      <td>69.4</td>\n",
       "    </tr>\n",
       "    <tr>\n",
       "      <td>train_class</td>\n",
       "      <td>4</td>\n",
       "      <td>2</td>\n",
       "      <td>4</td>\n",
       "      <td>4</td>\n",
       "      <td>2</td>\n",
       "    </tr>\n",
       "    <tr>\n",
       "      <td>fare</td>\n",
       "      <td>8</td>\n",
       "      <td>8</td>\n",
       "      <td>8</td>\n",
       "      <td>8</td>\n",
       "      <td>8</td>\n",
       "    </tr>\n",
       "    <tr>\n",
       "      <td>duration</td>\n",
       "      <td>2.53333</td>\n",
       "      <td>2.5</td>\n",
       "      <td>1.88333</td>\n",
       "      <td>1.78333</td>\n",
       "      <td>2.65</td>\n",
       "    </tr>\n",
       "    <tr>\n",
       "      <td>time_to_departure</td>\n",
       "      <td>43</td>\n",
       "      <td>10</td>\n",
       "      <td>49</td>\n",
       "      <td>5</td>\n",
       "      <td>13</td>\n",
       "    </tr>\n",
       "    <tr>\n",
       "      <td>hour</td>\n",
       "      <td>19</td>\n",
       "      <td>14</td>\n",
       "      <td>14</td>\n",
       "      <td>8</td>\n",
       "      <td>16</td>\n",
       "    </tr>\n",
       "    <tr>\n",
       "      <td>weekday</td>\n",
       "      <td>4</td>\n",
       "      <td>2</td>\n",
       "      <td>6</td>\n",
       "      <td>3</td>\n",
       "      <td>6</td>\n",
       "    </tr>\n",
       "  </tbody>\n",
       "</table>\n",
       "</div>"
      ],
      "text/plain": [
       "                              9990470              10243411  \\\n",
       "insert_date        2019-08-01 03:26:13  2019-08-04 11:48:31   \n",
       "origin                               4                    4   \n",
       "destination                          2                    2   \n",
       "start_date         2019-09-13 19:45:00  2019-08-14 14:45:00   \n",
       "end_date           2019-09-13 22:17:00  2019-08-14 17:15:00   \n",
       "train_type                           2                    2   \n",
       "price                             47.3                 53.5   \n",
       "train_class                          4                    2   \n",
       "fare                                 8                    8   \n",
       "duration                       2.53333                  2.5   \n",
       "time_to_departure                   43                   10   \n",
       "hour                                19                   14   \n",
       "weekday                              4                    2   \n",
       "\n",
       "                              7292010              6467341   \\\n",
       "insert_date        2019-05-26 07:16:37  2019-05-17 09:18:11   \n",
       "origin                               2                    5   \n",
       "destination                          5                    2   \n",
       "start_date         2019-07-14 14:10:00  2019-05-23 08:00:00   \n",
       "end_date           2019-07-14 16:03:00  2019-05-23 09:47:00   \n",
       "train_type                           2                    2   \n",
       "price                            33.65                57.75   \n",
       "train_class                          4                    4   \n",
       "fare                                 8                    8   \n",
       "duration                       1.88333              1.78333   \n",
       "time_to_departure                   49                    5   \n",
       "hour                                14                    8   \n",
       "weekday                              6                    3   \n",
       "\n",
       "                              1184519   \n",
       "insert_date        2019-09-02 09:34:21  \n",
       "origin                               4  \n",
       "destination                          2  \n",
       "start_date         2019-09-15 16:15:00  \n",
       "end_date           2019-09-15 18:54:00  \n",
       "train_type                           2  \n",
       "price                             69.4  \n",
       "train_class                          2  \n",
       "fare                                 8  \n",
       "duration                          2.65  \n",
       "time_to_departure                   13  \n",
       "hour                                16  \n",
       "weekday                              6  "
      ]
     },
     "execution_count": 15,
     "metadata": {},
     "output_type": "execute_result"
    }
   ],
   "source": [
    "renfe_train.head().T"
   ]
  },
  {
   "cell_type": "markdown",
   "metadata": {},
   "source": [
    "## 3. upload data to S3"
   ]
  },
  {
   "cell_type": "markdown",
   "metadata": {},
   "source": [
    "to use sagemaker using aws apis (sagemaker or boto) data must be formated in a particular way and stored in aws s3"
   ]
  },
  {
   "cell_type": "code",
   "execution_count": 16,
   "metadata": {
    "ExecuteTime": {
     "end_time": "2020-04-17T13:58:41.516072Z",
     "start_time": "2020-04-17T13:58:41.315798Z"
    }
   },
   "outputs": [
    {
     "data": {
      "text/html": [
       "<div>\n",
       "<style scoped>\n",
       "    .dataframe tbody tr th:only-of-type {\n",
       "        vertical-align: middle;\n",
       "    }\n",
       "\n",
       "    .dataframe tbody tr th {\n",
       "        vertical-align: top;\n",
       "    }\n",
       "\n",
       "    .dataframe thead th {\n",
       "        text-align: right;\n",
       "    }\n",
       "</style>\n",
       "<table border=\"1\" class=\"dataframe\">\n",
       "  <thead>\n",
       "    <tr style=\"text-align: right;\">\n",
       "      <th></th>\n",
       "      <th>price</th>\n",
       "      <th>train_type</th>\n",
       "      <th>train_class</th>\n",
       "      <th>fare</th>\n",
       "      <th>duration</th>\n",
       "      <th>time_to_departure</th>\n",
       "      <th>hour</th>\n",
       "      <th>weekday</th>\n",
       "    </tr>\n",
       "  </thead>\n",
       "  <tbody>\n",
       "    <tr>\n",
       "      <td>9990470</td>\n",
       "      <td>47.30</td>\n",
       "      <td>2.0</td>\n",
       "      <td>4.0</td>\n",
       "      <td>8.0</td>\n",
       "      <td>2.533333</td>\n",
       "      <td>43</td>\n",
       "      <td>19</td>\n",
       "      <td>4</td>\n",
       "    </tr>\n",
       "    <tr>\n",
       "      <td>10243411</td>\n",
       "      <td>53.50</td>\n",
       "      <td>2.0</td>\n",
       "      <td>2.0</td>\n",
       "      <td>8.0</td>\n",
       "      <td>2.500000</td>\n",
       "      <td>10</td>\n",
       "      <td>14</td>\n",
       "      <td>2</td>\n",
       "    </tr>\n",
       "    <tr>\n",
       "      <td>7292010</td>\n",
       "      <td>33.65</td>\n",
       "      <td>2.0</td>\n",
       "      <td>4.0</td>\n",
       "      <td>8.0</td>\n",
       "      <td>1.883333</td>\n",
       "      <td>49</td>\n",
       "      <td>14</td>\n",
       "      <td>6</td>\n",
       "    </tr>\n",
       "    <tr>\n",
       "      <td>6467341</td>\n",
       "      <td>57.75</td>\n",
       "      <td>2.0</td>\n",
       "      <td>4.0</td>\n",
       "      <td>8.0</td>\n",
       "      <td>1.783333</td>\n",
       "      <td>5</td>\n",
       "      <td>8</td>\n",
       "      <td>3</td>\n",
       "    </tr>\n",
       "    <tr>\n",
       "      <td>1184519</td>\n",
       "      <td>69.40</td>\n",
       "      <td>2.0</td>\n",
       "      <td>2.0</td>\n",
       "      <td>8.0</td>\n",
       "      <td>2.650000</td>\n",
       "      <td>13</td>\n",
       "      <td>16</td>\n",
       "      <td>6</td>\n",
       "    </tr>\n",
       "  </tbody>\n",
       "</table>\n",
       "</div>"
      ],
      "text/plain": [
       "          price  train_type  train_class  fare  duration  time_to_departure  \\\n",
       "9990470   47.30         2.0          4.0   8.0  2.533333                 43   \n",
       "10243411  53.50         2.0          2.0   8.0  2.500000                 10   \n",
       "7292010   33.65         2.0          4.0   8.0  1.883333                 49   \n",
       "6467341   57.75         2.0          4.0   8.0  1.783333                  5   \n",
       "1184519   69.40         2.0          2.0   8.0  2.650000                 13   \n",
       "\n",
       "          hour  weekday  \n",
       "9990470     19        4  \n",
       "10243411    14        2  \n",
       "7292010     14        6  \n",
       "6467341      8        3  \n",
       "1184519     16        6  "
      ]
     },
     "execution_count": 16,
     "metadata": {},
     "output_type": "execute_result"
    }
   ],
   "source": [
    "# target must be in the first position of csv columns for xgboost via sagemaker API\n",
    "\n",
    "target = 'price'\n",
    "features = ['train_type', 'train_class', 'fare', 'duration', 'time_to_departure', 'hour', 'weekday']\n",
    "\n",
    "renfe_train[[target] + features].head()"
   ]
  },
  {
   "cell_type": "markdown",
   "metadata": {},
   "source": [
    "data must be pushed to s3, aws credentials must be properly set for this purpose (`/home/user/.aws/credentials`)."
   ]
  },
  {
   "cell_type": "code",
   "execution_count": 17,
   "metadata": {
    "ExecuteTime": {
     "end_time": "2020-04-17T13:58:43.455347Z",
     "start_time": "2020-04-17T13:58:43.450344Z"
    },
    "lines_to_next_cell": 2
   },
   "outputs": [
    {
     "name": "stdout",
     "output_type": "stream",
     "text": [
      "s3://eu.com.syngenta-datascience-model-training/Preetam.Balijepalli@syngenta.com/ml-in-production-sagemaker/train\n",
      "s3://eu.com.syngenta-datascience-model-training/Preetam.Balijepalli@syngenta.com/ml-in-production-sagemaker/validation\n",
      "s3://eu.com.syngenta-datascience-model-training/Preetam.Balijepalli@syngenta.com/ml-in-production-sagemaker/model\n"
     ]
    }
   ],
   "source": [
    "# S3 bucket for saving code and model artifacts (will be created if it doesn't exists).\n",
    "BUCKET_NAME = 'eu.com.syngenta-datascience-model-training'\n",
    "#BUCKET_NAME = 'dsla'\n",
    "EXPERIMENT_NAME = 'ml-in-production-sagemaker'\n",
    "\n",
    "SCHEMA_NAME = 's3:/' \n",
    "\n",
    "TRAIN_CONTAINER_NAME= 'train'\n",
    "VALIDATION_CONTAINER_NAME = 'validation'\n",
    "MODEL_CONTAINER_NAME =  'model'\n",
    "\n",
    "#import getpass\n",
    "#USER_NAME = getpass.getuser()\n",
    "#print(USER_NAME)\n",
    "\n",
    "USER_NAME = 'Preetam.Balijepalli@syngenta.com' \n",
    "\n",
    "s3_train =  f'{SCHEMA_NAME}/{BUCKET_NAME}/{USER_NAME}/{ EXPERIMENT_NAME}/{TRAIN_CONTAINER_NAME}'\n",
    "s3_validation =  f'{SCHEMA_NAME}/{BUCKET_NAME}/{USER_NAME}/{ EXPERIMENT_NAME}/{VALIDATION_CONTAINER_NAME}'\n",
    "s3_model_output = f'{SCHEMA_NAME}/{BUCKET_NAME}/{USER_NAME}/{ EXPERIMENT_NAME}/{MODEL_CONTAINER_NAME}'\n",
    "\n",
    "print(s3_train)\n",
    "print(s3_validation)\n",
    "print(s3_model_output)"
   ]
  },
  {
   "cell_type": "code",
   "execution_count": 18,
   "metadata": {
    "ExecuteTime": {
     "end_time": "2020-04-17T14:06:02.788991Z",
     "start_time": "2020-04-17T13:58:44.497699Z"
    }
   },
   "outputs": [
    {
     "name": "stderr",
     "output_type": "stream",
     "text": [
      "2020-04-17 13:58:44,513 - s3fs - DEBUG - Setting up s3fs instance\n",
      "2020-04-17 13:58:44,690 - s3fs - DEBUG - Setting up s3fs instance\n",
      "2020-04-17 13:58:45,860 - s3fs - DEBUG - Initiate upload for <File-like object S3FileSystem, eu.com.syngenta-datascience-model-training/Preetam.Balijepalli@syngenta.com/ml-in-production-sagemaker/train/train.csv>\n",
      "2020-04-17 13:58:45,861 - s3fs - DEBUG - CALL: create_multipart_upload - ({},) - {'Bucket': 'eu.com.syngenta-datascience-model-training', 'Key': 'Preetam.Balijepalli@syngenta.com/ml-in-production-sagemaker/train/train.csv', 'ACL': ''}\n",
      "2020-04-17 13:58:46,338 - s3fs - DEBUG - Upload for <File-like object S3FileSystem, eu.com.syngenta-datascience-model-training/Preetam.Balijepalli@syngenta.com/ml-in-production-sagemaker/train/train.csv>, final=False, loc=5247748, buffer loc=5247748\n",
      "2020-04-17 13:58:46,340 - s3fs - DEBUG - Upload chunk <File-like object S3FileSystem, eu.com.syngenta-datascience-model-training/Preetam.Balijepalli@syngenta.com/ml-in-production-sagemaker/train/train.csv>, 1\n",
      "2020-04-17 13:58:46,340 - s3fs - DEBUG - CALL: upload_part - ({},) - {'Bucket': 'eu.com.syngenta-datascience-model-training', 'PartNumber': 1, 'UploadId': 'aNb89ioyYAXswXO2x2oU6D6SV00AdpTmNtgTFOSBLvMdQpIjcG8J1dp4V5SpcY0RbKRgMJ5gZVX19y0djLQt0g7Px6MDDw61bdbOJ3iFnEQoakGK2aTXKk0QSFj3O5OU', 'Key': 'Preetam.Balijepalli@syngenta.com/ml-in-production-sagemaker/train/train.csv'}\n",
      "2020-04-17 13:58:53,332 - s3fs - DEBUG - Upload for <File-like object S3FileSystem, eu.com.syngenta-datascience-model-training/Preetam.Balijepalli@syngenta.com/ml-in-production-sagemaker/train/train.csv>, final=False, loc=10495577, buffer loc=5247829\n",
      "2020-04-17 13:58:53,334 - s3fs - DEBUG - Upload chunk <File-like object S3FileSystem, eu.com.syngenta-datascience-model-training/Preetam.Balijepalli@syngenta.com/ml-in-production-sagemaker/train/train.csv>, 2\n",
      "2020-04-17 13:58:53,335 - s3fs - DEBUG - CALL: upload_part - ({},) - {'Bucket': 'eu.com.syngenta-datascience-model-training', 'PartNumber': 2, 'UploadId': 'aNb89ioyYAXswXO2x2oU6D6SV00AdpTmNtgTFOSBLvMdQpIjcG8J1dp4V5SpcY0RbKRgMJ5gZVX19y0djLQt0g7Px6MDDw61bdbOJ3iFnEQoakGK2aTXKk0QSFj3O5OU', 'Key': 'Preetam.Balijepalli@syngenta.com/ml-in-production-sagemaker/train/train.csv'}\n",
      "2020-04-17 13:59:00,743 - s3fs - DEBUG - Upload for <File-like object S3FileSystem, eu.com.syngenta-datascience-model-training/Preetam.Balijepalli@syngenta.com/ml-in-production-sagemaker/train/train.csv>, final=False, loc=15743438, buffer loc=5247861\n",
      "2020-04-17 13:59:00,746 - s3fs - DEBUG - Upload chunk <File-like object S3FileSystem, eu.com.syngenta-datascience-model-training/Preetam.Balijepalli@syngenta.com/ml-in-production-sagemaker/train/train.csv>, 3\n",
      "2020-04-17 13:59:00,746 - s3fs - DEBUG - CALL: upload_part - ({},) - {'Bucket': 'eu.com.syngenta-datascience-model-training', 'PartNumber': 3, 'UploadId': 'aNb89ioyYAXswXO2x2oU6D6SV00AdpTmNtgTFOSBLvMdQpIjcG8J1dp4V5SpcY0RbKRgMJ5gZVX19y0djLQt0g7Px6MDDw61bdbOJ3iFnEQoakGK2aTXKk0QSFj3O5OU', 'Key': 'Preetam.Balijepalli@syngenta.com/ml-in-production-sagemaker/train/train.csv'}\n",
      "2020-04-17 13:59:06,878 - s3fs - DEBUG - Upload for <File-like object S3FileSystem, eu.com.syngenta-datascience-model-training/Preetam.Balijepalli@syngenta.com/ml-in-production-sagemaker/train/train.csv>, final=False, loc=20990963, buffer loc=5247525\n",
      "2020-04-17 13:59:06,880 - s3fs - DEBUG - Upload chunk <File-like object S3FileSystem, eu.com.syngenta-datascience-model-training/Preetam.Balijepalli@syngenta.com/ml-in-production-sagemaker/train/train.csv>, 4\n",
      "2020-04-17 13:59:06,881 - s3fs - DEBUG - CALL: upload_part - ({},) - {'Bucket': 'eu.com.syngenta-datascience-model-training', 'PartNumber': 4, 'UploadId': 'aNb89ioyYAXswXO2x2oU6D6SV00AdpTmNtgTFOSBLvMdQpIjcG8J1dp4V5SpcY0RbKRgMJ5gZVX19y0djLQt0g7Px6MDDw61bdbOJ3iFnEQoakGK2aTXKk0QSFj3O5OU', 'Key': 'Preetam.Balijepalli@syngenta.com/ml-in-production-sagemaker/train/train.csv'}\n",
      "2020-04-17 13:59:12,934 - s3fs - DEBUG - Upload for <File-like object S3FileSystem, eu.com.syngenta-datascience-model-training/Preetam.Balijepalli@syngenta.com/ml-in-production-sagemaker/train/train.csv>, final=False, loc=26238971, buffer loc=5248008\n",
      "2020-04-17 13:59:12,937 - s3fs - DEBUG - Upload chunk <File-like object S3FileSystem, eu.com.syngenta-datascience-model-training/Preetam.Balijepalli@syngenta.com/ml-in-production-sagemaker/train/train.csv>, 5\n",
      "2020-04-17 13:59:12,937 - s3fs - DEBUG - CALL: upload_part - ({},) - {'Bucket': 'eu.com.syngenta-datascience-model-training', 'PartNumber': 5, 'UploadId': 'aNb89ioyYAXswXO2x2oU6D6SV00AdpTmNtgTFOSBLvMdQpIjcG8J1dp4V5SpcY0RbKRgMJ5gZVX19y0djLQt0g7Px6MDDw61bdbOJ3iFnEQoakGK2aTXKk0QSFj3O5OU', 'Key': 'Preetam.Balijepalli@syngenta.com/ml-in-production-sagemaker/train/train.csv'}\n",
      "2020-04-17 13:59:18,987 - s3fs - DEBUG - Upload for <File-like object S3FileSystem, eu.com.syngenta-datascience-model-training/Preetam.Balijepalli@syngenta.com/ml-in-production-sagemaker/train/train.csv>, final=False, loc=31486556, buffer loc=5247585\n",
      "2020-04-17 13:59:18,989 - s3fs - DEBUG - Upload chunk <File-like object S3FileSystem, eu.com.syngenta-datascience-model-training/Preetam.Balijepalli@syngenta.com/ml-in-production-sagemaker/train/train.csv>, 6\n",
      "2020-04-17 13:59:18,990 - s3fs - DEBUG - CALL: upload_part - ({},) - {'Bucket': 'eu.com.syngenta-datascience-model-training', 'PartNumber': 6, 'UploadId': 'aNb89ioyYAXswXO2x2oU6D6SV00AdpTmNtgTFOSBLvMdQpIjcG8J1dp4V5SpcY0RbKRgMJ5gZVX19y0djLQt0g7Px6MDDw61bdbOJ3iFnEQoakGK2aTXKk0QSFj3O5OU', 'Key': 'Preetam.Balijepalli@syngenta.com/ml-in-production-sagemaker/train/train.csv'}\n",
      "2020-04-17 13:59:26,429 - s3fs - DEBUG - Upload for <File-like object S3FileSystem, eu.com.syngenta-datascience-model-training/Preetam.Balijepalli@syngenta.com/ml-in-production-sagemaker/train/train.csv>, final=False, loc=36734850, buffer loc=5248294\n",
      "2020-04-17 13:59:26,432 - s3fs - DEBUG - Upload chunk <File-like object S3FileSystem, eu.com.syngenta-datascience-model-training/Preetam.Balijepalli@syngenta.com/ml-in-production-sagemaker/train/train.csv>, 7\n",
      "2020-04-17 13:59:26,432 - s3fs - DEBUG - CALL: upload_part - ({},) - {'Bucket': 'eu.com.syngenta-datascience-model-training', 'PartNumber': 7, 'UploadId': 'aNb89ioyYAXswXO2x2oU6D6SV00AdpTmNtgTFOSBLvMdQpIjcG8J1dp4V5SpcY0RbKRgMJ5gZVX19y0djLQt0g7Px6MDDw61bdbOJ3iFnEQoakGK2aTXKk0QSFj3O5OU', 'Key': 'Preetam.Balijepalli@syngenta.com/ml-in-production-sagemaker/train/train.csv'}\n",
      "2020-04-17 13:59:33,195 - s3fs - DEBUG - Upload for <File-like object S3FileSystem, eu.com.syngenta-datascience-model-training/Preetam.Balijepalli@syngenta.com/ml-in-production-sagemaker/train/train.csv>, final=False, loc=41982434, buffer loc=5247584\n",
      "2020-04-17 13:59:33,197 - s3fs - DEBUG - Upload chunk <File-like object S3FileSystem, eu.com.syngenta-datascience-model-training/Preetam.Balijepalli@syngenta.com/ml-in-production-sagemaker/train/train.csv>, 8\n",
      "2020-04-17 13:59:33,198 - s3fs - DEBUG - CALL: upload_part - ({},) - {'Bucket': 'eu.com.syngenta-datascience-model-training', 'PartNumber': 8, 'UploadId': 'aNb89ioyYAXswXO2x2oU6D6SV00AdpTmNtgTFOSBLvMdQpIjcG8J1dp4V5SpcY0RbKRgMJ5gZVX19y0djLQt0g7Px6MDDw61bdbOJ3iFnEQoakGK2aTXKk0QSFj3O5OU', 'Key': 'Preetam.Balijepalli@syngenta.com/ml-in-production-sagemaker/train/train.csv'}\n",
      "2020-04-17 13:59:38,550 - s3fs - DEBUG - Upload for <File-like object S3FileSystem, eu.com.syngenta-datascience-model-training/Preetam.Balijepalli@syngenta.com/ml-in-production-sagemaker/train/train.csv>, final=False, loc=47230077, buffer loc=5247643\n",
      "2020-04-17 13:59:38,553 - s3fs - DEBUG - Upload chunk <File-like object S3FileSystem, eu.com.syngenta-datascience-model-training/Preetam.Balijepalli@syngenta.com/ml-in-production-sagemaker/train/train.csv>, 9\n",
      "2020-04-17 13:59:38,554 - s3fs - DEBUG - CALL: upload_part - ({},) - {'Bucket': 'eu.com.syngenta-datascience-model-training', 'PartNumber': 9, 'UploadId': 'aNb89ioyYAXswXO2x2oU6D6SV00AdpTmNtgTFOSBLvMdQpIjcG8J1dp4V5SpcY0RbKRgMJ5gZVX19y0djLQt0g7Px6MDDw61bdbOJ3iFnEQoakGK2aTXKk0QSFj3O5OU', 'Key': 'Preetam.Balijepalli@syngenta.com/ml-in-production-sagemaker/train/train.csv'}\n",
      "2020-04-17 13:59:47,848 - s3fs - DEBUG - Upload for <File-like object S3FileSystem, eu.com.syngenta-datascience-model-training/Preetam.Balijepalli@syngenta.com/ml-in-production-sagemaker/train/train.csv>, final=False, loc=52477746, buffer loc=5247669\n"
     ]
    },
    {
     "name": "stderr",
     "output_type": "stream",
     "text": [
      "2020-04-17 13:59:47,851 - s3fs - DEBUG - Upload chunk <File-like object S3FileSystem, eu.com.syngenta-datascience-model-training/Preetam.Balijepalli@syngenta.com/ml-in-production-sagemaker/train/train.csv>, 10\n",
      "2020-04-17 13:59:47,851 - s3fs - DEBUG - CALL: upload_part - ({},) - {'Bucket': 'eu.com.syngenta-datascience-model-training', 'PartNumber': 10, 'UploadId': 'aNb89ioyYAXswXO2x2oU6D6SV00AdpTmNtgTFOSBLvMdQpIjcG8J1dp4V5SpcY0RbKRgMJ5gZVX19y0djLQt0g7Px6MDDw61bdbOJ3iFnEQoakGK2aTXKk0QSFj3O5OU', 'Key': 'Preetam.Balijepalli@syngenta.com/ml-in-production-sagemaker/train/train.csv'}\n",
      "2020-04-17 13:59:56,358 - s3fs - DEBUG - Upload for <File-like object S3FileSystem, eu.com.syngenta-datascience-model-training/Preetam.Balijepalli@syngenta.com/ml-in-production-sagemaker/train/train.csv>, final=False, loc=57725632, buffer loc=5247886\n",
      "2020-04-17 13:59:56,360 - s3fs - DEBUG - Upload chunk <File-like object S3FileSystem, eu.com.syngenta-datascience-model-training/Preetam.Balijepalli@syngenta.com/ml-in-production-sagemaker/train/train.csv>, 11\n",
      "2020-04-17 13:59:56,361 - s3fs - DEBUG - CALL: upload_part - ({},) - {'Bucket': 'eu.com.syngenta-datascience-model-training', 'PartNumber': 11, 'UploadId': 'aNb89ioyYAXswXO2x2oU6D6SV00AdpTmNtgTFOSBLvMdQpIjcG8J1dp4V5SpcY0RbKRgMJ5gZVX19y0djLQt0g7Px6MDDw61bdbOJ3iFnEQoakGK2aTXKk0QSFj3O5OU', 'Key': 'Preetam.Balijepalli@syngenta.com/ml-in-production-sagemaker/train/train.csv'}\n",
      "2020-04-17 14:00:03,531 - s3fs - DEBUG - Upload for <File-like object S3FileSystem, eu.com.syngenta-datascience-model-training/Preetam.Balijepalli@syngenta.com/ml-in-production-sagemaker/train/train.csv>, final=False, loc=62973808, buffer loc=5248176\n",
      "2020-04-17 14:00:03,533 - s3fs - DEBUG - Upload chunk <File-like object S3FileSystem, eu.com.syngenta-datascience-model-training/Preetam.Balijepalli@syngenta.com/ml-in-production-sagemaker/train/train.csv>, 12\n",
      "2020-04-17 14:00:03,534 - s3fs - DEBUG - CALL: upload_part - ({},) - {'Bucket': 'eu.com.syngenta-datascience-model-training', 'PartNumber': 12, 'UploadId': 'aNb89ioyYAXswXO2x2oU6D6SV00AdpTmNtgTFOSBLvMdQpIjcG8J1dp4V5SpcY0RbKRgMJ5gZVX19y0djLQt0g7Px6MDDw61bdbOJ3iFnEQoakGK2aTXKk0QSFj3O5OU', 'Key': 'Preetam.Balijepalli@syngenta.com/ml-in-production-sagemaker/train/train.csv'}\n",
      "2020-04-17 14:00:13,241 - s3fs - DEBUG - Upload for <File-like object S3FileSystem, eu.com.syngenta-datascience-model-training/Preetam.Balijepalli@syngenta.com/ml-in-production-sagemaker/train/train.csv>, final=False, loc=68221774, buffer loc=5247966\n",
      "2020-04-17 14:00:13,243 - s3fs - DEBUG - Upload chunk <File-like object S3FileSystem, eu.com.syngenta-datascience-model-training/Preetam.Balijepalli@syngenta.com/ml-in-production-sagemaker/train/train.csv>, 13\n",
      "2020-04-17 14:00:13,244 - s3fs - DEBUG - CALL: upload_part - ({},) - {'Bucket': 'eu.com.syngenta-datascience-model-training', 'PartNumber': 13, 'UploadId': 'aNb89ioyYAXswXO2x2oU6D6SV00AdpTmNtgTFOSBLvMdQpIjcG8J1dp4V5SpcY0RbKRgMJ5gZVX19y0djLQt0g7Px6MDDw61bdbOJ3iFnEQoakGK2aTXKk0QSFj3O5OU', 'Key': 'Preetam.Balijepalli@syngenta.com/ml-in-production-sagemaker/train/train.csv'}\n",
      "2020-04-17 14:00:23,178 - s3fs - DEBUG - Upload for <File-like object S3FileSystem, eu.com.syngenta-datascience-model-training/Preetam.Balijepalli@syngenta.com/ml-in-production-sagemaker/train/train.csv>, final=False, loc=73468862, buffer loc=5247088\n",
      "2020-04-17 14:00:23,181 - s3fs - DEBUG - Upload chunk <File-like object S3FileSystem, eu.com.syngenta-datascience-model-training/Preetam.Balijepalli@syngenta.com/ml-in-production-sagemaker/train/train.csv>, 14\n",
      "2020-04-17 14:00:23,181 - s3fs - DEBUG - CALL: upload_part - ({},) - {'Bucket': 'eu.com.syngenta-datascience-model-training', 'PartNumber': 14, 'UploadId': 'aNb89ioyYAXswXO2x2oU6D6SV00AdpTmNtgTFOSBLvMdQpIjcG8J1dp4V5SpcY0RbKRgMJ5gZVX19y0djLQt0g7Px6MDDw61bdbOJ3iFnEQoakGK2aTXKk0QSFj3O5OU', 'Key': 'Preetam.Balijepalli@syngenta.com/ml-in-production-sagemaker/train/train.csv'}\n",
      "2020-04-17 14:00:31,672 - s3fs - DEBUG - Upload for <File-like object S3FileSystem, eu.com.syngenta-datascience-model-training/Preetam.Balijepalli@syngenta.com/ml-in-production-sagemaker/train/train.csv>, final=False, loc=78716797, buffer loc=5247935\n",
      "2020-04-17 14:00:31,674 - s3fs - DEBUG - Upload chunk <File-like object S3FileSystem, eu.com.syngenta-datascience-model-training/Preetam.Balijepalli@syngenta.com/ml-in-production-sagemaker/train/train.csv>, 15\n",
      "2020-04-17 14:00:31,675 - s3fs - DEBUG - CALL: upload_part - ({},) - {'Bucket': 'eu.com.syngenta-datascience-model-training', 'PartNumber': 15, 'UploadId': 'aNb89ioyYAXswXO2x2oU6D6SV00AdpTmNtgTFOSBLvMdQpIjcG8J1dp4V5SpcY0RbKRgMJ5gZVX19y0djLQt0g7Px6MDDw61bdbOJ3iFnEQoakGK2aTXKk0QSFj3O5OU', 'Key': 'Preetam.Balijepalli@syngenta.com/ml-in-production-sagemaker/train/train.csv'}\n",
      "2020-04-17 14:00:40,736 - s3fs - DEBUG - Upload for <File-like object S3FileSystem, eu.com.syngenta-datascience-model-training/Preetam.Balijepalli@syngenta.com/ml-in-production-sagemaker/train/train.csv>, final=False, loc=83965037, buffer loc=5248240\n",
      "2020-04-17 14:00:40,739 - s3fs - DEBUG - Upload chunk <File-like object S3FileSystem, eu.com.syngenta-datascience-model-training/Preetam.Balijepalli@syngenta.com/ml-in-production-sagemaker/train/train.csv>, 16\n",
      "2020-04-17 14:00:40,739 - s3fs - DEBUG - CALL: upload_part - ({},) - {'Bucket': 'eu.com.syngenta-datascience-model-training', 'PartNumber': 16, 'UploadId': 'aNb89ioyYAXswXO2x2oU6D6SV00AdpTmNtgTFOSBLvMdQpIjcG8J1dp4V5SpcY0RbKRgMJ5gZVX19y0djLQt0g7Px6MDDw61bdbOJ3iFnEQoakGK2aTXKk0QSFj3O5OU', 'Key': 'Preetam.Balijepalli@syngenta.com/ml-in-production-sagemaker/train/train.csv'}\n",
      "2020-04-17 14:00:50,405 - s3fs - DEBUG - Upload for <File-like object S3FileSystem, eu.com.syngenta-datascience-model-training/Preetam.Balijepalli@syngenta.com/ml-in-production-sagemaker/train/train.csv>, final=False, loc=89212123, buffer loc=5247086\n",
      "2020-04-17 14:00:50,407 - s3fs - DEBUG - Upload chunk <File-like object S3FileSystem, eu.com.syngenta-datascience-model-training/Preetam.Balijepalli@syngenta.com/ml-in-production-sagemaker/train/train.csv>, 17\n",
      "2020-04-17 14:00:50,407 - s3fs - DEBUG - CALL: upload_part - ({},) - {'Bucket': 'eu.com.syngenta-datascience-model-training', 'PartNumber': 17, 'UploadId': 'aNb89ioyYAXswXO2x2oU6D6SV00AdpTmNtgTFOSBLvMdQpIjcG8J1dp4V5SpcY0RbKRgMJ5gZVX19y0djLQt0g7Px6MDDw61bdbOJ3iFnEQoakGK2aTXKk0QSFj3O5OU', 'Key': 'Preetam.Balijepalli@syngenta.com/ml-in-production-sagemaker/train/train.csv'}\n",
      "2020-04-17 14:00:58,815 - s3fs - DEBUG - Upload for <File-like object S3FileSystem, eu.com.syngenta-datascience-model-training/Preetam.Balijepalli@syngenta.com/ml-in-production-sagemaker/train/train.csv>, final=False, loc=94459663, buffer loc=5247540\n",
      "2020-04-17 14:00:58,818 - s3fs - DEBUG - Upload chunk <File-like object S3FileSystem, eu.com.syngenta-datascience-model-training/Preetam.Balijepalli@syngenta.com/ml-in-production-sagemaker/train/train.csv>, 18\n",
      "2020-04-17 14:00:58,819 - s3fs - DEBUG - CALL: upload_part - ({},) - {'Bucket': 'eu.com.syngenta-datascience-model-training', 'PartNumber': 18, 'UploadId': 'aNb89ioyYAXswXO2x2oU6D6SV00AdpTmNtgTFOSBLvMdQpIjcG8J1dp4V5SpcY0RbKRgMJ5gZVX19y0djLQt0g7Px6MDDw61bdbOJ3iFnEQoakGK2aTXKk0QSFj3O5OU', 'Key': 'Preetam.Balijepalli@syngenta.com/ml-in-production-sagemaker/train/train.csv'}\n",
      "2020-04-17 14:01:05,987 - s3fs - DEBUG - Upload for <File-like object S3FileSystem, eu.com.syngenta-datascience-model-training/Preetam.Balijepalli@syngenta.com/ml-in-production-sagemaker/train/train.csv>, final=False, loc=99707111, buffer loc=5247448\n",
      "2020-04-17 14:01:05,990 - s3fs - DEBUG - Upload chunk <File-like object S3FileSystem, eu.com.syngenta-datascience-model-training/Preetam.Balijepalli@syngenta.com/ml-in-production-sagemaker/train/train.csv>, 19\n",
      "2020-04-17 14:01:05,990 - s3fs - DEBUG - CALL: upload_part - ({},) - {'Bucket': 'eu.com.syngenta-datascience-model-training', 'PartNumber': 19, 'UploadId': 'aNb89ioyYAXswXO2x2oU6D6SV00AdpTmNtgTFOSBLvMdQpIjcG8J1dp4V5SpcY0RbKRgMJ5gZVX19y0djLQt0g7Px6MDDw61bdbOJ3iFnEQoakGK2aTXKk0QSFj3O5OU', 'Key': 'Preetam.Balijepalli@syngenta.com/ml-in-production-sagemaker/train/train.csv'}\n",
      "2020-04-17 14:01:13,602 - s3fs - DEBUG - Upload for <File-like object S3FileSystem, eu.com.syngenta-datascience-model-training/Preetam.Balijepalli@syngenta.com/ml-in-production-sagemaker/train/train.csv>, final=False, loc=104955312, buffer loc=5248201\n"
     ]
    },
    {
     "name": "stderr",
     "output_type": "stream",
     "text": [
      "2020-04-17 14:01:13,604 - s3fs - DEBUG - Upload chunk <File-like object S3FileSystem, eu.com.syngenta-datascience-model-training/Preetam.Balijepalli@syngenta.com/ml-in-production-sagemaker/train/train.csv>, 20\n",
      "2020-04-17 14:01:13,605 - s3fs - DEBUG - CALL: upload_part - ({},) - {'Bucket': 'eu.com.syngenta-datascience-model-training', 'PartNumber': 20, 'UploadId': 'aNb89ioyYAXswXO2x2oU6D6SV00AdpTmNtgTFOSBLvMdQpIjcG8J1dp4V5SpcY0RbKRgMJ5gZVX19y0djLQt0g7Px6MDDw61bdbOJ3iFnEQoakGK2aTXKk0QSFj3O5OU', 'Key': 'Preetam.Balijepalli@syngenta.com/ml-in-production-sagemaker/train/train.csv'}\n",
      "2020-04-17 14:01:20,936 - s3fs - DEBUG - Upload for <File-like object S3FileSystem, eu.com.syngenta-datascience-model-training/Preetam.Balijepalli@syngenta.com/ml-in-production-sagemaker/train/train.csv>, final=False, loc=110203013, buffer loc=5247701\n",
      "2020-04-17 14:01:20,938 - s3fs - DEBUG - Upload chunk <File-like object S3FileSystem, eu.com.syngenta-datascience-model-training/Preetam.Balijepalli@syngenta.com/ml-in-production-sagemaker/train/train.csv>, 21\n",
      "2020-04-17 14:01:20,939 - s3fs - DEBUG - CALL: upload_part - ({},) - {'Bucket': 'eu.com.syngenta-datascience-model-training', 'PartNumber': 21, 'UploadId': 'aNb89ioyYAXswXO2x2oU6D6SV00AdpTmNtgTFOSBLvMdQpIjcG8J1dp4V5SpcY0RbKRgMJ5gZVX19y0djLQt0g7Px6MDDw61bdbOJ3iFnEQoakGK2aTXKk0QSFj3O5OU', 'Key': 'Preetam.Balijepalli@syngenta.com/ml-in-production-sagemaker/train/train.csv'}\n",
      "2020-04-17 14:01:28,119 - s3fs - DEBUG - Upload for <File-like object S3FileSystem, eu.com.syngenta-datascience-model-training/Preetam.Balijepalli@syngenta.com/ml-in-production-sagemaker/train/train.csv>, final=False, loc=115451202, buffer loc=5248189\n",
      "2020-04-17 14:01:28,122 - s3fs - DEBUG - Upload chunk <File-like object S3FileSystem, eu.com.syngenta-datascience-model-training/Preetam.Balijepalli@syngenta.com/ml-in-production-sagemaker/train/train.csv>, 22\n",
      "2020-04-17 14:01:28,122 - s3fs - DEBUG - CALL: upload_part - ({},) - {'Bucket': 'eu.com.syngenta-datascience-model-training', 'PartNumber': 22, 'UploadId': 'aNb89ioyYAXswXO2x2oU6D6SV00AdpTmNtgTFOSBLvMdQpIjcG8J1dp4V5SpcY0RbKRgMJ5gZVX19y0djLQt0g7Px6MDDw61bdbOJ3iFnEQoakGK2aTXKk0QSFj3O5OU', 'Key': 'Preetam.Balijepalli@syngenta.com/ml-in-production-sagemaker/train/train.csv'}\n",
      "2020-04-17 14:01:34,184 - s3fs - DEBUG - Upload for <File-like object S3FileSystem, eu.com.syngenta-datascience-model-training/Preetam.Balijepalli@syngenta.com/ml-in-production-sagemaker/train/train.csv>, final=False, loc=120698882, buffer loc=5247680\n",
      "2020-04-17 14:01:34,187 - s3fs - DEBUG - Upload chunk <File-like object S3FileSystem, eu.com.syngenta-datascience-model-training/Preetam.Balijepalli@syngenta.com/ml-in-production-sagemaker/train/train.csv>, 23\n",
      "2020-04-17 14:01:34,188 - s3fs - DEBUG - CALL: upload_part - ({},) - {'Bucket': 'eu.com.syngenta-datascience-model-training', 'PartNumber': 23, 'UploadId': 'aNb89ioyYAXswXO2x2oU6D6SV00AdpTmNtgTFOSBLvMdQpIjcG8J1dp4V5SpcY0RbKRgMJ5gZVX19y0djLQt0g7Px6MDDw61bdbOJ3iFnEQoakGK2aTXKk0QSFj3O5OU', 'Key': 'Preetam.Balijepalli@syngenta.com/ml-in-production-sagemaker/train/train.csv'}\n",
      "2020-04-17 14:01:43,182 - s3fs - DEBUG - Upload for <File-like object S3FileSystem, eu.com.syngenta-datascience-model-training/Preetam.Balijepalli@syngenta.com/ml-in-production-sagemaker/train/train.csv>, final=False, loc=125946866, buffer loc=5247984\n",
      "2020-04-17 14:01:43,184 - s3fs - DEBUG - Upload chunk <File-like object S3FileSystem, eu.com.syngenta-datascience-model-training/Preetam.Balijepalli@syngenta.com/ml-in-production-sagemaker/train/train.csv>, 24\n",
      "2020-04-17 14:01:43,185 - s3fs - DEBUG - CALL: upload_part - ({},) - {'Bucket': 'eu.com.syngenta-datascience-model-training', 'PartNumber': 24, 'UploadId': 'aNb89ioyYAXswXO2x2oU6D6SV00AdpTmNtgTFOSBLvMdQpIjcG8J1dp4V5SpcY0RbKRgMJ5gZVX19y0djLQt0g7Px6MDDw61bdbOJ3iFnEQoakGK2aTXKk0QSFj3O5OU', 'Key': 'Preetam.Balijepalli@syngenta.com/ml-in-production-sagemaker/train/train.csv'}\n",
      "2020-04-17 14:01:50,385 - s3fs - DEBUG - Upload for <File-like object S3FileSystem, eu.com.syngenta-datascience-model-training/Preetam.Balijepalli@syngenta.com/ml-in-production-sagemaker/train/train.csv>, final=False, loc=131194906, buffer loc=5248040\n",
      "2020-04-17 14:01:50,387 - s3fs - DEBUG - Upload chunk <File-like object S3FileSystem, eu.com.syngenta-datascience-model-training/Preetam.Balijepalli@syngenta.com/ml-in-production-sagemaker/train/train.csv>, 25\n",
      "2020-04-17 14:01:50,388 - s3fs - DEBUG - CALL: upload_part - ({},) - {'Bucket': 'eu.com.syngenta-datascience-model-training', 'PartNumber': 25, 'UploadId': 'aNb89ioyYAXswXO2x2oU6D6SV00AdpTmNtgTFOSBLvMdQpIjcG8J1dp4V5SpcY0RbKRgMJ5gZVX19y0djLQt0g7Px6MDDw61bdbOJ3iFnEQoakGK2aTXKk0QSFj3O5OU', 'Key': 'Preetam.Balijepalli@syngenta.com/ml-in-production-sagemaker/train/train.csv'}\n",
      "2020-04-17 14:01:59,226 - s3fs - DEBUG - Upload for <File-like object S3FileSystem, eu.com.syngenta-datascience-model-training/Preetam.Balijepalli@syngenta.com/ml-in-production-sagemaker/train/train.csv>, final=False, loc=136442345, buffer loc=5247439\n",
      "2020-04-17 14:01:59,229 - s3fs - DEBUG - Upload chunk <File-like object S3FileSystem, eu.com.syngenta-datascience-model-training/Preetam.Balijepalli@syngenta.com/ml-in-production-sagemaker/train/train.csv>, 26\n",
      "2020-04-17 14:01:59,229 - s3fs - DEBUG - CALL: upload_part - ({},) - {'Bucket': 'eu.com.syngenta-datascience-model-training', 'PartNumber': 26, 'UploadId': 'aNb89ioyYAXswXO2x2oU6D6SV00AdpTmNtgTFOSBLvMdQpIjcG8J1dp4V5SpcY0RbKRgMJ5gZVX19y0djLQt0g7Px6MDDw61bdbOJ3iFnEQoakGK2aTXKk0QSFj3O5OU', 'Key': 'Preetam.Balijepalli@syngenta.com/ml-in-production-sagemaker/train/train.csv'}\n",
      "2020-04-17 14:02:07,735 - s3fs - DEBUG - Upload for <File-like object S3FileSystem, eu.com.syngenta-datascience-model-training/Preetam.Balijepalli@syngenta.com/ml-in-production-sagemaker/train/train.csv>, final=False, loc=141690168, buffer loc=5247823\n",
      "2020-04-17 14:02:07,738 - s3fs - DEBUG - Upload chunk <File-like object S3FileSystem, eu.com.syngenta-datascience-model-training/Preetam.Balijepalli@syngenta.com/ml-in-production-sagemaker/train/train.csv>, 27\n",
      "2020-04-17 14:02:07,739 - s3fs - DEBUG - CALL: upload_part - ({},) - {'Bucket': 'eu.com.syngenta-datascience-model-training', 'PartNumber': 27, 'UploadId': 'aNb89ioyYAXswXO2x2oU6D6SV00AdpTmNtgTFOSBLvMdQpIjcG8J1dp4V5SpcY0RbKRgMJ5gZVX19y0djLQt0g7Px6MDDw61bdbOJ3iFnEQoakGK2aTXKk0QSFj3O5OU', 'Key': 'Preetam.Balijepalli@syngenta.com/ml-in-production-sagemaker/train/train.csv'}\n",
      "2020-04-17 14:02:15,503 - s3fs - DEBUG - Upload for <File-like object S3FileSystem, eu.com.syngenta-datascience-model-training/Preetam.Balijepalli@syngenta.com/ml-in-production-sagemaker/train/train.csv>, final=False, loc=146937818, buffer loc=5247650\n",
      "2020-04-17 14:02:15,506 - s3fs - DEBUG - Upload chunk <File-like object S3FileSystem, eu.com.syngenta-datascience-model-training/Preetam.Balijepalli@syngenta.com/ml-in-production-sagemaker/train/train.csv>, 28\n",
      "2020-04-17 14:02:15,506 - s3fs - DEBUG - CALL: upload_part - ({},) - {'Bucket': 'eu.com.syngenta-datascience-model-training', 'PartNumber': 28, 'UploadId': 'aNb89ioyYAXswXO2x2oU6D6SV00AdpTmNtgTFOSBLvMdQpIjcG8J1dp4V5SpcY0RbKRgMJ5gZVX19y0djLQt0g7Px6MDDw61bdbOJ3iFnEQoakGK2aTXKk0QSFj3O5OU', 'Key': 'Preetam.Balijepalli@syngenta.com/ml-in-production-sagemaker/train/train.csv'}\n",
      "2020-04-17 14:02:23,178 - s3fs - DEBUG - Upload for <File-like object S3FileSystem, eu.com.syngenta-datascience-model-training/Preetam.Balijepalli@syngenta.com/ml-in-production-sagemaker/train/train.csv>, final=False, loc=152185154, buffer loc=5247336\n",
      "2020-04-17 14:02:23,180 - s3fs - DEBUG - Upload chunk <File-like object S3FileSystem, eu.com.syngenta-datascience-model-training/Preetam.Balijepalli@syngenta.com/ml-in-production-sagemaker/train/train.csv>, 29\n",
      "2020-04-17 14:02:23,181 - s3fs - DEBUG - CALL: upload_part - ({},) - {'Bucket': 'eu.com.syngenta-datascience-model-training', 'PartNumber': 29, 'UploadId': 'aNb89ioyYAXswXO2x2oU6D6SV00AdpTmNtgTFOSBLvMdQpIjcG8J1dp4V5SpcY0RbKRgMJ5gZVX19y0djLQt0g7Px6MDDw61bdbOJ3iFnEQoakGK2aTXKk0QSFj3O5OU', 'Key': 'Preetam.Balijepalli@syngenta.com/ml-in-production-sagemaker/train/train.csv'}\n",
      "2020-04-17 14:02:31,749 - s3fs - DEBUG - Upload for <File-like object S3FileSystem, eu.com.syngenta-datascience-model-training/Preetam.Balijepalli@syngenta.com/ml-in-production-sagemaker/train/train.csv>, final=False, loc=157433378, buffer loc=5248224\n"
     ]
    },
    {
     "name": "stderr",
     "output_type": "stream",
     "text": [
      "2020-04-17 14:02:31,752 - s3fs - DEBUG - Upload chunk <File-like object S3FileSystem, eu.com.syngenta-datascience-model-training/Preetam.Balijepalli@syngenta.com/ml-in-production-sagemaker/train/train.csv>, 30\n",
      "2020-04-17 14:02:31,752 - s3fs - DEBUG - CALL: upload_part - ({},) - {'Bucket': 'eu.com.syngenta-datascience-model-training', 'PartNumber': 30, 'UploadId': 'aNb89ioyYAXswXO2x2oU6D6SV00AdpTmNtgTFOSBLvMdQpIjcG8J1dp4V5SpcY0RbKRgMJ5gZVX19y0djLQt0g7Px6MDDw61bdbOJ3iFnEQoakGK2aTXKk0QSFj3O5OU', 'Key': 'Preetam.Balijepalli@syngenta.com/ml-in-production-sagemaker/train/train.csv'}\n",
      "2020-04-17 14:02:37,694 - s3fs - DEBUG - Upload for <File-like object S3FileSystem, eu.com.syngenta-datascience-model-training/Preetam.Balijepalli@syngenta.com/ml-in-production-sagemaker/train/train.csv>, final=False, loc=162681012, buffer loc=5247634\n",
      "2020-04-17 14:02:37,696 - s3fs - DEBUG - Upload chunk <File-like object S3FileSystem, eu.com.syngenta-datascience-model-training/Preetam.Balijepalli@syngenta.com/ml-in-production-sagemaker/train/train.csv>, 31\n",
      "2020-04-17 14:02:37,697 - s3fs - DEBUG - CALL: upload_part - ({},) - {'Bucket': 'eu.com.syngenta-datascience-model-training', 'PartNumber': 31, 'UploadId': 'aNb89ioyYAXswXO2x2oU6D6SV00AdpTmNtgTFOSBLvMdQpIjcG8J1dp4V5SpcY0RbKRgMJ5gZVX19y0djLQt0g7Px6MDDw61bdbOJ3iFnEQoakGK2aTXKk0QSFj3O5OU', 'Key': 'Preetam.Balijepalli@syngenta.com/ml-in-production-sagemaker/train/train.csv'}\n",
      "2020-04-17 14:02:45,701 - s3fs - DEBUG - Upload for <File-like object S3FileSystem, eu.com.syngenta-datascience-model-training/Preetam.Balijepalli@syngenta.com/ml-in-production-sagemaker/train/train.csv>, final=False, loc=167929283, buffer loc=5248271\n",
      "2020-04-17 14:02:45,703 - s3fs - DEBUG - Upload chunk <File-like object S3FileSystem, eu.com.syngenta-datascience-model-training/Preetam.Balijepalli@syngenta.com/ml-in-production-sagemaker/train/train.csv>, 32\n",
      "2020-04-17 14:02:45,704 - s3fs - DEBUG - CALL: upload_part - ({},) - {'Bucket': 'eu.com.syngenta-datascience-model-training', 'PartNumber': 32, 'UploadId': 'aNb89ioyYAXswXO2x2oU6D6SV00AdpTmNtgTFOSBLvMdQpIjcG8J1dp4V5SpcY0RbKRgMJ5gZVX19y0djLQt0g7Px6MDDw61bdbOJ3iFnEQoakGK2aTXKk0QSFj3O5OU', 'Key': 'Preetam.Balijepalli@syngenta.com/ml-in-production-sagemaker/train/train.csv'}\n",
      "2020-04-17 14:02:51,097 - s3fs - DEBUG - Upload for <File-like object S3FileSystem, eu.com.syngenta-datascience-model-training/Preetam.Balijepalli@syngenta.com/ml-in-production-sagemaker/train/train.csv>, final=False, loc=173177677, buffer loc=5248394\n",
      "2020-04-17 14:02:51,100 - s3fs - DEBUG - Upload chunk <File-like object S3FileSystem, eu.com.syngenta-datascience-model-training/Preetam.Balijepalli@syngenta.com/ml-in-production-sagemaker/train/train.csv>, 33\n",
      "2020-04-17 14:02:51,100 - s3fs - DEBUG - CALL: upload_part - ({},) - {'Bucket': 'eu.com.syngenta-datascience-model-training', 'PartNumber': 33, 'UploadId': 'aNb89ioyYAXswXO2x2oU6D6SV00AdpTmNtgTFOSBLvMdQpIjcG8J1dp4V5SpcY0RbKRgMJ5gZVX19y0djLQt0g7Px6MDDw61bdbOJ3iFnEQoakGK2aTXKk0QSFj3O5OU', 'Key': 'Preetam.Balijepalli@syngenta.com/ml-in-production-sagemaker/train/train.csv'}\n",
      "2020-04-17 14:02:56,523 - s3fs - DEBUG - Upload for <File-like object S3FileSystem, eu.com.syngenta-datascience-model-training/Preetam.Balijepalli@syngenta.com/ml-in-production-sagemaker/train/train.csv>, final=False, loc=178425127, buffer loc=5247450\n",
      "2020-04-17 14:02:56,526 - s3fs - DEBUG - Upload chunk <File-like object S3FileSystem, eu.com.syngenta-datascience-model-training/Preetam.Balijepalli@syngenta.com/ml-in-production-sagemaker/train/train.csv>, 34\n",
      "2020-04-17 14:02:56,526 - s3fs - DEBUG - CALL: upload_part - ({},) - {'Bucket': 'eu.com.syngenta-datascience-model-training', 'PartNumber': 34, 'UploadId': 'aNb89ioyYAXswXO2x2oU6D6SV00AdpTmNtgTFOSBLvMdQpIjcG8J1dp4V5SpcY0RbKRgMJ5gZVX19y0djLQt0g7Px6MDDw61bdbOJ3iFnEQoakGK2aTXKk0QSFj3O5OU', 'Key': 'Preetam.Balijepalli@syngenta.com/ml-in-production-sagemaker/train/train.csv'}\n",
      "2020-04-17 14:03:03,424 - s3fs - DEBUG - Upload for <File-like object S3FileSystem, eu.com.syngenta-datascience-model-training/Preetam.Balijepalli@syngenta.com/ml-in-production-sagemaker/train/train.csv>, final=False, loc=183672938, buffer loc=5247811\n",
      "2020-04-17 14:03:03,427 - s3fs - DEBUG - Upload chunk <File-like object S3FileSystem, eu.com.syngenta-datascience-model-training/Preetam.Balijepalli@syngenta.com/ml-in-production-sagemaker/train/train.csv>, 35\n",
      "2020-04-17 14:03:03,427 - s3fs - DEBUG - CALL: upload_part - ({},) - {'Bucket': 'eu.com.syngenta-datascience-model-training', 'PartNumber': 35, 'UploadId': 'aNb89ioyYAXswXO2x2oU6D6SV00AdpTmNtgTFOSBLvMdQpIjcG8J1dp4V5SpcY0RbKRgMJ5gZVX19y0djLQt0g7Px6MDDw61bdbOJ3iFnEQoakGK2aTXKk0QSFj3O5OU', 'Key': 'Preetam.Balijepalli@syngenta.com/ml-in-production-sagemaker/train/train.csv'}\n",
      "2020-04-17 14:03:12,790 - s3fs - DEBUG - Upload for <File-like object S3FileSystem, eu.com.syngenta-datascience-model-training/Preetam.Balijepalli@syngenta.com/ml-in-production-sagemaker/train/train.csv>, final=False, loc=188920252, buffer loc=5247314\n",
      "2020-04-17 14:03:12,792 - s3fs - DEBUG - Upload chunk <File-like object S3FileSystem, eu.com.syngenta-datascience-model-training/Preetam.Balijepalli@syngenta.com/ml-in-production-sagemaker/train/train.csv>, 36\n",
      "2020-04-17 14:03:12,793 - s3fs - DEBUG - CALL: upload_part - ({},) - {'Bucket': 'eu.com.syngenta-datascience-model-training', 'PartNumber': 36, 'UploadId': 'aNb89ioyYAXswXO2x2oU6D6SV00AdpTmNtgTFOSBLvMdQpIjcG8J1dp4V5SpcY0RbKRgMJ5gZVX19y0djLQt0g7Px6MDDw61bdbOJ3iFnEQoakGK2aTXKk0QSFj3O5OU', 'Key': 'Preetam.Balijepalli@syngenta.com/ml-in-production-sagemaker/train/train.csv'}\n",
      "2020-04-17 14:03:21,717 - s3fs - DEBUG - Upload for <File-like object S3FileSystem, eu.com.syngenta-datascience-model-training/Preetam.Balijepalli@syngenta.com/ml-in-production-sagemaker/train/train.csv>, final=False, loc=194168023, buffer loc=5247771\n",
      "2020-04-17 14:03:21,719 - s3fs - DEBUG - Upload chunk <File-like object S3FileSystem, eu.com.syngenta-datascience-model-training/Preetam.Balijepalli@syngenta.com/ml-in-production-sagemaker/train/train.csv>, 37\n",
      "2020-04-17 14:03:21,720 - s3fs - DEBUG - CALL: upload_part - ({},) - {'Bucket': 'eu.com.syngenta-datascience-model-training', 'PartNumber': 37, 'UploadId': 'aNb89ioyYAXswXO2x2oU6D6SV00AdpTmNtgTFOSBLvMdQpIjcG8J1dp4V5SpcY0RbKRgMJ5gZVX19y0djLQt0g7Px6MDDw61bdbOJ3iFnEQoakGK2aTXKk0QSFj3O5OU', 'Key': 'Preetam.Balijepalli@syngenta.com/ml-in-production-sagemaker/train/train.csv'}\n",
      "2020-04-17 14:03:31,247 - s3fs - DEBUG - Upload for <File-like object S3FileSystem, eu.com.syngenta-datascience-model-training/Preetam.Balijepalli@syngenta.com/ml-in-production-sagemaker/train/train.csv>, final=False, loc=199416076, buffer loc=5248053\n",
      "2020-04-17 14:03:31,249 - s3fs - DEBUG - Upload chunk <File-like object S3FileSystem, eu.com.syngenta-datascience-model-training/Preetam.Balijepalli@syngenta.com/ml-in-production-sagemaker/train/train.csv>, 38\n",
      "2020-04-17 14:03:31,250 - s3fs - DEBUG - CALL: upload_part - ({},) - {'Bucket': 'eu.com.syngenta-datascience-model-training', 'PartNumber': 38, 'UploadId': 'aNb89ioyYAXswXO2x2oU6D6SV00AdpTmNtgTFOSBLvMdQpIjcG8J1dp4V5SpcY0RbKRgMJ5gZVX19y0djLQt0g7Px6MDDw61bdbOJ3iFnEQoakGK2aTXKk0QSFj3O5OU', 'Key': 'Preetam.Balijepalli@syngenta.com/ml-in-production-sagemaker/train/train.csv'}\n",
      "2020-04-17 14:03:39,556 - s3fs - DEBUG - Upload for <File-like object S3FileSystem, eu.com.syngenta-datascience-model-training/Preetam.Balijepalli@syngenta.com/ml-in-production-sagemaker/train/train.csv>, final=False, loc=204664486, buffer loc=5248410\n",
      "2020-04-17 14:03:39,559 - s3fs - DEBUG - Upload chunk <File-like object S3FileSystem, eu.com.syngenta-datascience-model-training/Preetam.Balijepalli@syngenta.com/ml-in-production-sagemaker/train/train.csv>, 39\n",
      "2020-04-17 14:03:39,559 - s3fs - DEBUG - CALL: upload_part - ({},) - {'Bucket': 'eu.com.syngenta-datascience-model-training', 'PartNumber': 39, 'UploadId': 'aNb89ioyYAXswXO2x2oU6D6SV00AdpTmNtgTFOSBLvMdQpIjcG8J1dp4V5SpcY0RbKRgMJ5gZVX19y0djLQt0g7Px6MDDw61bdbOJ3iFnEQoakGK2aTXKk0QSFj3O5OU', 'Key': 'Preetam.Balijepalli@syngenta.com/ml-in-production-sagemaker/train/train.csv'}\n",
      "2020-04-17 14:03:48,067 - s3fs - DEBUG - Upload for <File-like object S3FileSystem, eu.com.syngenta-datascience-model-training/Preetam.Balijepalli@syngenta.com/ml-in-production-sagemaker/train/train.csv>, final=False, loc=209912067, buffer loc=5247581\n"
     ]
    },
    {
     "name": "stderr",
     "output_type": "stream",
     "text": [
      "2020-04-17 14:03:48,070 - s3fs - DEBUG - Upload chunk <File-like object S3FileSystem, eu.com.syngenta-datascience-model-training/Preetam.Balijepalli@syngenta.com/ml-in-production-sagemaker/train/train.csv>, 40\n",
      "2020-04-17 14:03:48,070 - s3fs - DEBUG - CALL: upload_part - ({},) - {'Bucket': 'eu.com.syngenta-datascience-model-training', 'PartNumber': 40, 'UploadId': 'aNb89ioyYAXswXO2x2oU6D6SV00AdpTmNtgTFOSBLvMdQpIjcG8J1dp4V5SpcY0RbKRgMJ5gZVX19y0djLQt0g7Px6MDDw61bdbOJ3iFnEQoakGK2aTXKk0QSFj3O5OU', 'Key': 'Preetam.Balijepalli@syngenta.com/ml-in-production-sagemaker/train/train.csv'}\n",
      "2020-04-17 14:04:01,446 - s3fs - DEBUG - Upload for <File-like object S3FileSystem, eu.com.syngenta-datascience-model-training/Preetam.Balijepalli@syngenta.com/ml-in-production-sagemaker/train/train.csv>, final=False, loc=215160065, buffer loc=5247998\n",
      "2020-04-17 14:04:01,448 - s3fs - DEBUG - Upload chunk <File-like object S3FileSystem, eu.com.syngenta-datascience-model-training/Preetam.Balijepalli@syngenta.com/ml-in-production-sagemaker/train/train.csv>, 41\n",
      "2020-04-17 14:04:01,449 - s3fs - DEBUG - CALL: upload_part - ({},) - {'Bucket': 'eu.com.syngenta-datascience-model-training', 'PartNumber': 41, 'UploadId': 'aNb89ioyYAXswXO2x2oU6D6SV00AdpTmNtgTFOSBLvMdQpIjcG8J1dp4V5SpcY0RbKRgMJ5gZVX19y0djLQt0g7Px6MDDw61bdbOJ3iFnEQoakGK2aTXKk0QSFj3O5OU', 'Key': 'Preetam.Balijepalli@syngenta.com/ml-in-production-sagemaker/train/train.csv'}\n",
      "2020-04-17 14:04:15,620 - s3fs - DEBUG - Upload for <File-like object S3FileSystem, eu.com.syngenta-datascience-model-training/Preetam.Balijepalli@syngenta.com/ml-in-production-sagemaker/train/train.csv>, final=False, loc=220407499, buffer loc=5247434\n",
      "2020-04-17 14:04:15,622 - s3fs - DEBUG - Upload chunk <File-like object S3FileSystem, eu.com.syngenta-datascience-model-training/Preetam.Balijepalli@syngenta.com/ml-in-production-sagemaker/train/train.csv>, 42\n",
      "2020-04-17 14:04:15,623 - s3fs - DEBUG - CALL: upload_part - ({},) - {'Bucket': 'eu.com.syngenta-datascience-model-training', 'PartNumber': 42, 'UploadId': 'aNb89ioyYAXswXO2x2oU6D6SV00AdpTmNtgTFOSBLvMdQpIjcG8J1dp4V5SpcY0RbKRgMJ5gZVX19y0djLQt0g7Px6MDDw61bdbOJ3iFnEQoakGK2aTXKk0QSFj3O5OU', 'Key': 'Preetam.Balijepalli@syngenta.com/ml-in-production-sagemaker/train/train.csv'}\n",
      "2020-04-17 14:04:23,476 - s3fs - DEBUG - Upload for <File-like object S3FileSystem, eu.com.syngenta-datascience-model-training/Preetam.Balijepalli@syngenta.com/ml-in-production-sagemaker/train/train.csv>, final=True, loc=221246268, buffer loc=838769\n",
      "2020-04-17 14:04:23,476 - s3fs - DEBUG - Upload chunk <File-like object S3FileSystem, eu.com.syngenta-datascience-model-training/Preetam.Balijepalli@syngenta.com/ml-in-production-sagemaker/train/train.csv>, 43\n",
      "2020-04-17 14:04:23,477 - s3fs - DEBUG - CALL: upload_part - ({},) - {'Bucket': 'eu.com.syngenta-datascience-model-training', 'PartNumber': 43, 'UploadId': 'aNb89ioyYAXswXO2x2oU6D6SV00AdpTmNtgTFOSBLvMdQpIjcG8J1dp4V5SpcY0RbKRgMJ5gZVX19y0djLQt0g7Px6MDDw61bdbOJ3iFnEQoakGK2aTXKk0QSFj3O5OU', 'Key': 'Preetam.Balijepalli@syngenta.com/ml-in-production-sagemaker/train/train.csv'}\n",
      "2020-04-17 14:04:24,506 - s3fs - DEBUG - Commit <File-like object S3FileSystem, eu.com.syngenta-datascience-model-training/Preetam.Balijepalli@syngenta.com/ml-in-production-sagemaker/train/train.csv>\n",
      "2020-04-17 14:04:24,506 - s3fs - DEBUG - Complete multi-part upload for <File-like object S3FileSystem, eu.com.syngenta-datascience-model-training/Preetam.Balijepalli@syngenta.com/ml-in-production-sagemaker/train/train.csv> \n",
      "2020-04-17 14:04:24,507 - s3fs - DEBUG - CALL: complete_multipart_upload - ({},) - {'Bucket': 'eu.com.syngenta-datascience-model-training', 'Key': 'Preetam.Balijepalli@syngenta.com/ml-in-production-sagemaker/train/train.csv', 'UploadId': 'aNb89ioyYAXswXO2x2oU6D6SV00AdpTmNtgTFOSBLvMdQpIjcG8J1dp4V5SpcY0RbKRgMJ5gZVX19y0djLQt0g7Px6MDDw61bdbOJ3iFnEQoakGK2aTXKk0QSFj3O5OU', 'MultipartUpload': {'Parts': [{'PartNumber': 1, 'ETag': '\"05fcbd73549c8700fc6c1e4b2f19abc4\"'}, {'PartNumber': 2, 'ETag': '\"7f2e75b8df2b93821037e8544835b18b\"'}, {'PartNumber': 3, 'ETag': '\"13819bb66a898d92be5cee1b60664481\"'}, {'PartNumber': 4, 'ETag': '\"49fa680e7233ffea48b6616944954f4e\"'}, {'PartNumber': 5, 'ETag': '\"b90f6b2cb6756b3243a90cd99e2373e4\"'}, {'PartNumber': 6, 'ETag': '\"b4f0dc0c1a390a5ed868391f6b728ec5\"'}, {'PartNumber': 7, 'ETag': '\"25df61c4d7bc5a78dfe516d98754ab1e\"'}, {'PartNumber': 8, 'ETag': '\"6b7d19ac30c959f9e454c69dc143bec7\"'}, {'PartNumber': 9, 'ETag': '\"ef1300bc99f1e8033bf1560e58400108\"'}, {'PartNumber': 10, 'ETag': '\"bcf246cfab97dc7274932fab28b2ed10\"'}, {'PartNumber': 11, 'ETag': '\"94e13c677d516760e5b50b4c4e6a5093\"'}, {'PartNumber': 12, 'ETag': '\"80c28eed24c69e40713c78bd1aefb17e\"'}, {'PartNumber': 13, 'ETag': '\"364e7404abc33cae4fe1778559600611\"'}, {'PartNumber': 14, 'ETag': '\"c665cb980b6905e345e1769fe6de5240\"'}, {'PartNumber': 15, 'ETag': '\"19a3c9d1f5576cc1f38e82254015ba88\"'}, {'PartNumber': 16, 'ETag': '\"db76541cd15cdc52fc423a413a5fa70d\"'}, {'PartNumber': 17, 'ETag': '\"e460bc2a6e11c8297affd1c0910a9db6\"'}, {'PartNumber': 18, 'ETag': '\"1f92f66010ba9544aefa7c21985ced09\"'}, {'PartNumber': 19, 'ETag': '\"34c19ca8a6363464ecd1e92d5c0d6936\"'}, {'PartNumber': 20, 'ETag': '\"7a720d6f8a357e632ef346cfb74a8b5f\"'}, {'PartNumber': 21, 'ETag': '\"b94e9a56d5f4c1a35372a2acba68d3f9\"'}, {'PartNumber': 22, 'ETag': '\"12806f1434167a9ef5076963921c066a\"'}, {'PartNumber': 23, 'ETag': '\"bf38542c7b60649a83d49d0b80a38037\"'}, {'PartNumber': 24, 'ETag': '\"c575b768e5c5c711daf22a06d9beb9f1\"'}, {'PartNumber': 25, 'ETag': '\"15861ed9327541ac893098171abdf093\"'}, {'PartNumber': 26, 'ETag': '\"10351e2c8532a4e8fd0f1dc8e6b8097c\"'}, {'PartNumber': 27, 'ETag': '\"da96b7fa84702dc7aba3c8e560cde490\"'}, {'PartNumber': 28, 'ETag': '\"a232243dd92b94cff8710727fd340d48\"'}, {'PartNumber': 29, 'ETag': '\"0251e529021771fac04b10510307f2e0\"'}, {'PartNumber': 30, 'ETag': '\"be4195780f22a0d63581c06754a00e6c\"'}, {'PartNumber': 31, 'ETag': '\"6e9a5d5be52560a6d22d88ecfe101781\"'}, {'PartNumber': 32, 'ETag': '\"42ae0fcba704c3a614b98e71ce9a2e1a\"'}, {'PartNumber': 33, 'ETag': '\"d45045341b6bc3d208195755b913b575\"'}, {'PartNumber': 34, 'ETag': '\"eb91bd3cd610919eefac94adca372c8f\"'}, {'PartNumber': 35, 'ETag': '\"0a096b65181063abb5fdcd96c7bb2310\"'}, {'PartNumber': 36, 'ETag': '\"71d229e826dde15d0cde246575388c31\"'}, {'PartNumber': 37, 'ETag': '\"7b8f01cff01b212e0d19ecb562e8dbe6\"'}, {'PartNumber': 38, 'ETag': '\"e61c3c95c96bc655d28f43a6f6e99ffa\"'}, {'PartNumber': 39, 'ETag': '\"60f11d14b413bde5ba0ee6420f56098f\"'}, {'PartNumber': 40, 'ETag': '\"c43d12f6d4804ca84d114d8c5e1001b2\"'}, {'PartNumber': 41, 'ETag': '\"d646bcb6c4944a08451d498646350ec0\"'}, {'PartNumber': 42, 'ETag': '\"907a58628a47780b06bbc24cb63d2f0c\"'}, {'PartNumber': 43, 'ETag': '\"a5eb1923e2435e51aa4b756e8c7f8bdb\"'}]}}\n",
      "2020-04-17 14:04:24,887 - s3fs - DEBUG - Setting up s3fs instance\n",
      "2020-04-17 14:04:26,184 - s3fs - DEBUG - Initiate upload for <File-like object S3FileSystem, eu.com.syngenta-datascience-model-training/Preetam.Balijepalli@syngenta.com/ml-in-production-sagemaker/validation/validation.csv>\n",
      "2020-04-17 14:04:26,185 - s3fs - DEBUG - CALL: create_multipart_upload - ({},) - {'Bucket': 'eu.com.syngenta-datascience-model-training', 'Key': 'Preetam.Balijepalli@syngenta.com/ml-in-production-sagemaker/validation/validation.csv', 'ACL': ''}\n",
      "2020-04-17 14:04:26,655 - s3fs - DEBUG - Upload for <File-like object S3FileSystem, eu.com.syngenta-datascience-model-training/Preetam.Balijepalli@syngenta.com/ml-in-production-sagemaker/validation/validation.csv>, final=False, loc=5248480, buffer loc=5248480\n",
      "2020-04-17 14:04:26,657 - s3fs - DEBUG - Upload chunk <File-like object S3FileSystem, eu.com.syngenta-datascience-model-training/Preetam.Balijepalli@syngenta.com/ml-in-production-sagemaker/validation/validation.csv>, 1\n",
      "2020-04-17 14:04:26,658 - s3fs - DEBUG - CALL: upload_part - ({},) - {'Bucket': 'eu.com.syngenta-datascience-model-training', 'PartNumber': 1, 'UploadId': '8p3awhvZHmxxaRfgBF2VMZsbrM4mvxaOCeXSSGzT2tOqRxAwM.mrA4lDdrbXH_UQG6Y.XNJ7gY__ez2WpnKM5.uiBe1eVwC2I2a1Nfo_G53dj996JXdN3.6UQbuOoSOg', 'Key': 'Preetam.Balijepalli@syngenta.com/ml-in-production-sagemaker/validation/validation.csv'}\n",
      "2020-04-17 14:04:31,570 - s3fs - DEBUG - Upload for <File-like object S3FileSystem, eu.com.syngenta-datascience-model-training/Preetam.Balijepalli@syngenta.com/ml-in-production-sagemaker/validation/validation.csv>, final=False, loc=10496502, buffer loc=5248022\n"
     ]
    },
    {
     "name": "stderr",
     "output_type": "stream",
     "text": [
      "2020-04-17 14:04:31,573 - s3fs - DEBUG - Upload chunk <File-like object S3FileSystem, eu.com.syngenta-datascience-model-training/Preetam.Balijepalli@syngenta.com/ml-in-production-sagemaker/validation/validation.csv>, 2\n",
      "2020-04-17 14:04:31,574 - s3fs - DEBUG - CALL: upload_part - ({},) - {'Bucket': 'eu.com.syngenta-datascience-model-training', 'PartNumber': 2, 'UploadId': '8p3awhvZHmxxaRfgBF2VMZsbrM4mvxaOCeXSSGzT2tOqRxAwM.mrA4lDdrbXH_UQG6Y.XNJ7gY__ez2WpnKM5.uiBe1eVwC2I2a1Nfo_G53dj996JXdN3.6UQbuOoSOg', 'Key': 'Preetam.Balijepalli@syngenta.com/ml-in-production-sagemaker/validation/validation.csv'}\n",
      "2020-04-17 14:04:35,523 - s3fs - DEBUG - Upload for <File-like object S3FileSystem, eu.com.syngenta-datascience-model-training/Preetam.Balijepalli@syngenta.com/ml-in-production-sagemaker/validation/validation.csv>, final=False, loc=15744543, buffer loc=5248041\n",
      "2020-04-17 14:04:35,525 - s3fs - DEBUG - Upload chunk <File-like object S3FileSystem, eu.com.syngenta-datascience-model-training/Preetam.Balijepalli@syngenta.com/ml-in-production-sagemaker/validation/validation.csv>, 3\n",
      "2020-04-17 14:04:35,526 - s3fs - DEBUG - CALL: upload_part - ({},) - {'Bucket': 'eu.com.syngenta-datascience-model-training', 'PartNumber': 3, 'UploadId': '8p3awhvZHmxxaRfgBF2VMZsbrM4mvxaOCeXSSGzT2tOqRxAwM.mrA4lDdrbXH_UQG6Y.XNJ7gY__ez2WpnKM5.uiBe1eVwC2I2a1Nfo_G53dj996JXdN3.6UQbuOoSOg', 'Key': 'Preetam.Balijepalli@syngenta.com/ml-in-production-sagemaker/validation/validation.csv'}\n",
      "2020-04-17 14:04:41,648 - s3fs - DEBUG - Upload for <File-like object S3FileSystem, eu.com.syngenta-datascience-model-training/Preetam.Balijepalli@syngenta.com/ml-in-production-sagemaker/validation/validation.csv>, final=False, loc=20992118, buffer loc=5247575\n",
      "2020-04-17 14:04:41,651 - s3fs - DEBUG - Upload chunk <File-like object S3FileSystem, eu.com.syngenta-datascience-model-training/Preetam.Balijepalli@syngenta.com/ml-in-production-sagemaker/validation/validation.csv>, 4\n",
      "2020-04-17 14:04:41,651 - s3fs - DEBUG - CALL: upload_part - ({},) - {'Bucket': 'eu.com.syngenta-datascience-model-training', 'PartNumber': 4, 'UploadId': '8p3awhvZHmxxaRfgBF2VMZsbrM4mvxaOCeXSSGzT2tOqRxAwM.mrA4lDdrbXH_UQG6Y.XNJ7gY__ez2WpnKM5.uiBe1eVwC2I2a1Nfo_G53dj996JXdN3.6UQbuOoSOg', 'Key': 'Preetam.Balijepalli@syngenta.com/ml-in-production-sagemaker/validation/validation.csv'}\n",
      "2020-04-17 14:04:44,930 - s3fs - DEBUG - Upload for <File-like object S3FileSystem, eu.com.syngenta-datascience-model-training/Preetam.Balijepalli@syngenta.com/ml-in-production-sagemaker/validation/validation.csv>, final=False, loc=26239686, buffer loc=5247568\n",
      "2020-04-17 14:04:44,932 - s3fs - DEBUG - Upload chunk <File-like object S3FileSystem, eu.com.syngenta-datascience-model-training/Preetam.Balijepalli@syngenta.com/ml-in-production-sagemaker/validation/validation.csv>, 5\n",
      "2020-04-17 14:04:44,932 - s3fs - DEBUG - CALL: upload_part - ({},) - {'Bucket': 'eu.com.syngenta-datascience-model-training', 'PartNumber': 5, 'UploadId': '8p3awhvZHmxxaRfgBF2VMZsbrM4mvxaOCeXSSGzT2tOqRxAwM.mrA4lDdrbXH_UQG6Y.XNJ7gY__ez2WpnKM5.uiBe1eVwC2I2a1Nfo_G53dj996JXdN3.6UQbuOoSOg', 'Key': 'Preetam.Balijepalli@syngenta.com/ml-in-production-sagemaker/validation/validation.csv'}\n",
      "2020-04-17 14:04:51,568 - s3fs - DEBUG - Upload for <File-like object S3FileSystem, eu.com.syngenta-datascience-model-training/Preetam.Balijepalli@syngenta.com/ml-in-production-sagemaker/validation/validation.csv>, final=False, loc=31487667, buffer loc=5247981\n",
      "2020-04-17 14:04:51,570 - s3fs - DEBUG - Upload chunk <File-like object S3FileSystem, eu.com.syngenta-datascience-model-training/Preetam.Balijepalli@syngenta.com/ml-in-production-sagemaker/validation/validation.csv>, 6\n",
      "2020-04-17 14:04:51,570 - s3fs - DEBUG - CALL: upload_part - ({},) - {'Bucket': 'eu.com.syngenta-datascience-model-training', 'PartNumber': 6, 'UploadId': '8p3awhvZHmxxaRfgBF2VMZsbrM4mvxaOCeXSSGzT2tOqRxAwM.mrA4lDdrbXH_UQG6Y.XNJ7gY__ez2WpnKM5.uiBe1eVwC2I2a1Nfo_G53dj996JXdN3.6UQbuOoSOg', 'Key': 'Preetam.Balijepalli@syngenta.com/ml-in-production-sagemaker/validation/validation.csv'}\n",
      "2020-04-17 14:04:58,352 - s3fs - DEBUG - Upload for <File-like object S3FileSystem, eu.com.syngenta-datascience-model-training/Preetam.Balijepalli@syngenta.com/ml-in-production-sagemaker/validation/validation.csv>, final=False, loc=36735677, buffer loc=5248010\n",
      "2020-04-17 14:04:58,355 - s3fs - DEBUG - Upload chunk <File-like object S3FileSystem, eu.com.syngenta-datascience-model-training/Preetam.Balijepalli@syngenta.com/ml-in-production-sagemaker/validation/validation.csv>, 7\n",
      "2020-04-17 14:04:58,355 - s3fs - DEBUG - CALL: upload_part - ({},) - {'Bucket': 'eu.com.syngenta-datascience-model-training', 'PartNumber': 7, 'UploadId': '8p3awhvZHmxxaRfgBF2VMZsbrM4mvxaOCeXSSGzT2tOqRxAwM.mrA4lDdrbXH_UQG6Y.XNJ7gY__ez2WpnKM5.uiBe1eVwC2I2a1Nfo_G53dj996JXdN3.6UQbuOoSOg', 'Key': 'Preetam.Balijepalli@syngenta.com/ml-in-production-sagemaker/validation/validation.csv'}\n",
      "2020-04-17 14:05:10,125 - s3fs - DEBUG - Upload for <File-like object S3FileSystem, eu.com.syngenta-datascience-model-training/Preetam.Balijepalli@syngenta.com/ml-in-production-sagemaker/validation/validation.csv>, final=False, loc=41983894, buffer loc=5248217\n",
      "2020-04-17 14:05:10,127 - s3fs - DEBUG - Upload chunk <File-like object S3FileSystem, eu.com.syngenta-datascience-model-training/Preetam.Balijepalli@syngenta.com/ml-in-production-sagemaker/validation/validation.csv>, 8\n",
      "2020-04-17 14:05:10,128 - s3fs - DEBUG - CALL: upload_part - ({},) - {'Bucket': 'eu.com.syngenta-datascience-model-training', 'PartNumber': 8, 'UploadId': '8p3awhvZHmxxaRfgBF2VMZsbrM4mvxaOCeXSSGzT2tOqRxAwM.mrA4lDdrbXH_UQG6Y.XNJ7gY__ez2WpnKM5.uiBe1eVwC2I2a1Nfo_G53dj996JXdN3.6UQbuOoSOg', 'Key': 'Preetam.Balijepalli@syngenta.com/ml-in-production-sagemaker/validation/validation.csv'}\n",
      "2020-04-17 14:05:18,637 - s3fs - DEBUG - Upload for <File-like object S3FileSystem, eu.com.syngenta-datascience-model-training/Preetam.Balijepalli@syngenta.com/ml-in-production-sagemaker/validation/validation.csv>, final=False, loc=47231700, buffer loc=5247806\n",
      "2020-04-17 14:05:18,640 - s3fs - DEBUG - Upload chunk <File-like object S3FileSystem, eu.com.syngenta-datascience-model-training/Preetam.Balijepalli@syngenta.com/ml-in-production-sagemaker/validation/validation.csv>, 9\n",
      "2020-04-17 14:05:18,640 - s3fs - DEBUG - CALL: upload_part - ({},) - {'Bucket': 'eu.com.syngenta-datascience-model-training', 'PartNumber': 9, 'UploadId': '8p3awhvZHmxxaRfgBF2VMZsbrM4mvxaOCeXSSGzT2tOqRxAwM.mrA4lDdrbXH_UQG6Y.XNJ7gY__ez2WpnKM5.uiBe1eVwC2I2a1Nfo_G53dj996JXdN3.6UQbuOoSOg', 'Key': 'Preetam.Balijepalli@syngenta.com/ml-in-production-sagemaker/validation/validation.csv'}\n",
      "2020-04-17 14:05:26,914 - s3fs - DEBUG - Upload for <File-like object S3FileSystem, eu.com.syngenta-datascience-model-training/Preetam.Balijepalli@syngenta.com/ml-in-production-sagemaker/validation/validation.csv>, final=False, loc=52480277, buffer loc=5248577\n",
      "2020-04-17 14:05:26,916 - s3fs - DEBUG - Upload chunk <File-like object S3FileSystem, eu.com.syngenta-datascience-model-training/Preetam.Balijepalli@syngenta.com/ml-in-production-sagemaker/validation/validation.csv>, 10\n",
      "2020-04-17 14:05:26,917 - s3fs - DEBUG - CALL: upload_part - ({},) - {'Bucket': 'eu.com.syngenta-datascience-model-training', 'PartNumber': 10, 'UploadId': '8p3awhvZHmxxaRfgBF2VMZsbrM4mvxaOCeXSSGzT2tOqRxAwM.mrA4lDdrbXH_UQG6Y.XNJ7gY__ez2WpnKM5.uiBe1eVwC2I2a1Nfo_G53dj996JXdN3.6UQbuOoSOg', 'Key': 'Preetam.Balijepalli@syngenta.com/ml-in-production-sagemaker/validation/validation.csv'}\n",
      "2020-04-17 14:05:34,876 - s3fs - DEBUG - Upload for <File-like object S3FileSystem, eu.com.syngenta-datascience-model-training/Preetam.Balijepalli@syngenta.com/ml-in-production-sagemaker/validation/validation.csv>, final=False, loc=57727710, buffer loc=5247433\n",
      "2020-04-17 14:05:34,878 - s3fs - DEBUG - Upload chunk <File-like object S3FileSystem, eu.com.syngenta-datascience-model-training/Preetam.Balijepalli@syngenta.com/ml-in-production-sagemaker/validation/validation.csv>, 11\n",
      "2020-04-17 14:05:34,879 - s3fs - DEBUG - CALL: upload_part - ({},) - {'Bucket': 'eu.com.syngenta-datascience-model-training', 'PartNumber': 11, 'UploadId': '8p3awhvZHmxxaRfgBF2VMZsbrM4mvxaOCeXSSGzT2tOqRxAwM.mrA4lDdrbXH_UQG6Y.XNJ7gY__ez2WpnKM5.uiBe1eVwC2I2a1Nfo_G53dj996JXdN3.6UQbuOoSOg', 'Key': 'Preetam.Balijepalli@syngenta.com/ml-in-production-sagemaker/validation/validation.csv'}\n"
     ]
    },
    {
     "name": "stderr",
     "output_type": "stream",
     "text": [
      "2020-04-17 14:05:43,054 - s3fs - DEBUG - Upload for <File-like object S3FileSystem, eu.com.syngenta-datascience-model-training/Preetam.Balijepalli@syngenta.com/ml-in-production-sagemaker/validation/validation.csv>, final=False, loc=62975135, buffer loc=5247425\n",
      "2020-04-17 14:05:43,057 - s3fs - DEBUG - Upload chunk <File-like object S3FileSystem, eu.com.syngenta-datascience-model-training/Preetam.Balijepalli@syngenta.com/ml-in-production-sagemaker/validation/validation.csv>, 12\n",
      "2020-04-17 14:05:43,057 - s3fs - DEBUG - CALL: upload_part - ({},) - {'Bucket': 'eu.com.syngenta-datascience-model-training', 'PartNumber': 12, 'UploadId': '8p3awhvZHmxxaRfgBF2VMZsbrM4mvxaOCeXSSGzT2tOqRxAwM.mrA4lDdrbXH_UQG6Y.XNJ7gY__ez2WpnKM5.uiBe1eVwC2I2a1Nfo_G53dj996JXdN3.6UQbuOoSOg', 'Key': 'Preetam.Balijepalli@syngenta.com/ml-in-production-sagemaker/validation/validation.csv'}\n",
      "2020-04-17 14:05:48,675 - s3fs - DEBUG - Upload for <File-like object S3FileSystem, eu.com.syngenta-datascience-model-training/Preetam.Balijepalli@syngenta.com/ml-in-production-sagemaker/validation/validation.csv>, final=False, loc=68222775, buffer loc=5247640\n",
      "2020-04-17 14:05:48,677 - s3fs - DEBUG - Upload chunk <File-like object S3FileSystem, eu.com.syngenta-datascience-model-training/Preetam.Balijepalli@syngenta.com/ml-in-production-sagemaker/validation/validation.csv>, 13\n",
      "2020-04-17 14:05:48,677 - s3fs - DEBUG - CALL: upload_part - ({},) - {'Bucket': 'eu.com.syngenta-datascience-model-training', 'PartNumber': 13, 'UploadId': '8p3awhvZHmxxaRfgBF2VMZsbrM4mvxaOCeXSSGzT2tOqRxAwM.mrA4lDdrbXH_UQG6Y.XNJ7gY__ez2WpnKM5.uiBe1eVwC2I2a1Nfo_G53dj996JXdN3.6UQbuOoSOg', 'Key': 'Preetam.Balijepalli@syngenta.com/ml-in-production-sagemaker/validation/validation.csv'}\n",
      "2020-04-17 14:05:55,408 - s3fs - DEBUG - Upload for <File-like object S3FileSystem, eu.com.syngenta-datascience-model-training/Preetam.Balijepalli@syngenta.com/ml-in-production-sagemaker/validation/validation.csv>, final=False, loc=73470962, buffer loc=5248187\n",
      "2020-04-17 14:05:55,411 - s3fs - DEBUG - Upload chunk <File-like object S3FileSystem, eu.com.syngenta-datascience-model-training/Preetam.Balijepalli@syngenta.com/ml-in-production-sagemaker/validation/validation.csv>, 14\n",
      "2020-04-17 14:05:55,411 - s3fs - DEBUG - CALL: upload_part - ({},) - {'Bucket': 'eu.com.syngenta-datascience-model-training', 'PartNumber': 14, 'UploadId': '8p3awhvZHmxxaRfgBF2VMZsbrM4mvxaOCeXSSGzT2tOqRxAwM.mrA4lDdrbXH_UQG6Y.XNJ7gY__ez2WpnKM5.uiBe1eVwC2I2a1Nfo_G53dj996JXdN3.6UQbuOoSOg', 'Key': 'Preetam.Balijepalli@syngenta.com/ml-in-production-sagemaker/validation/validation.csv'}\n",
      "2020-04-17 14:06:02,186 - s3fs - DEBUG - Upload for <File-like object S3FileSystem, eu.com.syngenta-datascience-model-training/Preetam.Balijepalli@syngenta.com/ml-in-production-sagemaker/validation/validation.csv>, final=True, loc=73745237, buffer loc=274275\n",
      "2020-04-17 14:06:02,186 - s3fs - DEBUG - Upload chunk <File-like object S3FileSystem, eu.com.syngenta-datascience-model-training/Preetam.Balijepalli@syngenta.com/ml-in-production-sagemaker/validation/validation.csv>, 15\n",
      "2020-04-17 14:06:02,187 - s3fs - DEBUG - CALL: upload_part - ({},) - {'Bucket': 'eu.com.syngenta-datascience-model-training', 'PartNumber': 15, 'UploadId': '8p3awhvZHmxxaRfgBF2VMZsbrM4mvxaOCeXSSGzT2tOqRxAwM.mrA4lDdrbXH_UQG6Y.XNJ7gY__ez2WpnKM5.uiBe1eVwC2I2a1Nfo_G53dj996JXdN3.6UQbuOoSOg', 'Key': 'Preetam.Balijepalli@syngenta.com/ml-in-production-sagemaker/validation/validation.csv'}\n",
      "2020-04-17 14:06:02,507 - s3fs - DEBUG - Commit <File-like object S3FileSystem, eu.com.syngenta-datascience-model-training/Preetam.Balijepalli@syngenta.com/ml-in-production-sagemaker/validation/validation.csv>\n",
      "2020-04-17 14:06:02,507 - s3fs - DEBUG - Complete multi-part upload for <File-like object S3FileSystem, eu.com.syngenta-datascience-model-training/Preetam.Balijepalli@syngenta.com/ml-in-production-sagemaker/validation/validation.csv> \n",
      "2020-04-17 14:06:02,508 - s3fs - DEBUG - CALL: complete_multipart_upload - ({},) - {'Bucket': 'eu.com.syngenta-datascience-model-training', 'Key': 'Preetam.Balijepalli@syngenta.com/ml-in-production-sagemaker/validation/validation.csv', 'UploadId': '8p3awhvZHmxxaRfgBF2VMZsbrM4mvxaOCeXSSGzT2tOqRxAwM.mrA4lDdrbXH_UQG6Y.XNJ7gY__ez2WpnKM5.uiBe1eVwC2I2a1Nfo_G53dj996JXdN3.6UQbuOoSOg', 'MultipartUpload': {'Parts': [{'PartNumber': 1, 'ETag': '\"62e0cd0cbd73a4fe0e80ed1d970b7ed6\"'}, {'PartNumber': 2, 'ETag': '\"ca1b21720ba27a8968450618f73876a7\"'}, {'PartNumber': 3, 'ETag': '\"f738a85e3c2842b4980e0180e51de3b6\"'}, {'PartNumber': 4, 'ETag': '\"2cbf462b0b0717e991225d230483852f\"'}, {'PartNumber': 5, 'ETag': '\"e97b857a3e52f5e967f6ed8ff136823a\"'}, {'PartNumber': 6, 'ETag': '\"6151bbec6125b728d00e217e9cf1605e\"'}, {'PartNumber': 7, 'ETag': '\"ab9cf0abc44648f2ccc3afde42f6f702\"'}, {'PartNumber': 8, 'ETag': '\"ecb9c1b796d74ed7a38f9670a9bd89f4\"'}, {'PartNumber': 9, 'ETag': '\"e28303f05f81106bfd9bcaa9d3950dec\"'}, {'PartNumber': 10, 'ETag': '\"a5b98ca92d845a1a43f079d706f9d580\"'}, {'PartNumber': 11, 'ETag': '\"4262db2390eab1621ba2e7829e756d1e\"'}, {'PartNumber': 12, 'ETag': '\"6562773add3917768d149f6a93e2b56c\"'}, {'PartNumber': 13, 'ETag': '\"b55f9729e6c5cb91a22214025a580557\"'}, {'PartNumber': 14, 'ETag': '\"ed54318a2578f691564af8c573b969be\"'}, {'PartNumber': 15, 'ETag': '\"b5e1912372de4c656d0467c7e1ddc1f7\"'}]}}\n"
     ]
    }
   ],
   "source": [
    "import s3fs\n",
    "fs = s3fs.S3FileSystem()\n",
    "\n",
    "renfe_train[[target] + features].to_csv(s3_train + '/train.csv', index=False, header=False)  # .csv file without header\n",
    "renfe_validation[[target] + features].to_csv(s3_validation + '/validation.csv', index=False, header=False)"
   ]
  },
  {
   "cell_type": "code",
   "execution_count": 19,
   "metadata": {
    "ExecuteTime": {
     "end_time": "2020-04-17T14:06:03.868570Z",
     "start_time": "2020-04-17T14:06:03.055419Z"
    }
   },
   "outputs": [
    {
     "name": "stdout",
     "output_type": "stream",
     "text": [
      "Preetam.Balijepalli@syngenta.com/\n",
      "Preetam.Balijepalli@syngenta.com/DEMO-hpo-automl-dm/output/\n",
      "Preetam.Balijepalli@syngenta.com/DEMO-hpo-automl-dm/test/automl-test.csv\n",
      "Preetam.Balijepalli@syngenta.com/DEMO-hpo-automl-dm/train/automl-train.csv\n",
      "Preetam.Balijepalli@syngenta.com/DEMO-hpo-xgboost-dm/test/test.csv\n",
      "Preetam.Balijepalli@syngenta.com/DEMO-hpo-xgboost-dm/train/train.csv\n",
      "Preetam.Balijepalli@syngenta.com/DEMO-hpo-xgboost-dm/validation/validation.csv\n",
      "Preetam.Balijepalli@syngenta.com/keras-sagemaker/\n",
      "Preetam.Balijepalli@syngenta.com/keras-sagemaker/model/\n",
      "Preetam.Balijepalli@syngenta.com/keras-sagemaker/output/\n",
      "Preetam.Balijepalli@syngenta.com/keras-sagemaker/output/datascience-model-training-2020-04-16-12-42-56/output/model.tar.gz\n",
      "Preetam.Balijepalli@syngenta.com/keras-sagemaker/output/datascience-model-training-2020-04-16-13-18-16/output/model.tar.gz\n",
      "Preetam.Balijepalli@syngenta.com/keras-sagemaker/output/datascience-model-training-2020-04-16-13-42-34/output/model.tar.gz\n",
      "Preetam.Balijepalli@syngenta.com/keras-sagemaker/output/datascience-model-training-2020-04-17-07-38-43/output/model.tar.gz\n",
      "Preetam.Balijepalli@syngenta.com/keras-sagemaker/output/datascience-model-training-2020-04-17-07-48-53/output/model.tar.gz\n",
      "Preetam.Balijepalli@syngenta.com/keras-sagemaker/train/\n",
      "Preetam.Balijepalli@syngenta.com/keras-sagemaker/train/data/\n",
      "Preetam.Balijepalli@syngenta.com/keras-sagemaker/train/data/data_set\n",
      "Preetam.Balijepalli@syngenta.com/ml-in-production-sagemaker/model/datascience-model-training-2020-02-14-09-33-09/output/model.tar.gz\n",
      "Preetam.Balijepalli@syngenta.com/ml-in-production-sagemaker/model/datascience-model-training-2020-02-14-10-43-53/output/model.tar.gz\n",
      "Preetam.Balijepalli@syngenta.com/ml-in-production-sagemaker/model/datascience-model-training-2020-02-18-04-29-31/output/model.tar.gz\n",
      "Preetam.Balijepalli@syngenta.com/ml-in-production-sagemaker/model/datascience-model-training-2020-02-18-11-14-25/output/model.tar.gz\n",
      "Preetam.Balijepalli@syngenta.com/ml-in-production-sagemaker/model/datascience-model-training-2020-02-19-11-53-43/output/model.tar.gz\n",
      "Preetam.Balijepalli@syngenta.com/ml-in-production-sagemaker/model/datascience-model-training-2020-02-20-07-28-39/output/model.tar.gz\n",
      "Preetam.Balijepalli@syngenta.com/ml-in-production-sagemaker/model/datascience-model-training-2020-02-20-12-47-59/output/model.tar.gz\n",
      "Preetam.Balijepalli@syngenta.com/ml-in-production-sagemaker/model/datascience-model-training-2020-03-12-14-09-43/output/model.tar.gz\n",
      "Preetam.Balijepalli@syngenta.com/ml-in-production-sagemaker/model/datascience-model-training-2020-04-02-14-04-43/output/model.tar.gz\n",
      "Preetam.Balijepalli@syngenta.com/ml-in-production-sagemaker/train/train.csv\n",
      "Preetam.Balijepalli@syngenta.com/ml-in-production-sagemaker/validation/validation.csv\n",
      "Preetam.Balijepalli@syngenta.com/r-sagemaker-example/\n",
      "Preetam.Balijepalli@syngenta.com/r-sagemaker-example/input/\n",
      "Preetam.Balijepalli@syngenta.com/r-sagemaker-example/input/creditcard.csv\n",
      "Preetam.Balijepalli@syngenta.com/text-demo-docs/\n",
      "Preetam.Balijepalli@syngenta.com/text-demo-docs/Amazon-Textract-Pdf.pdf\n",
      "Preetam.Balijepalli@syngenta.com/xgboost-abolone-sagemaker/\n",
      "Preetam.Balijepalli@syngenta.com/xgboost-abolone-sagemaker/model/\n",
      "Preetam.Balijepalli@syngenta.com/xgboost-abolone-sagemaker/train/\n",
      "Preetam.Balijepalli@syngenta.com/xgboost-abolone-sagemaker/train/abalone_train.csv\n",
      "Preetam.Balijepalli@syngenta.com/xgboost-abolone-sagemaker/validation/\n",
      "Preetam.Balijepalli@syngenta.com/xgboost-abolone-sagemaker/validation/abalone_valid.csv\n"
     ]
    }
   ],
   "source": [
    "import boto3\n",
    "\n",
    "s3 = boto3.resource('s3')\n",
    "my_bucket = s3.Bucket(BUCKET_NAME)\n",
    "\n",
    "for object_summary in my_bucket.objects.filter(Prefix=\"Preetam.Balijepalli@syngenta.com\"):\n",
    "    print(object_summary.key)"
   ]
  },
  {
   "cell_type": "markdown",
   "metadata": {},
   "source": [
    "## 4. train model with sagemaker api"
   ]
  },
  {
   "cell_type": "markdown",
   "metadata": {},
   "source": [
    "first, using sagemaker api for xgboost image, can launch a model training job using the following code. please note that `role` and `region` information must be specified. can be fetched from aws programatically or hardcoded. __please check your aws console while training__"
   ]
  },
  {
   "cell_type": "code",
   "execution_count": null,
   "metadata": {
    "ExecuteTime": {
     "end_time": "2020-02-14T09:23:46.606183Z",
     "start_time": "2020-02-14T09:23:43.042799Z"
    }
   },
   "outputs": [],
   "source": [
    "import sys\n",
    "!{sys.executable} -m pip install requests==2.20.1\n"
   ]
  },
  {
   "cell_type": "code",
   "execution_count": 20,
   "metadata": {
    "ExecuteTime": {
     "end_time": "2020-04-17T14:06:33.087350Z",
     "start_time": "2020-04-17T14:06:32.978545Z"
    },
    "scrolled": false
   },
   "outputs": [],
   "source": [
    "from datetime import datetime\n",
    "import sagemaker\n",
    "from sagemaker import get_execution_role\n",
    "from sagemaker.amazon.amazon_estimator import get_image_uri\n",
    "from sagemaker.estimator import Estimator\n",
    "\n",
    "#AWS Debugger need to verified with latest version of sdk installed.\n",
    "\n",
    "#from smdebug.xgboost import Hook\n",
    "#dtrain = xgb.DMatrix(\"train.libsvm\")\n",
    "#dtest = xgb.DMatrix(\"test.libsmv\")\n",
    "#hook = Hook.create_from_json_file()\n",
    "#hook.train_data = dtrain  # required\n",
    "#hook.validation_data = dtest  # optional\n",
    "#hook.hyperparameters = params  # optional\n",
    "\n",
    "# IAM execution role that gives SageMaker access to resources in your AWS account.\n",
    "ROLE = 'arn:aws:iam::170605107178:role/SYN-Datascience-SageMaker-Role'\n",
    "REGION = 'eu-central-1'\n",
    "PREFIX_NAME = 'datascience-model-training'\n",
    "\n",
    "\n",
    "train_channel = sagemaker.session.s3_input(s3_train, content_type='text/csv') \n",
    "valid_channel = sagemaker.session.s3_input(s3_validation, content_type='text/csv')\n",
    "\n",
    "\n",
    "#sess = boto3.Session()\n",
    "#sm = sess.client('sagemaker')\n",
    "#role = get_execution_role()\n",
    "\n",
    "data_channels = {'train': train_channel, \n",
    "                 'validation': valid_channel}"
   ]
  },
  {
   "cell_type": "code",
   "execution_count": 21,
   "metadata": {
    "ExecuteTime": {
     "end_time": "2020-04-17T14:20:52.463117Z",
     "start_time": "2020-04-17T14:20:52.446069Z"
    }
   },
   "outputs": [
    {
     "name": "stdout",
     "output_type": "stream",
     "text": [
      "Using SageMaker container: 492215442770.dkr.ecr.eu-central-1.amazonaws.com/sagemaker-xgboost:0.90-1-cpu-py3 (eu-west-1)\n"
     ]
    }
   ],
   "source": [
    "import boto3\n",
    "region_name = boto3.Session(profile_name='mfa').region_name\n",
    "container = get_image_uri(REGION, 'xgboost', '0.90-1')\n",
    "print('Using SageMaker container: {} ({})'.format(container, region_name))"
   ]
  },
  {
   "cell_type": "code",
   "execution_count": 22,
   "metadata": {
    "ExecuteTime": {
     "end_time": "2020-04-17T14:24:52.346518Z",
     "start_time": "2020-04-17T14:20:56.709270Z"
    }
   },
   "outputs": [
    {
     "name": "stderr",
     "output_type": "stream",
     "text": [
      "2020-04-17 14:20:56,755 - sagemaker - INFO - Creating training-job with name: datascience-model-training-2020-04-17-14-20-56\n"
     ]
    },
    {
     "name": "stdout",
     "output_type": "stream",
     "text": [
      "2020-04-17 14:20:57 Starting - Starting the training job...\n",
      "2020-04-17 14:20:59 Starting - Launching requested ML instances...\n",
      "2020-04-17 14:21:58 Starting - Preparing the instances for training......\n",
      "2020-04-17 14:22:59 Downloading - Downloading input data\n",
      "2020-04-17 14:22:59 Training - Downloading the training image...\n",
      "2020-04-17 14:23:28 Training - Training image download completed. Training in progress..\u001b[34mINFO:sagemaker-containers:Imported framework sagemaker_xgboost_container.training\u001b[0m\n",
      "\u001b[34mINFO:sagemaker-containers:Failed to parse hyperparameter objective value reg:linear to Json.\u001b[0m\n",
      "\u001b[34mReturning the value itself\u001b[0m\n",
      "\u001b[34mINFO:sagemaker-containers:No GPUs detected (normal if no gpus installed)\u001b[0m\n",
      "\u001b[34mINFO:sagemaker_xgboost_container.training:Running XGBoost Sagemaker in algorithm mode\u001b[0m\n",
      "\u001b[34mINFO:root:Determined delimiter of CSV input is ','\u001b[0m\n",
      "\u001b[34mINFO:root:Determined delimiter of CSV input is ','\u001b[0m\n",
      "\u001b[34mINFO:root:Determined delimiter of CSV input is ','\u001b[0m\n",
      "\u001b[34m[14:23:32] 5699503x7 matrix with 39896521 entries loaded from /opt/ml/input/data/train?format=csv&label_column=0&delimiter=,\u001b[0m\n",
      "\u001b[34mINFO:root:Determined delimiter of CSV input is ','\u001b[0m\n",
      "\u001b[34m[14:23:32] 1899835x7 matrix with 13298845 entries loaded from /opt/ml/input/data/validation?format=csv&label_column=0&delimiter=,\u001b[0m\n",
      "\u001b[34mINFO:root:Single node training.\u001b[0m\n",
      "\u001b[34mINFO:root:Train matrix has 5699503 rows\u001b[0m\n",
      "\u001b[34mINFO:root:Validation matrix has 1899835 rows\u001b[0m\n",
      "\u001b[34m[14:23:32] WARNING: /workspace/src/objective/regression_obj.cu:152: reg:linear is now deprecated in favor of reg:squarederror.\u001b[0m\n",
      "\u001b[34m[14:23:32] WARNING: /workspace/src/learner.cc:686: Tree method is automatically selected to be 'approx' for faster speed. To use old behavior (exact greedy algorithm on single machine), set tree_method to 'exact'.\u001b[0m\n",
      "\u001b[34m[0]#011train-rmse:54.0127#011validation-rmse:54.002\u001b[0m\n",
      "\u001b[34m[1]#011train-rmse:44.24#011validation-rmse:44.2688\u001b[0m\n",
      "\u001b[34m[2]#011train-rmse:36.7339#011validation-rmse:36.6691\u001b[0m\n",
      "\u001b[34m[3]#011train-rmse:30.4971#011validation-rmse:30.4868\u001b[0m\n",
      "\u001b[34m[4]#011train-rmse:25.9289#011validation-rmse:25.8852\u001b[0m\n",
      "\u001b[34m[5]#011train-rmse:22.3174#011validation-rmse:22.2962\u001b[0m\n",
      "\u001b[34m[6]#011train-rmse:19.59#011validation-rmse:19.5763\u001b[0m\n",
      "\u001b[34m[7]#011train-rmse:17.5407#011validation-rmse:17.5033\u001b[0m\n",
      "\n",
      "2020-04-17 14:24:17 Uploading - Uploading generated training model\n",
      "2020-04-17 14:24:17 Completed - Training job completed\n",
      "Training seconds: 98\n",
      "Billable seconds: 98\n"
     ]
    }
   ],
   "source": [
    "subnets_config = ['subnet-0bdd33f41f946b22a', 'subnet-0c7c8959343746db7']\n",
    "security_groups_config = [ \"sg-1ad4ea70\",\n",
    "              \"sg-99d781f1\",\n",
    "              \"sg-dfa1f7b7\"]\n",
    "\n",
    "# the instance type to be used for training. using 'local' will not trigger a job on SageMaker\n",
    "train_instance_type = 'ml.m4.xlarge'\n",
    "\n",
    "\n",
    "# create the model object\n",
    "xgb_model = Estimator(container,\n",
    "                      ROLE, \n",
    "                      train_instance_count=1, \n",
    "                      train_instance_type=train_instance_type,\n",
    "                      train_volume_size = 5,\n",
    "                      subnets=subnets_config, \n",
    "                      security_group_ids=security_groups_config,\n",
    "                      output_path=s3_model_output,\n",
    "                      sagemaker_session=sagemaker.Session()\n",
    "                     )\n",
    "\n",
    "xgb_model.set_hyperparameters(max_depth = 4,\n",
    "                                  eta = .2,\n",
    "                              gamma = 4,\n",
    "                              min_child_weight = 8,\n",
    "                              silent = 0,\n",
    "                              objective = \"reg:linear\",\n",
    "                              num_round = 8)\n",
    "\n",
    "# fit the model: this would start the Training Job\n",
    "# define the job_name that will also be used for the model file\n",
    "TRAINING_JOB_NAME = PREFIX_NAME+ '-'  + datetime.now().strftime(\"%Y-%m-%d-%H-%M-%S\")\n",
    "\n",
    "xgb_model.fit(inputs=data_channels, \n",
    "              #logs=True, \n",
    "              job_name=TRAINING_JOB_NAME \n",
    ")"
   ]
  },
  {
   "cell_type": "code",
   "execution_count": null,
   "metadata": {
    "ExecuteTime": {
     "end_time": "2020-02-20T12:32:08.098311Z",
     "start_time": "2020-02-20T12:32:02.337756Z"
    }
   },
   "outputs": [],
   "source": [
    "%%sh\n",
    "\n",
    "profile='mfa'\n",
    "arn_role='arn:aws:iam::170605107178:role/SYN-Datascience-SageMaker-Role'\n",
    "training_image='492215442770.dkr.ecr.eu-central-1.amazonaws.com/sagemaker-xgboost:0.90-1-cpu-py3'\n",
    "bucket='eu.com.syngenta-datascience-model-training/Preetam.Balijepalli@syngenta.com'\n",
    "region='eu-central-1'\n",
    "\n",
    "prefix='ml-in-production-sagemaker'\n",
    "training_job_name=datascience-model-training_`date '+%Y_%m_%d_%H_%M_%S'`\n",
    "\n",
    "training_data=$bucket/$prefix/train\n",
    "eval_data=$bucket/$prefix/validation\n",
    "\n",
    "train_source={S3DataSource={S3DataType=S3Prefix,S3DataDistributionType=FullyReplicated,S3Uri=$training_data}}\n",
    "eval_source={S3DataSource={S3DataType=S3Prefix,S3DataDistributionType=FullyReplicated,S3Uri=$eval_data}}\n",
    "\n",
    "\n",
    "aws --profile $profile \\\n",
    "    --region $region \\\n",
    "    sagemaker create-training-job \\\n",
    "    --training-job-name $training_job_name\\\n",
    "    --algorithm-specification TrainingImage=$training_image,TrainingInputMode=File \\\n",
    "    --role-arn $arn_role \\\n",
    "    --input-data-config ChannelName=train,DataSource=$train_source,CompressionType=None,RecordWrapperType=None ChannelName=validation,DataSource=$eval_source,CompressionType=None,RecordWrapperType=None \\\n",
    "    --output-data-config S3OutputPath=$bucket$prefix/model \\\n",
    "    --resource-config InstanceCount=1,InstanceType=ml.c4.8xlarge,VolumeSizeInGB=50 \\\n",
    "    --stopping-condition MaxRuntimeInSeconds=3600 --debug\n"
   ]
  },
  {
   "cell_type": "markdown",
   "metadata": {},
   "source": [
    "## 5. train model with boto3 api"
   ]
  },
  {
   "cell_type": "markdown",
   "metadata": {},
   "source": [
    "a training job can be created using boto3 __and not sagemaker api__. a dictionary with all details must be specified:"
   ]
  },
  {
   "cell_type": "code",
   "execution_count": null,
   "metadata": {
    "ExecuteTime": {
     "end_time": "2020-02-20T12:51:17.479703Z",
     "start_time": "2020-02-20T12:47:59.276647Z"
    }
   },
   "outputs": [],
   "source": [
    "import boto3\n",
    "import time\n",
    "\n",
    "PREFIX_NAME = 'datascience-model-training'\n",
    "TRAINING_JOB_NAME = PREFIX_NAME +  '-' + datetime.now().strftime(\"%Y-%m-%d-%H-%M-%S\")\n",
    "\n",
    "# NEED TO REMOVE THIS TEMP HACK\n",
    "ROLE = \"arn:aws:iam::170605107178:role/SYN-Datascience-SageMaker-Role\"\n",
    "container = \"492215442770.dkr.ecr.eu-central-1.amazonaws.com/sagemaker-xgboost:0.90-1-cpu-py3\"\n",
    "REGION =\"eu-central-1\"\n",
    "\n",
    "#vpc_config = estimator.get_vpc_config()\n",
    "#print(vpc_config)\n",
    "\n",
    "create_training_params = \\\n",
    "{\n",
    "    \"AlgorithmSpecification\": {\n",
    "        \"TrainingImage\": container,\n",
    "        \"TrainingInputMode\": \"File\"\n",
    "    },\n",
    "    \"RoleArn\": ROLE,\n",
    "    \"OutputDataConfig\": {\n",
    "        \"S3OutputPath\": s3_model_output\n",
    "    },\n",
    "    \"VpcConfig\": {\n",
    "         \"Subnets\": [\n",
    "          \"subnet-0bdd33f41f946b22a\",\n",
    "          \"subnet-0c7c8959343746db7\"\n",
    "          ],\n",
    "          \"SecurityGroupIds\": [\n",
    "              \"sg-1ad4ea70\",\n",
    "              \"sg-99d781f1\",\n",
    "              \"sg-dfa1f7b7\"\n",
    "              ]\n",
    "    },\n",
    "    \"ResourceConfig\": {\n",
    "        \"InstanceCount\": 1,\n",
    "        \"InstanceType\": \"ml.m4.4xlarge\",\n",
    "        \"VolumeSizeInGB\": 5\n",
    "    },\n",
    "    \"TrainingJobName\": TRAINING_JOB_NAME,\n",
    "    \"HyperParameters\": {\n",
    "        \"max_depth\":\"4\",\n",
    "        \"eta\":\"0.2\",\n",
    "        \"gamma\":\"4\",\n",
    "        \"min_child_weight\":\"4\",\n",
    "        \"subsample\":\"0.7\",\n",
    "        \"silent\":\"0\",\n",
    "        \"objective\":\"reg:linear\",\n",
    "        \"num_round\":\"8\"\n",
    "    },\n",
    "    \"StoppingCondition\": {\n",
    "        \"MaxRuntimeInSeconds\": 3600\n",
    "    },\n",
    "    \"InputDataConfig\": [\n",
    "        {\n",
    "            \"ChannelName\": \"train\",\n",
    "            \"DataSource\": {\n",
    "                \"S3DataSource\": {\n",
    "                    \"S3DataType\": \"S3Prefix\",\n",
    "                    \"S3Uri\": s3_train,\n",
    "                    \"S3DataDistributionType\": \"FullyReplicated\"\n",
    "                }\n",
    "            },\n",
    "            \"ContentType\": \"text/csv\",\n",
    "            \"CompressionType\": \"None\"\n",
    "        },\n",
    "        {\n",
    "            \"ChannelName\": \"validation\",\n",
    "            \"DataSource\": {\n",
    "                \"S3DataSource\": {\n",
    "                    \"S3DataType\": \"S3Prefix\",\n",
    "                    \"S3Uri\": s3_validation,\n",
    "                    \"S3DataDistributionType\": \"FullyReplicated\"\n",
    "                }\n",
    "            },\n",
    "            \"ContentType\": \"text/csv\",\n",
    "            \"CompressionType\": \"None\"\n",
    "        }\n",
    "    ]\n",
    "}\n",
    "\n",
    "client = boto3.session.Session(profile_name='mfa').client('sagemaker', region_name=REGION)\n",
    "client.create_training_job(**create_training_params)\n",
    "status = client.describe_training_job(TrainingJobName=TRAINING_JOB_NAME)['TrainingJobStatus']\n",
    "print(status)\n",
    "\n",
    "# this loop will query status until completed, there is no more info available, go to aws console for more...\n",
    "while status !='Completed' and status!='Failed':\n",
    "    time.sleep(16)\n",
    "    status = client.describe_training_job(TrainingJobName=TRAINING_JOB_NAME)['TrainingJobStatus']\n",
    "    logger.info('training job created with boto3 api is:' + status)"
   ]
  },
  {
   "cell_type": "markdown",
   "metadata": {},
   "source": [
    "## 6. serving model with sagemaker api"
   ]
  },
  {
   "cell_type": "markdown",
   "metadata": {},
   "source": [
    "to deploy a model and create an endpoint using sagemaker api, `deploy` method of sagemaker estimator can be used. takes some time... go grab some cofee!"
   ]
  },
  {
   "cell_type": "code",
   "execution_count": 23,
   "metadata": {
    "ExecuteTime": {
     "end_time": "2020-04-17T14:36:57.569655Z",
     "start_time": "2020-04-17T14:28:36.955022Z"
    }
   },
   "outputs": [
    {
     "name": "stderr",
     "output_type": "stream",
     "text": [
      "2020-04-17 14:28:37,592 - sagemaker - INFO - Creating model with name: ml-in-production-sagemaker-api-model\n",
      "2020-04-17 14:28:37,970 - sagemaker - WARNING - Using already existing model: ml-in-production-sagemaker-api-model\n",
      "2020-04-17 14:28:38,836 - sagemaker - INFO - Creating endpoint with name ml-in-production-sagemaker-api-endpoint\n"
     ]
    },
    {
     "name": "stdout",
     "output_type": "stream",
     "text": [
      "-------------------------------------------------------------------------------------------------!"
     ]
    }
   ],
   "source": [
    "ENDPOINT_NAME = 'ml-in-production-sagemaker-api-endpoint'\n",
    "MODEL_NAME = 'ml-in-production-sagemaker-api-model'\n",
    "\n",
    "xgb_predictor = xgb_model.deploy(initial_instance_count=1,\n",
    "                                 instance_type='ml.t2.medium',\n",
    "                                 endpoint_name=ENDPOINT_NAME,\n",
    "                                 model_name=MODEL_NAME)"
   ]
  },
  {
   "cell_type": "markdown",
   "metadata": {},
   "source": [
    "## 7. serving model with boto3 api"
   ]
  },
  {
   "cell_type": "markdown",
   "metadata": {},
   "source": [
    "not straightforward, involves 3 steps, too low level to explain here, does not worth the pain having sagemaker api and mlflow... let's try mlflow with an sklearn model instead :-D"
   ]
  },
  {
   "cell_type": "markdown",
   "metadata": {},
   "source": [
    "## 8. invoking endpoint (just boto3 api option)"
   ]
  },
  {
   "cell_type": "code",
   "execution_count": 25,
   "metadata": {
    "ExecuteTime": {
     "end_time": "2020-04-22T10:45:28.647900Z",
     "start_time": "2020-04-22T10:45:27.987086Z"
    },
    "code_folding": [
     0
    ]
   },
   "outputs": [
    {
     "name": "stdout",
     "output_type": "stream",
     "text": [
      "The following endpoints exist for the `ml-in-production-sagemaker-api-endpoint` application: ['ml-in-production-sagemaker-api-endpoint']\n"
     ]
    }
   ],
   "source": [
    "def get_active_endpoints(app_name):\n",
    "  sage_client = boto3.client('sagemaker', region_name=REGION)\n",
    "  app_endpoints = sage_client.list_endpoints(NameContains=app_name)[\"Endpoints\"]\n",
    "  return list(filter(lambda en : en == app_name, [str(endpoint[\"EndpointName\"]) for endpoint in app_endpoints]))\n",
    "\n",
    "app_name = \"ml-in-production-sagemaker-api-endpoint\"\n",
    "print(\"The following endpoints exist for the `{an}` application: {eps}\".format(an=app_name, eps=get_active_endpoints(app_name)))"
   ]
  },
  {
   "cell_type": "code",
   "execution_count": null,
   "metadata": {
    "ExecuteTime": {
     "end_time": "2020-02-20T07:44:03.054368Z",
     "start_time": "2020-02-20T07:44:01.741314Z"
    }
   },
   "outputs": [],
   "source": [
    "import boto3\n",
    "runtime = boto3.client('runtime.sagemaker')\n",
    "\n",
    "logger.info('getting a sample of 100 elements from test split')\n",
    "test_sample = renfe_test.sample(100)\n",
    "\n",
    "body = test_sample[features].to_csv(header=False, index=False)\n",
    "\n",
    "logger.info('calling endpoint...')\n",
    "response = runtime.invoke_endpoint(EndpointName=ENDPOINT_NAME,\n",
    "                                   ContentType='text/csv',\n",
    "                                   Body=body) # data must be passed as .csv (string)\n",
    "display(response)\n",
    "y_pred = list(map(lambda x: float(x), response['Body'].read().decode().split(',')))  # result is a string and must be parsed"
   ]
  },
  {
   "cell_type": "markdown",
   "metadata": {},
   "source": [
    "let's compare result with reality:"
   ]
  },
  {
   "cell_type": "code",
   "execution_count": null,
   "metadata": {
    "ExecuteTime": {
     "end_time": "2020-02-20T07:44:06.038811Z",
     "start_time": "2020-02-20T07:44:06.026704Z"
    }
   },
   "outputs": [],
   "source": [
    "from sklearn.metrics import mean_absolute_error\n",
    "y_true = test_sample['price']\n",
    "logger.info(f\"mae for xbgoost model is: {mean_absolute_error(y_true=y_true, y_pred=y_pred)}\")\n",
    "\n",
    "display(pd.DataFrame({'y_true': y_true, 'y_pred': y_pred}))"
   ]
  },
  {
   "cell_type": "markdown",
   "metadata": {},
   "source": [
    "## 9. deploy model using mlflow the easy way (sklearn version)"
   ]
  },
  {
   "cell_type": "code",
   "execution_count": null,
   "metadata": {
    "ExecuteTime": {
     "end_time": "2020-02-20T07:26:29.936134Z",
     "start_time": "2020-02-20T07:22:50.635488Z"
    }
   },
   "outputs": [],
   "source": [
    "from sklearn.ensemble import RandomForestRegressor\n",
    "\n",
    "X = renfe_train[features]\n",
    "y = renfe_train[target]\n",
    "\n",
    "rf = RandomForestRegressor(n_estimators=256, \n",
    "                           n_jobs=32,  # adapt to your processor(s)\n",
    "                           verbose=1,\n",
    "                           max_depth=8)  # limit max depth to keep serialized model under 100MB (or it will be unable to deploy in AWS)\n",
    "rf.fit(X, y)"
   ]
  },
  {
   "cell_type": "markdown",
   "metadata": {},
   "source": [
    "check results for this model:"
   ]
  },
  {
   "cell_type": "code",
   "execution_count": null,
   "metadata": {
    "ExecuteTime": {
     "end_time": "2020-02-20T07:44:15.720446Z",
     "start_time": "2020-02-20T07:44:15.602304Z"
    }
   },
   "outputs": [],
   "source": [
    "y_pred=rf.predict(test_sample[features])\n",
    "y_true=test_sample['price']\n",
    "\n",
    "logger.info(f\"mae for xbgoost model is: {mean_absolute_error(y_true=y_true, y_pred=y_pred)}\")\n",
    "\n",
    "display(pd.DataFrame({'y_true': y_true, 'y_pred': y_pred}))"
   ]
  },
  {
   "cell_type": "code",
   "execution_count": null,
   "metadata": {
    "ExecuteTime": {
     "end_time": "2020-02-20T07:44:24.213503Z",
     "start_time": "2020-02-20T07:44:23.656417Z"
    }
   },
   "outputs": [],
   "source": [
    "import mlflow.sklearn\n",
    "\n",
    "MODEL_PATH = '../output/price_pred_model'\n",
    "!rm -rf $MODEL_PATH  # '!' can be used to execute bash commands in jupyter cells\n",
    "\n",
    "mlflow.sklearn.save_model(sk_model=rf, path=MODEL_PATH)\n",
    "logger.info(\"model saved!\")"
   ]
  },
  {
   "cell_type": "markdown",
   "metadata": {},
   "source": [
    "using `mlflow.sagemaker` module, this model can be deployed directly in AWS, with just one line of code..."
   ]
  },
  {
   "cell_type": "code",
   "execution_count": null,
   "metadata": {
    "ExecuteTime": {
     "end_time": "2020-02-20T16:36:26.375619Z",
     "start_time": "2020-02-20T16:36:22.848326Z"
    }
   },
   "outputs": [],
   "source": [
    "import mlflow.sagemaker\n",
    "\n",
    "ENDPOINT_NAME = 'ml-in-prod-mad-mlf-api-ep'\n",
    "\n",
    "\n",
    "aws_id = \"170605107178\" # from the aws-cli output\n",
    "arn = \"arn:aws:iam::170605107178:role/SYN-Datascience-SageMaker-Role\"\n",
    "app_name = \"iris-rf-1\"\n",
    "image_url = aws_id + \".dkr.ecr.\" + REGION + \".amazonaws.com/mlflow-pyfunc:1.2.0\" \n",
    "print(image_url)\n",
    "\n",
    "s3_model_output =\"s3://eu.com.syngenta-datascience-model-training/Preetam.Balijepalli@syngenta.com/ml-in-production-sagemaker/model\"\n",
    "\n",
    "\n",
    "\n",
    "\n",
    "mlflow.sagemaker.deploy(app_name=ENDPOINT_NAME, \n",
    "                         model_uri=MODEL_PATH, \n",
    "                         execution_role_arn=ROLE, \n",
    "                         bucket=s3_model_output,\n",
    "                         region_name=REGION, \n",
    "                         mode='create',  # try 'replace'\n",
    "                         instance_type='ml.t2.medium', \n",
    "                         instance_count=1)\n",
    "\n"
   ]
  },
  {
   "cell_type": "markdown",
   "metadata": {},
   "source": [
    "endpoint can be invoked the usual way, using boto3. authenticating against aws using plain curl or requests is much harder than just store its credentials and using aws sdk:"
   ]
  },
  {
   "cell_type": "code",
   "execution_count": null,
   "metadata": {
    "ExecuteTime": {
     "end_time": "2019-12-13T12:09:00.765100Z",
     "start_time": "2019-12-13T12:01:53.307Z"
    }
   },
   "outputs": [],
   "source": [
    "import json\n",
    "body = test_sample[features].to_json(orient='split')\n",
    "response = runtime.invoke_endpoint(EndpointName=ENDPOINT_NAME,\n",
    "                                   ContentType='application/json',\n",
    "                                   Body=body)\n",
    "\n",
    "y_pred = json.loads(response['Body'].read().decode())\n",
    "y_true = test_sample[target]\n",
    "\n",
    "logger.info(f\"mae for xbgoost model is: {mean_absolute_error(y_true=y_true, y_pred=y_pred)}\")\n",
    "\n",
    "display(pd.DataFrame({'y_true': y_true, 'y_pred': y_pred}))"
   ]
  },
  {
   "cell_type": "markdown",
   "metadata": {},
   "source": [
    "## 10. references"
   ]
  },
  {
   "cell_type": "markdown",
   "metadata": {},
   "source": [
    "- https://www.mlflow.org/docs/latest/models.html#built-in-deployment-tools\n",
    "- https://aws.amazon.com/sagemaker/features/"
   ]
  },
  {
   "cell_type": "code",
   "execution_count": null,
   "metadata": {
    "ExecuteTime": {
     "end_time": "2020-02-20T12:52:22.712340Z",
     "start_time": "2020-02-20T12:52:21.867133Z"
    }
   },
   "outputs": [],
   "source": [
    "# Delete end point with boto3\n",
    "import boto3\n",
    "\n",
    "ENDPOINT_NAME = 'ml-in-production-sagemaker-api-endpoint'\n",
    "client = boto3.session.Session().client('sagemaker', region_name=REGION) #profile_name='mfa'\n",
    "client.delete_endpoint(EndpointName=ENDPOINT_NAME)\n",
    "client.delete_endpoint_config(EndpointConfigName=ENDPOINT_NAME)"
   ]
  },
  {
   "cell_type": "code",
   "execution_count": null,
   "metadata": {},
   "outputs": [],
   "source": []
  }
 ],
 "metadata": {
  "jupytext": {
   "formats": "ipynb,auto:light"
  },
  "kernelspec": {
   "display_name": "mlflow-sagemaker",
   "language": "python",
   "name": "mlflow-sagemaker"
  },
  "language_info": {
   "codemirror_mode": {
    "name": "ipython",
    "version": 3
   },
   "file_extension": ".py",
   "mimetype": "text/x-python",
   "name": "python",
   "nbconvert_exporter": "python",
   "pygments_lexer": "ipython3",
   "version": "3.7.3"
  },
  "toc": {
   "base_numbering": 1,
   "nav_menu": {},
   "number_sections": true,
   "sideBar": true,
   "skip_h1_title": false,
   "title_cell": "Table of Contents",
   "title_sidebar": "Contents",
   "toc_cell": false,
   "toc_position": {
    "height": "calc(100% - 180px)",
    "left": "10px",
    "top": "150px",
    "width": "229.688px"
   },
   "toc_section_display": true,
   "toc_window_display": true
  },
  "varInspector": {
   "cols": {
    "lenName": 16,
    "lenType": 16,
    "lenVar": 40
   },
   "kernels_config": {
    "python": {
     "delete_cmd_postfix": "",
     "delete_cmd_prefix": "del ",
     "library": "var_list.py",
     "varRefreshCmd": "print(var_dic_list())"
    },
    "r": {
     "delete_cmd_postfix": ") ",
     "delete_cmd_prefix": "rm(",
     "library": "var_list.r",
     "varRefreshCmd": "cat(var_dic_list()) "
    }
   },
   "types_to_exclude": [
    "module",
    "function",
    "builtin_function_or_method",
    "instance",
    "_Feature"
   ],
   "window_display": false
  }
 },
 "nbformat": 4,
 "nbformat_minor": 2
}
