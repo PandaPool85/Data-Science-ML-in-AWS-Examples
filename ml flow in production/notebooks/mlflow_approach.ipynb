{
 "cells": [
  {
   "cell_type": "markdown",
   "metadata": {},
   "source": [
    "# MACHINE LEARNING IN PRODUCTION MADRID - MLFLOW APPROACH"
   ]
  },
  {
   "cell_type": "markdown",
   "metadata": {},
   "source": [
    "In previous lessons we've seen the feature engineering process of our dataset and we tried out the HDBSCAN algorithm for clustering. In this notebook we'll just focus on the training part (clusterization) using a KMeans algorithm from Scikit-Learn for the sake of simplicity.\n",
    "\n",
    "We'll compare the traditional Machine Learning training approach with the new MLFlow paradigma. In order to focus just on training we'll load the embedding that comes from the UMAP projection (checkpoint in previous lesson)."
   ]
  },
  {
   "cell_type": "markdown",
   "metadata": {},
   "source": [
    "## Traditional approach"
   ]
  },
  {
   "cell_type": "markdown",
   "metadata": {},
   "source": [
    "### ETL"
   ]
  },
  {
   "cell_type": "code",
   "execution_count": 1,
   "metadata": {
    "ExecuteTime": {
     "end_time": "2020-03-24T11:59:19.794889Z",
     "start_time": "2020-03-24T11:59:18.339843Z"
    }
   },
   "outputs": [
    {
     "name": "stdout",
     "output_type": "stream",
     "text": [
      "\n",
      "INSTALLED VERSIONS\n",
      "------------------\n",
      "commit           : None\n",
      "python           : 3.7.3.final.0\n",
      "python-bits      : 64\n",
      "OS               : Linux\n",
      "OS-release       : 3.10.0-1062.4.3.el7.x86_64\n",
      "machine          : x86_64\n",
      "processor        : x86_64\n",
      "byteorder        : little\n",
      "LC_ALL           : None\n",
      "LANG             : en_US.UTF-8\n",
      "LOCALE           : en_US.UTF-8\n",
      "\n",
      "pandas           : 0.25.1\n",
      "numpy            : 1.16.2\n",
      "pytz             : 2018.9\n",
      "dateutil         : 2.8.0\n",
      "pip              : 20.0.2\n",
      "setuptools       : 41.6.0\n",
      "Cython           : 0.29.6\n",
      "pytest           : 4.3.1\n",
      "hypothesis       : None\n",
      "sphinx           : 1.8.5\n",
      "blosc            : None\n",
      "feather          : None\n",
      "xlsxwriter       : 1.1.5\n",
      "lxml.etree       : 4.3.2\n",
      "html5lib         : 1.0.1\n",
      "pymysql          : None\n",
      "psycopg2         : 2.8.3 (dt dec pq3 ext)\n",
      "jinja2           : 2.10.3\n",
      "IPython          : 7.4.0\n",
      "pandas_datareader: None\n",
      "bs4              : 4.7.1\n",
      "bottleneck       : 1.2.1\n",
      "fastparquet      : 0.2.1\n",
      "gcsfs            : None\n",
      "lxml.etree       : 4.3.2\n",
      "matplotlib       : 3.1.1\n",
      "numexpr          : 2.6.9\n",
      "odfpy            : None\n",
      "openpyxl         : 2.6.1\n",
      "pandas_gbq       : None\n",
      "pyarrow          : 0.13.0\n",
      "pytables         : None\n",
      "s3fs             : 0.3.5\n",
      "scipy            : 1.4.1\n",
      "sqlalchemy       : 1.3.1\n",
      "tables           : 3.5.1\n",
      "xarray           : None\n",
      "xlrd             : 1.2.0\n",
      "xlwt             : 1.3.0\n",
      "xlsxwriter       : 1.1.5\n"
     ]
    }
   ],
   "source": [
    "import pandas as pd  \n",
    "\n",
    "pd.show_versions()"
   ]
  },
  {
   "cell_type": "code",
   "execution_count": 2,
   "metadata": {
    "ExecuteTime": {
     "end_time": "2020-03-24T11:59:21.528004Z",
     "start_time": "2020-03-24T11:59:19.815252Z"
    }
   },
   "outputs": [
    {
     "name": "stdout",
     "output_type": "stream",
     "text": [
      "s3://dsla/ml-in-production/data/output/processed/embedding.parquet\n"
     ]
    },
    {
     "data": {
      "text/html": [
       "<div>\n",
       "<style scoped>\n",
       "    .dataframe tbody tr th:only-of-type {\n",
       "        vertical-align: middle;\n",
       "    }\n",
       "\n",
       "    .dataframe tbody tr th {\n",
       "        vertical-align: top;\n",
       "    }\n",
       "\n",
       "    .dataframe thead th {\n",
       "        text-align: right;\n",
       "    }\n",
       "</style>\n",
       "<table border=\"1\" class=\"dataframe\">\n",
       "  <thead>\n",
       "    <tr style=\"text-align: right;\">\n",
       "      <th></th>\n",
       "      <th>x</th>\n",
       "      <th>y</th>\n",
       "    </tr>\n",
       "  </thead>\n",
       "  <tbody>\n",
       "    <tr>\n",
       "      <td>0</td>\n",
       "      <td>-2.540982</td>\n",
       "      <td>-2.726460</td>\n",
       "    </tr>\n",
       "    <tr>\n",
       "      <td>1</td>\n",
       "      <td>-1.608069</td>\n",
       "      <td>12.417865</td>\n",
       "    </tr>\n",
       "    <tr>\n",
       "      <td>2</td>\n",
       "      <td>-3.363984</td>\n",
       "      <td>-5.863577</td>\n",
       "    </tr>\n",
       "    <tr>\n",
       "      <td>3</td>\n",
       "      <td>14.502577</td>\n",
       "      <td>2.635897</td>\n",
       "    </tr>\n",
       "    <tr>\n",
       "      <td>4</td>\n",
       "      <td>-2.051581</td>\n",
       "      <td>-10.573081</td>\n",
       "    </tr>\n",
       "  </tbody>\n",
       "</table>\n",
       "</div>"
      ],
      "text/plain": [
       "           x          y\n",
       "0  -2.540982  -2.726460\n",
       "1  -1.608069  12.417865\n",
       "2  -3.363984  -5.863577\n",
       "3  14.502577   2.635897\n",
       "4  -2.051581 -10.573081"
      ]
     },
     "execution_count": 2,
     "metadata": {},
     "output_type": "execute_result"
    }
   ],
   "source": [
    "# modified below code so that data can be read from  s3\n",
    "\n",
    "path = \"embedding.parquet\"  # about 60MB in .parquet file, but 3.5Gb in memory, be careful!\n",
    "bucket = \"dsla\"\n",
    "folder = \"ml-in-production/data/output/processed\"\n",
    "bucket_uri = f's3://{bucket}/{folder}/{path}'\n",
    "print(bucket_uri)\n",
    "\n",
    "df = pd.read_parquet(bucket_uri)\n",
    "\n",
    "df.head()"
   ]
  },
  {
   "cell_type": "markdown",
   "metadata": {},
   "source": [
    "### Clustering"
   ]
  },
  {
   "cell_type": "code",
   "execution_count": 3,
   "metadata": {
    "ExecuteTime": {
     "end_time": "2020-03-24T11:59:23.407677Z",
     "start_time": "2020-03-24T11:59:21.562460Z"
    }
   },
   "outputs": [
    {
     "name": "stdout",
     "output_type": "stream",
     "text": [
      "Cluster Ids: [ 0  1  2  3  4  5  6  7  8  9 10 11]\n"
     ]
    }
   ],
   "source": [
    "import numpy as np\n",
    "from sklearn.cluster import KMeans\n",
    "    \n",
    "# parameters for KMeans\n",
    "n_clusters = 12\n",
    "algorithm = 'elkan'\n",
    "tol=1e-3\n",
    "\n",
    "kmeans_m = KMeans(n_clusters=n_clusters,\n",
    "                  algorithm=algorithm,\n",
    "                  tol=1e-3,\n",
    "                  random_state=42,\n",
    "                  precompute_distances=True, \n",
    "                  n_jobs=-1)\n",
    "\n",
    "clustering = kmeans_m.fit_predict(df)\n",
    "\n",
    "print(f'Cluster Ids: {np.sort(np.unique(clustering))}')"
   ]
  },
  {
   "cell_type": "markdown",
   "metadata": {},
   "source": [
    "### Metrics"
   ]
  },
  {
   "cell_type": "markdown",
   "metadata": {},
   "source": [
    "In order to evaluate how good or bad is our model we'll use the silhouette score and the inertia."
   ]
  },
  {
   "cell_type": "code",
   "execution_count": 4,
   "metadata": {
    "ExecuteTime": {
     "end_time": "2020-03-24T11:59:25.187143Z",
     "start_time": "2020-03-24T11:59:23.923361Z"
    }
   },
   "outputs": [
    {
     "name": "stdout",
     "output_type": "stream",
     "text": [
      "Silhouette Score: 0.5289595723152161\n",
      "Inertia: 34998.90367505566\n"
     ]
    }
   ],
   "source": [
    "from sklearn.metrics import silhouette_score\n",
    "\n",
    "silhouette = silhouette_score(df, clustering)\n",
    "print(f'Silhouette Score: {silhouette}')\n",
    "\n",
    "inertia = kmeans_m.inertia_\n",
    "print(f'Inertia: {inertia}')"
   ]
  },
  {
   "cell_type": "markdown",
   "metadata": {},
   "source": [
    "It is also useful to save the clustering plot to check how it is related with the clustering metrics"
   ]
  },
  {
   "cell_type": "code",
   "execution_count": 5,
   "metadata": {
    "ExecuteTime": {
     "end_time": "2020-03-24T11:59:26.916743Z",
     "start_time": "2020-03-24T11:59:25.805588Z"
    },
    "lines_to_next_cell": 2
   },
   "outputs": [
    {
     "data": {
      "image/png": "[encoded data removed]",
      "text/plain": [
       "<Figure size 432x288 with 1 Axes>"
      ]
     },
     "metadata": {
      "needs_background": "light"
     },
     "output_type": "display_data"
    }
   ],
   "source": [
    "import matplotlib.pyplot as plt\n",
    "\n",
    "%matplotlib inline\n",
    "\n",
    "fig, ax = plt.subplots()\n",
    "\n",
    "scatter = ax.scatter(x=df['x'], \n",
    "                     y=df['y'], \n",
    "                     c=clustering)\n",
    "legend = ax.legend(*scatter.legend_elements(num=n_clusters), \n",
    "                   title='Clusters', \n",
    "                   loc='upper right', \n",
    "                   bbox_to_anchor=(1.25,1.0))\n",
    "ax.add_artist(legend);\n",
    "\n",
    "output_folder = '../output/figures'\n",
    "\n",
    "!if [ ! -d $output_folder ]; then mkdir -p $output_folder; fi\n",
    "\n",
    "figure_path = f'{output_folder}/{n_clusters}_{algorithm}_{tol}.png'\n",
    "plt.show()\n",
    "plt.savefig(figure_path)\n",
    "plt.close()\n"
   ]
  },
  {
   "cell_type": "code",
   "execution_count": 6,
   "metadata": {
    "ExecuteTime": {
     "end_time": "2020-03-24T11:59:27.668839Z",
     "start_time": "2020-03-24T11:59:27.132152Z"
    }
   },
   "outputs": [
    {
     "name": "stdout",
     "output_type": "stream",
     "text": [
      "../output/figures/12_elkan_0.001.png\n",
      "<_io.BufferedReader name='../output/figures/12_elkan_0.001.png'>\n"
     ]
    }
   ],
   "source": [
    "# Upload to S3 instead of saving to local\n",
    "\n",
    "import io\n",
    "import boto3 # Amazon's aws library for python 3\n",
    "\n",
    "# create a connection to s3\n",
    "s3 = boto3.resource('s3')\n",
    "\n",
    "bucket = \"dsla\"\n",
    "figure_path = f'{output_folder}/{n_clusters}_{algorithm}_{tol}.png'\n",
    "\n",
    "# upload image to aws s3\n",
    "# warning, the ACL here is set to private (not public-read)\n",
    "\n",
    "print(figure_path)\n",
    "\n",
    "img_data = open(figure_path, \"rb\")\n",
    "print(img_data)\n",
    "\n",
    "s3.Bucket(bucket).put_object(Key=f'{n_clusters}_{algorithm}_{tol}.png', Body=img_data, \n",
    "                       ContentType=\"image/png\" , ACL=\"private\")\n",
    "\n",
    "# Generate the URL to get 'key-name' from 'bucket-name'\n",
    "url = \"http://\" + bucket + \".s3.amazonaws.com/\" +  f'{output_folder}/{n_clusters}_{algorithm}_{tol}.png'\n",
    "# this url should open the uploaded image as an image in a browser window  "
   ]
  },
  {
   "cell_type": "markdown",
   "metadata": {},
   "source": [
    "## MLFlow approach"
   ]
  },
  {
   "cell_type": "markdown",
   "metadata": {},
   "source": [
    "Now is the time of seeing how this model would be trained using the MLFlow API and the benefits of doing it this way over the traditional approach"
   ]
  },
  {
   "cell_type": "markdown",
   "metadata": {},
   "source": [
    "### ETL"
   ]
  },
  {
   "cell_type": "markdown",
   "metadata": {},
   "source": [
    "In order to clean the code a little bit most of the imports have been defined here"
   ]
  },
  {
   "cell_type": "code",
   "execution_count": 7,
   "metadata": {
    "ExecuteTime": {
     "end_time": "2020-03-24T11:59:30.536386Z",
     "start_time": "2020-03-24T11:59:30.531248Z"
    }
   },
   "outputs": [],
   "source": [
    "import numpy as np\n",
    "import pandas as pd\n",
    "import matplotlib.pyplot as plt\n",
    "\n",
    "from sklearn.cluster import KMeans\n",
    "from sklearn.metrics import silhouette_score\n",
    "\n",
    "%matplotlib inline"
   ]
  },
  {
   "cell_type": "code",
   "execution_count": 8,
   "metadata": {
    "ExecuteTime": {
     "end_time": "2020-03-24T11:59:32.888767Z",
     "start_time": "2020-03-24T11:59:31.537371Z"
    }
   },
   "outputs": [
    {
     "name": "stdout",
     "output_type": "stream",
     "text": [
      "s3://dsla/ml-in-production/data/output/processed/embedding.parquet\n"
     ]
    },
    {
     "data": {
      "text/html": [
       "<div>\n",
       "<style scoped>\n",
       "    .dataframe tbody tr th:only-of-type {\n",
       "        vertical-align: middle;\n",
       "    }\n",
       "\n",
       "    .dataframe tbody tr th {\n",
       "        vertical-align: top;\n",
       "    }\n",
       "\n",
       "    .dataframe thead th {\n",
       "        text-align: right;\n",
       "    }\n",
       "</style>\n",
       "<table border=\"1\" class=\"dataframe\">\n",
       "  <thead>\n",
       "    <tr style=\"text-align: right;\">\n",
       "      <th></th>\n",
       "      <th>x</th>\n",
       "      <th>y</th>\n",
       "    </tr>\n",
       "  </thead>\n",
       "  <tbody>\n",
       "    <tr>\n",
       "      <td>0</td>\n",
       "      <td>-2.540982</td>\n",
       "      <td>-2.726460</td>\n",
       "    </tr>\n",
       "    <tr>\n",
       "      <td>1</td>\n",
       "      <td>-1.608069</td>\n",
       "      <td>12.417865</td>\n",
       "    </tr>\n",
       "    <tr>\n",
       "      <td>2</td>\n",
       "      <td>-3.363984</td>\n",
       "      <td>-5.863577</td>\n",
       "    </tr>\n",
       "    <tr>\n",
       "      <td>3</td>\n",
       "      <td>14.502577</td>\n",
       "      <td>2.635897</td>\n",
       "    </tr>\n",
       "    <tr>\n",
       "      <td>4</td>\n",
       "      <td>-2.051581</td>\n",
       "      <td>-10.573081</td>\n",
       "    </tr>\n",
       "  </tbody>\n",
       "</table>\n",
       "</div>"
      ],
      "text/plain": [
       "           x          y\n",
       "0  -2.540982  -2.726460\n",
       "1  -1.608069  12.417865\n",
       "2  -3.363984  -5.863577\n",
       "3  14.502577   2.635897\n",
       "4  -2.051581 -10.573081"
      ]
     },
     "execution_count": 8,
     "metadata": {},
     "output_type": "execute_result"
    }
   ],
   "source": [
    "# modified below code so that data can be read from  s3\n",
    "\n",
    "path = \"embedding.parquet\"  # about 60MB in .parquet file, but 3.5Gb in memory, be careful!\n",
    "bucket = \"dsla\"\n",
    "folder = \"ml-in-production/data/output/processed\"\n",
    "bucket_uri = f's3://{bucket}/{folder}/{path}'\n",
    "print(bucket_uri)\n",
    "\n",
    "df = pd.read_parquet(bucket_uri)\n",
    "\n",
    "#df = pd.read_parquet('../output/processed/embedding.parquet')\n",
    "\n",
    "df.head()"
   ]
  },
  {
   "cell_type": "markdown",
   "metadata": {},
   "source": [
    "### MLFlow Setup"
   ]
  },
  {
   "cell_type": "markdown",
   "metadata": {},
   "source": [
    "The first step is to create an MLFlow experiment, so that all runs of our training process could be well organized. It is also needed specify which is the URL of our Tracking Server."
   ]
  },
  {
   "cell_type": "code",
   "execution_count": 9,
   "metadata": {
    "ExecuteTime": {
     "end_time": "2020-03-24T11:59:35.528996Z",
     "start_time": "2020-03-24T11:59:35.161514Z"
    }
   },
   "outputs": [],
   "source": [
    "import mlflow\n",
    "\n",
    "mlflow.set_tracking_uri('http://usaeilidssbxd01.syngentaaws.org:8888')\n",
    "#mlflow.set_tracking_uri('http://usaeilidssbxp01.syngentaaws.org:8888')\n",
    "\n",
    "mlflow.set_experiment('ml-in-production-experiment')"
   ]
  },
  {
   "cell_type": "markdown",
   "metadata": {},
   "source": [
    "### MLFlow Train"
   ]
  },
  {
   "cell_type": "markdown",
   "metadata": {},
   "source": [
    "Then, the following step would be creating a run for the experiment so that all the training process could be monitored and logged. This can be done just with the mlflow.start_run() sentence. The rest of API calls are explained with comments over the next cell."
   ]
  },
  {
   "cell_type": "code",
   "execution_count": 10,
   "metadata": {
    "ExecuteTime": {
     "end_time": "2020-03-24T11:59:45.720288Z",
     "start_time": "2020-03-24T11:59:38.123216Z"
    }
   },
   "outputs": [
    {
     "name": "stdout",
     "output_type": "stream",
     "text": [
      "Silhouette Score: 0.5289595723152161\n",
      "Inertia: 34998.90367505566\n"
     ]
    },
    {
     "data": {
      "image/png": "[encoded data removed]",
      "text/plain": [
       "<Figure size 432x288 with 1 Axes>"
      ]
     },
     "metadata": {
      "needs_background": "light"
     },
     "output_type": "display_data"
    }
   ],
   "source": [
    "import mlflow.sklearn\n",
    "\n",
    "# starts run and closes it after all code has been executed\n",
    "with mlflow.start_run():\n",
    "    \n",
    "    # parameters for KMeans\n",
    "    n_clusters = 12\n",
    "    algorithm = 'elkan'\n",
    "    tol=1e-3\n",
    "\n",
    "    # training\n",
    "    kmeans_m = KMeans(n_clusters=n_clusters,\n",
    "                      algorithm=algorithm,\n",
    "                      tol=1e-3,\n",
    "                      random_state=42,\n",
    "                      precompute_distances=True, \n",
    "                      n_jobs=-1)\n",
    "    clustering = kmeans_m.fit_predict(df)\n",
    "\n",
    "    # metrics\n",
    "    silhouette = silhouette_score(df, clustering)\n",
    "    print(f'Silhouette Score: {silhouette}')\n",
    "\n",
    "    inertia = kmeans_m.inertia_\n",
    "    print(f'Inertia: {inertia}')\n",
    "    \n",
    "    fig, ax = plt.subplots()\n",
    "\n",
    "    scatter = ax.scatter(x=df['x'], \n",
    "                         y=df['y'], \n",
    "                         c=clustering)\n",
    "    legend = ax.legend(*scatter.legend_elements(num=n_clusters), \n",
    "                       title='Clusters', \n",
    "                       loc='upper right', \n",
    "                       bbox_to_anchor=(1.25,1.0))\n",
    "    ax.add_artist(legend);\n",
    "    \n",
    "    output_folder = '../output/figures'\n",
    "\n",
    "    !if [ ! -d $output_folder ]; then mkdir -p $output_folder; fi\n",
    "\n",
    "    figure_path = f'{output_folder}/{n_clusters}_{algorithm}_{tol}.png'\n",
    "    plt.show()\n",
    "    plt.savefig(figure_path)\n",
    "    plt.close()\n",
    "    \n",
    "    # here starts the MLFlow monitoring\n",
    "    \n",
    "    # first the model hyperparameters are logged to the tracking server\n",
    "    mlflow.log_param('n_clusters', n_clusters)\n",
    "    mlflow.log_param('algorithm', algorithm)\n",
    "    mlflow.log_param('tol', tol)\n",
    "    \n",
    "    # then the metrics resulting from the training process\n",
    "    mlflow.log_metric('silhouette', silhouette)\n",
    "    mlflow.log_metric('inertia', inertia)\n",
    "        \n",
    "    mlflow.log_artifact(figure_path,'figures')\n",
    "    \n",
    "    # finally the model is logged\n",
    "    mlflow.sklearn.log_model(kmeans_m,'model')"
   ]
  },
  {
   "cell_type": "code",
   "execution_count": 11,
   "metadata": {
    "ExecuteTime": {
     "end_time": "2020-03-24T11:59:46.270212Z",
     "start_time": "2020-03-24T11:59:45.761592Z"
    }
   },
   "outputs": [
    {
     "name": "stdout",
     "output_type": "stream",
     "text": [
      "dsla\n",
      "../output/figures/12_elkan_0.001.png\n",
      "<_io.BufferedReader name='../output/figures/12_elkan_0.001.png'>\n"
     ]
    }
   ],
   "source": [
    "# Upload to S3 instead of saving to local\n",
    "\n",
    "import io\n",
    "import boto3 # Amazon's aws library for python 3\n",
    "\n",
    "# create a connection to s3\n",
    "s3 = boto3.resource('s3')\n",
    "\n",
    "# bucket is already defined above \n",
    "print(bucket)\n",
    "\n",
    "# upload image to aws s3\n",
    "# warning, the ACL here is set to private (not public-read)\n",
    "\n",
    "print(figure_path)\n",
    "\n",
    "img_data = open(figure_path, \"rb\")\n",
    "print(img_data)\n",
    "\n",
    "s3.Bucket(bucket).put_object(Key= f'{n_clusters}_{algorithm}_{tol}.png', Body=img_data, \n",
    "                       ContentType=\"image/png\" , ACL=\"private\")\n",
    "\n",
    "# Generate the URL to get 'key-name' from 'bucket-name'\n",
    "url = \"http://\" + bucket + \".s3.amazonaws.com/\" +  f'{n_clusters}_{algorithm}_{tol}.png'\n",
    "# this url should open the uploaded image as an image in a browser window  \n"
   ]
  },
  {
   "cell_type": "code",
   "execution_count": 12,
   "metadata": {
    "ExecuteTime": {
     "end_time": "2020-03-24T11:59:49.672861Z",
     "start_time": "2020-03-24T11:59:46.310022Z"
    }
   },
   "outputs": [],
   "source": [
    "    # here starts the MLFlow monitoring\n",
    "    \n",
    "    # first the model hyperparameters are logged to the tracking server\n",
    "    mlflow.log_param('n_clusters', n_clusters)\n",
    "    mlflow.log_param('algorithm', algorithm)\n",
    "    mlflow.log_param('tol', tol)\n",
    "    \n",
    "    # then the metrics resulting from the training process\n",
    "    mlflow.log_metric('silhouette', silhouette)\n",
    "    mlflow.log_metric('inertia', inertia)\n",
    "        \n",
    "    mlflow.log_artifact(figure_path,'figures')\n",
    "    \n",
    "    # finally the model is logged\n",
    "    mlflow.sklearn.log_model(kmeans_m,'model')"
   ]
  },
  {
   "cell_type": "markdown",
   "metadata": {},
   "source": [
    "### MLFlow Train Several Times"
   ]
  },
  {
   "cell_type": "markdown",
   "metadata": {},
   "source": [
    "The training process used to be performed manually in the traditional way, changing cells in the Jupyter Notebook and waiting for the results, trying to get the configuration that suits the best to the model performance. With MLFlow you can just run again and again with the confidence of being logging everything and recover that configuration that once worked amazing.\n",
    "\n",
    "So in order to organize the code a little bit, a train function has been defined."
   ]
  },
  {
   "cell_type": "code",
   "execution_count": 13,
   "metadata": {
    "ExecuteTime": {
     "end_time": "2020-03-24T11:59:54.079568Z",
     "start_time": "2020-03-24T11:59:54.065664Z"
    }
   },
   "outputs": [],
   "source": [
    "def train(n_clusters, algorithm, tol):\n",
    "    \n",
    "    # training\n",
    "    kmeans_m = KMeans(n_clusters=n_clusters,\n",
    "                      algorithm=algorithm,\n",
    "                      tol=tol,\n",
    "                      random_state=42,\n",
    "                      precompute_distances=True, \n",
    "                      n_jobs=-1)\n",
    "    clustering = kmeans_m.fit_predict(df)\n",
    "\n",
    "    # metrics\n",
    "    silhouette = silhouette_score(df, clustering)\n",
    "    print(f'Silhouette Score: {silhouette}')\n",
    "\n",
    "    inertia = kmeans_m.inertia_\n",
    "    print(f'Inertia: {inertia}')\n",
    "    \n",
    "    fig, ax = plt.subplots()\n",
    "\n",
    "    scatter = ax.scatter(x=df['x'], \n",
    "                         y=df['y'], \n",
    "                         c=clustering)\n",
    "    legend = ax.legend(*scatter.legend_elements(num=n_clusters - 1), \n",
    "                       title='Clusters', \n",
    "                       loc='upper right', \n",
    "                       bbox_to_anchor=(1.25,1.0))\n",
    "    ax.add_artist(legend);\n",
    "    \n",
    "    output_folder = '../output/figures'\n",
    "\n",
    "    !if [ ! -d $output_folder ]; then mkdir -p $output_folder; fi\n",
    "\n",
    "    figure_path = f'{output_folder}/{n_clusters}_{algorithm}_{tol}.png'\n",
    "    plt.show()\n",
    "    plt.savefig(figure_path)\n",
    "    plt.close()\n",
    "\n",
    "    # here starts the MLFlow monitoring\n",
    "    \n",
    "    # first the model hyperparameters are logged to the tracking server\n",
    "    mlflow.log_param('n_clusters', n_clusters)\n",
    "    mlflow.log_param('algorithm', algorithm)\n",
    "    mlflow.log_param('tol', tol)\n",
    "    \n",
    "    # then the metrics resulting from the training process\n",
    "    mlflow.log_metric('silhouette', silhouette)\n",
    "    mlflow.log_metric('inertia', inertia)\n",
    "\n",
    "    # the figure with the clustering plot can also be logged\n",
    "    mlflow.log_artifact(figure_path, 'figures')\n",
    "    \n",
    "    # finally the model is logged\n",
    "    mlflow.sklearn.log_model(kmeans_m, 'model')"
   ]
  },
  {
   "cell_type": "code",
   "execution_count": 14,
   "metadata": {
    "ExecuteTime": {
     "end_time": "2020-03-24T11:59:55.466798Z",
     "start_time": "2020-03-24T11:59:55.289158Z"
    }
   },
   "outputs": [],
   "source": [
    "mlflow.end_run()"
   ]
  },
  {
   "cell_type": "markdown",
   "metadata": {},
   "source": [
    "Then we can try out the training process with different parameters in a loop."
   ]
  },
  {
   "cell_type": "code",
   "execution_count": 15,
   "metadata": {
    "ExecuteTime": {
     "end_time": "2020-03-24T12:00:59.835334Z",
     "start_time": "2020-03-24T11:59:57.049277Z"
    }
   },
   "outputs": [
    {
     "name": "stdout",
     "output_type": "stream",
     "text": [
      "\n",
      "Training KMeans for 6 clusters, full algorithm and tol 0.1...\n",
      "                \n",
      "Silhouette Score: 0.47094619274139404\n",
      "Inertia: 119844.49786940168\n"
     ]
    },
    {
     "data": {
      "image/png": "[encoded data removed]",
      "text/plain": [
       "<Figure size 432x288 with 1 Axes>"
      ]
     },
     "metadata": {
      "needs_background": "light"
     },
     "output_type": "display_data"
    },
    {
     "name": "stdout",
     "output_type": "stream",
     "text": [
      "\n",
      "Training KMeans for 6 clusters, full algorithm and tol 0.001...\n",
      "                \n",
      "Silhouette Score: 0.474467396736145\n",
      "Inertia: 118936.67586142692\n"
     ]
    },
    {
     "data": {
      "image/png": "[encoded data removed]",
      "text/plain": [
       "<Figure size 432x288 with 1 Axes>"
      ]
     },
     "metadata": {
      "needs_background": "light"
     },
     "output_type": "display_data"
    },
    {
     "name": "stdout",
     "output_type": "stream",
     "text": [
      "\n",
      "Training KMeans for 6 clusters, elkan algorithm and tol 0.1...\n",
      "                \n",
      "Silhouette Score: 0.47094619274139404\n",
      "Inertia: 119844.49786940165\n"
     ]
    },
    {
     "data": {
      "image/png": "[encoded data removed]",
      "text/plain": [
       "<Figure size 432x288 with 1 Axes>"
      ]
     },
     "metadata": {
      "needs_background": "light"
     },
     "output_type": "display_data"
    },
    {
     "name": "stdout",
     "output_type": "stream",
     "text": [
      "\n",
      "Training KMeans for 6 clusters, elkan algorithm and tol 0.001...\n",
      "                \n",
      "Silhouette Score: 0.4748874008655548\n",
      "Inertia: 118934.7626102172\n"
     ]
    },
    {
     "data": {
      "image/png": "[encoded data removed]",
      "text/plain": [
       "<Figure size 432x288 with 1 Axes>"
      ]
     },
     "metadata": {
      "needs_background": "light"
     },
     "output_type": "display_data"
    },
    {
     "name": "stdout",
     "output_type": "stream",
     "text": [
      "\n",
      "Training KMeans for 12 clusters, full algorithm and tol 0.1...\n",
      "                \n",
      "Silhouette Score: 0.5234900712966919\n",
      "Inertia: 36675.5465175788\n"
     ]
    },
    {
     "data": {
      "image/png": "[encoded data removed]",
      "text/plain": [
       "<Figure size 432x288 with 1 Axes>"
      ]
     },
     "metadata": {
      "needs_background": "light"
     },
     "output_type": "display_data"
    },
    {
     "name": "stdout",
     "output_type": "stream",
     "text": [
      "\n",
      "Training KMeans for 12 clusters, full algorithm and tol 0.001...\n",
      "                \n",
      "Silhouette Score: 0.5280594229698181\n",
      "Inertia: 35048.63872120991\n"
     ]
    },
    {
     "data": {
      "image/png": "[encoded data removed]",
      "text/plain": [
       "<Figure size 432x288 with 1 Axes>"
      ]
     },
     "metadata": {
      "needs_background": "light"
     },
     "output_type": "display_data"
    },
    {
     "name": "stdout",
     "output_type": "stream",
     "text": [
      "\n",
      "Training KMeans for 12 clusters, elkan algorithm and tol 0.1...\n",
      "                \n",
      "Silhouette Score: 0.5257962942123413\n",
      "Inertia: 35756.716200249604\n"
     ]
    },
    {
     "data": {
      "image/png": "[encoded data removed]",
      "text/plain": [
       "<Figure size 432x288 with 1 Axes>"
      ]
     },
     "metadata": {
      "needs_background": "light"
     },
     "output_type": "display_data"
    },
    {
     "name": "stdout",
     "output_type": "stream",
     "text": [
      "\n",
      "Training KMeans for 12 clusters, elkan algorithm and tol 0.001...\n",
      "                \n",
      "Silhouette Score: 0.5289595723152161\n",
      "Inertia: 34998.90367505566\n"
     ]
    },
    {
     "data": {
      "image/png": "[encoded data removed]",
      "text/plain": [
       "<Figure size 432x288 with 1 Axes>"
      ]
     },
     "metadata": {
      "needs_background": "light"
     },
     "output_type": "display_data"
    }
   ],
   "source": [
    "# hyperparameter options\n",
    "n_clusters_list = [6, 12]\n",
    "algorithm_list = ['full', 'elkan']\n",
    "tol_list = [1e-1, 1e-3]\n",
    "    \n",
    "for n_clusters in n_clusters_list:\n",
    "    for algorithm in algorithm_list:\n",
    "        for tol in tol_list:\n",
    "            with mlflow.start_run():\n",
    "                mlflow.set_tag('project', 'my_project' )\n",
    "                logging_message = f\"\"\"\n",
    "Training KMeans for {n_clusters} clusters, {algorithm} algorithm and tol {tol}...\n",
    "                \"\"\"\n",
    "                print(logging_message)\n",
    "                train(n_clusters, algorithm, tol)\n",
    "    "
   ]
  },
  {
   "cell_type": "markdown",
   "metadata": {},
   "source": [
    "Now it could be interesting to recover the results of an execution we want to explore and maybe load the model to do some predictions."
   ]
  },
  {
   "cell_type": "markdown",
   "metadata": {},
   "source": [
    "### Model Loading"
   ]
  },
  {
   "cell_type": "markdown",
   "metadata": {},
   "source": [
    "#### MLFlow Load"
   ]
  },
  {
   "cell_type": "markdown",
   "metadata": {},
   "source": [
    "First, let's recover all runs that we've just done."
   ]
  },
  {
   "cell_type": "code",
   "execution_count": 16,
   "metadata": {
    "ExecuteTime": {
     "end_time": "2020-03-24T12:01:00.317992Z",
     "start_time": "2020-03-24T12:00:59.877469Z"
    },
    "scrolled": false
   },
   "outputs": [
    {
     "data": {
      "text/html": [
       "<div>\n",
       "<style scoped>\n",
       "    .dataframe tbody tr th:only-of-type {\n",
       "        vertical-align: middle;\n",
       "    }\n",
       "\n",
       "    .dataframe tbody tr th {\n",
       "        vertical-align: top;\n",
       "    }\n",
       "\n",
       "    .dataframe thead th {\n",
       "        text-align: right;\n",
       "    }\n",
       "</style>\n",
       "<table border=\"1\" class=\"dataframe\">\n",
       "  <thead>\n",
       "    <tr style=\"text-align: right;\">\n",
       "      <th></th>\n",
       "      <th>run_id</th>\n",
       "      <th>experiment_id</th>\n",
       "      <th>status</th>\n",
       "      <th>artifact_uri</th>\n",
       "      <th>start_time</th>\n",
       "      <th>end_time</th>\n",
       "      <th>metrics.silhouette</th>\n",
       "      <th>metrics.inertia</th>\n",
       "      <th>params.tol</th>\n",
       "      <th>params.algorithm</th>\n",
       "      <th>params.n_clusters</th>\n",
       "      <th>tags.mlflow.source.name</th>\n",
       "      <th>tags.project</th>\n",
       "      <th>tags.mlflow.source.type</th>\n",
       "      <th>tags.mlflow.user</th>\n",
       "      <th>tags.mlflow.log-model.history</th>\n",
       "    </tr>\n",
       "  </thead>\n",
       "  <tbody>\n",
       "    <tr>\n",
       "      <td>0</td>\n",
       "      <td>5bf6702eed304dfc953ac9a88f9c89a3</td>\n",
       "      <td>2</td>\n",
       "      <td>FINISHED</td>\n",
       "      <td>s3://dsla/mlruns/2/5bf6702eed304dfc953ac9a88f9...</td>\n",
       "      <td>2020-03-24 12:00:52.035000+00:00</td>\n",
       "      <td>2020-03-24 12:00:59.668000+00:00</td>\n",
       "      <td>0.528960</td>\n",
       "      <td>34998.903675</td>\n",
       "      <td>0.001</td>\n",
       "      <td>elkan</td>\n",
       "      <td>12</td>\n",
       "      <td>/home/centos/anaconda3/lib/python3.7/site-pack...</td>\n",
       "      <td>my_project</td>\n",
       "      <td>LOCAL</td>\n",
       "      <td>preetam</td>\n",
       "      <td>[{\"run_id\": \"5bf6702eed304dfc953ac9a88f9c89a3\"...</td>\n",
       "    </tr>\n",
       "    <tr>\n",
       "      <td>1</td>\n",
       "      <td>0f58e656f69849e58bb140a9707b5973</td>\n",
       "      <td>2</td>\n",
       "      <td>FINISHED</td>\n",
       "      <td>s3://dsla/mlruns/2/0f58e656f69849e58bb140a9707...</td>\n",
       "      <td>2020-03-24 12:00:44.105000+00:00</td>\n",
       "      <td>2020-03-24 12:00:51.865000+00:00</td>\n",
       "      <td>0.525796</td>\n",
       "      <td>35756.716200</td>\n",
       "      <td>0.1</td>\n",
       "      <td>elkan</td>\n",
       "      <td>12</td>\n",
       "      <td>/home/centos/anaconda3/lib/python3.7/site-pack...</td>\n",
       "      <td>my_project</td>\n",
       "      <td>LOCAL</td>\n",
       "      <td>preetam</td>\n",
       "      <td>[{\"run_id\": \"0f58e656f69849e58bb140a9707b5973\"...</td>\n",
       "    </tr>\n",
       "    <tr>\n",
       "      <td>2</td>\n",
       "      <td>c080e84152194a93a88efeebbb20a5fe</td>\n",
       "      <td>2</td>\n",
       "      <td>FINISHED</td>\n",
       "      <td>s3://dsla/mlruns/2/c080e84152194a93a88efeebbb2...</td>\n",
       "      <td>2020-03-24 12:00:36.204000+00:00</td>\n",
       "      <td>2020-03-24 12:00:43.944000+00:00</td>\n",
       "      <td>0.528059</td>\n",
       "      <td>35048.638721</td>\n",
       "      <td>0.001</td>\n",
       "      <td>full</td>\n",
       "      <td>12</td>\n",
       "      <td>/home/centos/anaconda3/lib/python3.7/site-pack...</td>\n",
       "      <td>my_project</td>\n",
       "      <td>LOCAL</td>\n",
       "      <td>preetam</td>\n",
       "      <td>[{\"run_id\": \"c080e84152194a93a88efeebbb20a5fe\"...</td>\n",
       "    </tr>\n",
       "    <tr>\n",
       "      <td>3</td>\n",
       "      <td>15a34eeabbd64dee8b516aaf3a5b92f7</td>\n",
       "      <td>2</td>\n",
       "      <td>FINISHED</td>\n",
       "      <td>s3://dsla/mlruns/2/15a34eeabbd64dee8b516aaf3a5...</td>\n",
       "      <td>2020-03-24 12:00:28.076000+00:00</td>\n",
       "      <td>2020-03-24 12:00:36.018000+00:00</td>\n",
       "      <td>0.523490</td>\n",
       "      <td>36675.546518</td>\n",
       "      <td>0.1</td>\n",
       "      <td>full</td>\n",
       "      <td>12</td>\n",
       "      <td>/home/centos/anaconda3/lib/python3.7/site-pack...</td>\n",
       "      <td>my_project</td>\n",
       "      <td>LOCAL</td>\n",
       "      <td>preetam</td>\n",
       "      <td>[{\"run_id\": \"15a34eeabbd64dee8b516aaf3a5b92f7\"...</td>\n",
       "    </tr>\n",
       "    <tr>\n",
       "      <td>4</td>\n",
       "      <td>4b7edf16cb2f4b94b0d1db73a557c92a</td>\n",
       "      <td>2</td>\n",
       "      <td>FINISHED</td>\n",
       "      <td>s3://dsla/mlruns/2/4b7edf16cb2f4b94b0d1db73a55...</td>\n",
       "      <td>2020-03-24 12:00:20.424000+00:00</td>\n",
       "      <td>2020-03-24 12:00:27.893000+00:00</td>\n",
       "      <td>0.474887</td>\n",
       "      <td>118934.762610</td>\n",
       "      <td>0.001</td>\n",
       "      <td>elkan</td>\n",
       "      <td>6</td>\n",
       "      <td>/home/centos/anaconda3/lib/python3.7/site-pack...</td>\n",
       "      <td>my_project</td>\n",
       "      <td>LOCAL</td>\n",
       "      <td>preetam</td>\n",
       "      <td>[{\"run_id\": \"4b7edf16cb2f4b94b0d1db73a557c92a\"...</td>\n",
       "    </tr>\n",
       "    <tr>\n",
       "      <td>5</td>\n",
       "      <td>f30899c1624b45b3aa4de827c2081375</td>\n",
       "      <td>2</td>\n",
       "      <td>FINISHED</td>\n",
       "      <td>s3://dsla/mlruns/2/f30899c1624b45b3aa4de827c20...</td>\n",
       "      <td>2020-03-24 12:00:13.020000+00:00</td>\n",
       "      <td>2020-03-24 12:00:20.264000+00:00</td>\n",
       "      <td>0.470946</td>\n",
       "      <td>119844.497869</td>\n",
       "      <td>0.1</td>\n",
       "      <td>elkan</td>\n",
       "      <td>6</td>\n",
       "      <td>/home/centos/anaconda3/lib/python3.7/site-pack...</td>\n",
       "      <td>my_project</td>\n",
       "      <td>LOCAL</td>\n",
       "      <td>preetam</td>\n",
       "      <td>[{\"run_id\": \"f30899c1624b45b3aa4de827c2081375\"...</td>\n",
       "    </tr>\n",
       "    <tr>\n",
       "      <td>6</td>\n",
       "      <td>bb104ce2cf5d45b987db4f7216346654</td>\n",
       "      <td>2</td>\n",
       "      <td>FINISHED</td>\n",
       "      <td>s3://dsla/mlruns/2/bb104ce2cf5d45b987db4f72163...</td>\n",
       "      <td>2020-03-24 12:00:05.263000+00:00</td>\n",
       "      <td>2020-03-24 12:00:12.778000+00:00</td>\n",
       "      <td>0.474467</td>\n",
       "      <td>118936.675861</td>\n",
       "      <td>0.001</td>\n",
       "      <td>full</td>\n",
       "      <td>6</td>\n",
       "      <td>/home/centos/anaconda3/lib/python3.7/site-pack...</td>\n",
       "      <td>my_project</td>\n",
       "      <td>LOCAL</td>\n",
       "      <td>preetam</td>\n",
       "      <td>[{\"run_id\": \"bb104ce2cf5d45b987db4f7216346654\"...</td>\n",
       "    </tr>\n",
       "    <tr>\n",
       "      <td>7</td>\n",
       "      <td>25e478acab9043e88b81eee4cc3c2845</td>\n",
       "      <td>2</td>\n",
       "      <td>FINISHED</td>\n",
       "      <td>s3://dsla/mlruns/2/25e478acab9043e88b81eee4cc3...</td>\n",
       "      <td>2020-03-24 11:59:57.052000+00:00</td>\n",
       "      <td>2020-03-24 12:00:05.106000+00:00</td>\n",
       "      <td>0.470946</td>\n",
       "      <td>119844.497869</td>\n",
       "      <td>0.1</td>\n",
       "      <td>full</td>\n",
       "      <td>6</td>\n",
       "      <td>/home/centos/anaconda3/lib/python3.7/site-pack...</td>\n",
       "      <td>my_project</td>\n",
       "      <td>LOCAL</td>\n",
       "      <td>preetam</td>\n",
       "      <td>[{\"run_id\": \"25e478acab9043e88b81eee4cc3c2845\"...</td>\n",
       "    </tr>\n",
       "    <tr>\n",
       "      <td>8</td>\n",
       "      <td>3d5ba998686a45adb7d85665845ba652</td>\n",
       "      <td>2</td>\n",
       "      <td>FINISHED</td>\n",
       "      <td>s3://dsla/mlruns/2/3d5ba998686a45adb7d85665845...</td>\n",
       "      <td>2020-03-24 11:59:46.312000+00:00</td>\n",
       "      <td>2020-03-24 11:59:55.290000+00:00</td>\n",
       "      <td>0.528960</td>\n",
       "      <td>34998.903675</td>\n",
       "      <td>0.001</td>\n",
       "      <td>elkan</td>\n",
       "      <td>12</td>\n",
       "      <td>/home/centos/anaconda3/lib/python3.7/site-pack...</td>\n",
       "      <td>None</td>\n",
       "      <td>LOCAL</td>\n",
       "      <td>preetam</td>\n",
       "      <td>[{\"run_id\": \"3d5ba998686a45adb7d85665845ba652\"...</td>\n",
       "    </tr>\n",
       "    <tr>\n",
       "      <td>9</td>\n",
       "      <td>24861e9ea9cf47c89b1d415f0dac435b</td>\n",
       "      <td>2</td>\n",
       "      <td>FINISHED</td>\n",
       "      <td>s3://dsla/mlruns/2/24861e9ea9cf47c89b1d415f0da...</td>\n",
       "      <td>2020-03-24 11:59:38.186000+00:00</td>\n",
       "      <td>2020-03-24 11:59:45.536000+00:00</td>\n",
       "      <td>0.528960</td>\n",
       "      <td>34998.903675</td>\n",
       "      <td>0.001</td>\n",
       "      <td>elkan</td>\n",
       "      <td>12</td>\n",
       "      <td>/home/centos/anaconda3/lib/python3.7/site-pack...</td>\n",
       "      <td>None</td>\n",
       "      <td>LOCAL</td>\n",
       "      <td>preetam</td>\n",
       "      <td>[{\"run_id\": \"24861e9ea9cf47c89b1d415f0dac435b\"...</td>\n",
       "    </tr>\n",
       "    <tr>\n",
       "      <td>10</td>\n",
       "      <td>8d54a0f25dc84494b96e7edfaca8707b</td>\n",
       "      <td>2</td>\n",
       "      <td>FINISHED</td>\n",
       "      <td>s3://dsla/mlruns/2/8d54a0f25dc84494b96e7edfaca...</td>\n",
       "      <td>2020-03-24 11:51:12.822000+00:00</td>\n",
       "      <td>2020-03-24 11:51:20.530000+00:00</td>\n",
       "      <td>0.528960</td>\n",
       "      <td>34998.903675</td>\n",
       "      <td>0.001</td>\n",
       "      <td>elkan</td>\n",
       "      <td>12</td>\n",
       "      <td>/home/centos/anaconda3/lib/python3.7/site-pack...</td>\n",
       "      <td>my_project</td>\n",
       "      <td>LOCAL</td>\n",
       "      <td>preetam</td>\n",
       "      <td>[{\"run_id\": \"8d54a0f25dc84494b96e7edfaca8707b\"...</td>\n",
       "    </tr>\n",
       "    <tr>\n",
       "      <td>11</td>\n",
       "      <td>1b47cb29bddb46828597ab25d112bbcc</td>\n",
       "      <td>2</td>\n",
       "      <td>FINISHED</td>\n",
       "      <td>s3://dsla/mlruns/2/1b47cb29bddb46828597ab25d11...</td>\n",
       "      <td>2020-03-24 11:51:04.876000+00:00</td>\n",
       "      <td>2020-03-24 11:51:12.658000+00:00</td>\n",
       "      <td>0.525796</td>\n",
       "      <td>35756.716200</td>\n",
       "      <td>0.1</td>\n",
       "      <td>elkan</td>\n",
       "      <td>12</td>\n",
       "      <td>/home/centos/anaconda3/lib/python3.7/site-pack...</td>\n",
       "      <td>my_project</td>\n",
       "      <td>LOCAL</td>\n",
       "      <td>preetam</td>\n",
       "      <td>[{\"run_id\": \"1b47cb29bddb46828597ab25d112bbcc\"...</td>\n",
       "    </tr>\n",
       "    <tr>\n",
       "      <td>12</td>\n",
       "      <td>58b17cc6388b4d0a8cf1d3990ddf909e</td>\n",
       "      <td>2</td>\n",
       "      <td>FINISHED</td>\n",
       "      <td>s3://dsla/mlruns/2/58b17cc6388b4d0a8cf1d3990dd...</td>\n",
       "      <td>2020-03-24 11:50:57.172000+00:00</td>\n",
       "      <td>2020-03-24 11:51:04.710000+00:00</td>\n",
       "      <td>0.528059</td>\n",
       "      <td>35048.638721</td>\n",
       "      <td>0.001</td>\n",
       "      <td>full</td>\n",
       "      <td>12</td>\n",
       "      <td>/home/centos/anaconda3/lib/python3.7/site-pack...</td>\n",
       "      <td>my_project</td>\n",
       "      <td>LOCAL</td>\n",
       "      <td>preetam</td>\n",
       "      <td>[{\"run_id\": \"58b17cc6388b4d0a8cf1d3990ddf909e\"...</td>\n",
       "    </tr>\n",
       "    <tr>\n",
       "      <td>13</td>\n",
       "      <td>e14fa2e455fe4cfbb02988bd20d7765c</td>\n",
       "      <td>2</td>\n",
       "      <td>FINISHED</td>\n",
       "      <td>s3://dsla/mlruns/2/e14fa2e455fe4cfbb02988bd20d...</td>\n",
       "      <td>2020-03-24 11:50:49.565000+00:00</td>\n",
       "      <td>2020-03-24 11:50:57.002000+00:00</td>\n",
       "      <td>0.523490</td>\n",
       "      <td>36675.546518</td>\n",
       "      <td>0.1</td>\n",
       "      <td>full</td>\n",
       "      <td>12</td>\n",
       "      <td>/home/centos/anaconda3/lib/python3.7/site-pack...</td>\n",
       "      <td>my_project</td>\n",
       "      <td>LOCAL</td>\n",
       "      <td>preetam</td>\n",
       "      <td>[{\"run_id\": \"e14fa2e455fe4cfbb02988bd20d7765c\"...</td>\n",
       "    </tr>\n",
       "    <tr>\n",
       "      <td>14</td>\n",
       "      <td>a094232d4d144689a60b557069f346c1</td>\n",
       "      <td>2</td>\n",
       "      <td>FINISHED</td>\n",
       "      <td>s3://dsla/mlruns/2/a094232d4d144689a60b557069f...</td>\n",
       "      <td>2020-03-24 11:50:41.896000+00:00</td>\n",
       "      <td>2020-03-24 11:50:49.387000+00:00</td>\n",
       "      <td>0.474887</td>\n",
       "      <td>118934.762610</td>\n",
       "      <td>0.001</td>\n",
       "      <td>elkan</td>\n",
       "      <td>6</td>\n",
       "      <td>/home/centos/anaconda3/lib/python3.7/site-pack...</td>\n",
       "      <td>my_project</td>\n",
       "      <td>LOCAL</td>\n",
       "      <td>preetam</td>\n",
       "      <td>[{\"run_id\": \"a094232d4d144689a60b557069f346c1\"...</td>\n",
       "    </tr>\n",
       "    <tr>\n",
       "      <td>15</td>\n",
       "      <td>20d07d4f377f46649f36876922f75934</td>\n",
       "      <td>2</td>\n",
       "      <td>FINISHED</td>\n",
       "      <td>s3://dsla/mlruns/2/20d07d4f377f46649f36876922f...</td>\n",
       "      <td>2020-03-24 11:50:34.266000+00:00</td>\n",
       "      <td>2020-03-24 11:50:41.730000+00:00</td>\n",
       "      <td>0.470946</td>\n",
       "      <td>119844.497869</td>\n",
       "      <td>0.1</td>\n",
       "      <td>elkan</td>\n",
       "      <td>6</td>\n",
       "      <td>/home/centos/anaconda3/lib/python3.7/site-pack...</td>\n",
       "      <td>my_project</td>\n",
       "      <td>LOCAL</td>\n",
       "      <td>preetam</td>\n",
       "      <td>[{\"run_id\": \"20d07d4f377f46649f36876922f75934\"...</td>\n",
       "    </tr>\n",
       "    <tr>\n",
       "      <td>16</td>\n",
       "      <td>ee8d7901c2544f3ebbb67fbfb7c771d2</td>\n",
       "      <td>2</td>\n",
       "      <td>FINISHED</td>\n",
       "      <td>s3://dsla/mlruns/2/ee8d7901c2544f3ebbb67fbfb7c...</td>\n",
       "      <td>2020-03-24 11:50:26.247000+00:00</td>\n",
       "      <td>2020-03-24 11:50:34.064000+00:00</td>\n",
       "      <td>0.474467</td>\n",
       "      <td>118936.675861</td>\n",
       "      <td>0.001</td>\n",
       "      <td>full</td>\n",
       "      <td>6</td>\n",
       "      <td>/home/centos/anaconda3/lib/python3.7/site-pack...</td>\n",
       "      <td>my_project</td>\n",
       "      <td>LOCAL</td>\n",
       "      <td>preetam</td>\n",
       "      <td>[{\"run_id\": \"ee8d7901c2544f3ebbb67fbfb7c771d2\"...</td>\n",
       "    </tr>\n",
       "    <tr>\n",
       "      <td>17</td>\n",
       "      <td>14c9c1bf305d4b72b981f3cc6081dc22</td>\n",
       "      <td>2</td>\n",
       "      <td>FINISHED</td>\n",
       "      <td>s3://dsla/mlruns/2/14c9c1bf305d4b72b981f3cc608...</td>\n",
       "      <td>2020-03-24 11:50:18.621000+00:00</td>\n",
       "      <td>2020-03-24 11:50:26.081000+00:00</td>\n",
       "      <td>0.470946</td>\n",
       "      <td>119844.497869</td>\n",
       "      <td>0.1</td>\n",
       "      <td>full</td>\n",
       "      <td>6</td>\n",
       "      <td>/home/centos/anaconda3/lib/python3.7/site-pack...</td>\n",
       "      <td>my_project</td>\n",
       "      <td>LOCAL</td>\n",
       "      <td>preetam</td>\n",
       "      <td>[{\"run_id\": \"14c9c1bf305d4b72b981f3cc6081dc22\"...</td>\n",
       "    </tr>\n",
       "    <tr>\n",
       "      <td>18</td>\n",
       "      <td>a7b621eb25ea458fb48d390e55efa743</td>\n",
       "      <td>2</td>\n",
       "      <td>FINISHED</td>\n",
       "      <td>s3://dsla/mlruns/2/a7b621eb25ea458fb48d390e55e...</td>\n",
       "      <td>2020-03-24 11:46:34.333000+00:00</td>\n",
       "      <td>2020-03-24 11:50:15.627000+00:00</td>\n",
       "      <td>0.528960</td>\n",
       "      <td>34998.903675</td>\n",
       "      <td>0.001</td>\n",
       "      <td>elkan</td>\n",
       "      <td>12</td>\n",
       "      <td>/home/centos/anaconda3/lib/python3.7/site-pack...</td>\n",
       "      <td>None</td>\n",
       "      <td>LOCAL</td>\n",
       "      <td>preetam</td>\n",
       "      <td>[{\"run_id\": \"a7b621eb25ea458fb48d390e55efa743\"...</td>\n",
       "    </tr>\n",
       "    <tr>\n",
       "      <td>19</td>\n",
       "      <td>851bcb59de1244269e7b7ba5eb35bff1</td>\n",
       "      <td>2</td>\n",
       "      <td>FINISHED</td>\n",
       "      <td>s3://dsla/mlruns/2/851bcb59de1244269e7b7ba5eb3...</td>\n",
       "      <td>2020-03-24 11:46:16.295000+00:00</td>\n",
       "      <td>2020-03-24 11:46:23.436000+00:00</td>\n",
       "      <td>0.528960</td>\n",
       "      <td>34998.903675</td>\n",
       "      <td>0.001</td>\n",
       "      <td>elkan</td>\n",
       "      <td>12</td>\n",
       "      <td>/home/centos/anaconda3/lib/python3.7/site-pack...</td>\n",
       "      <td>None</td>\n",
       "      <td>LOCAL</td>\n",
       "      <td>preetam</td>\n",
       "      <td>[{\"run_id\": \"851bcb59de1244269e7b7ba5eb35bff1\"...</td>\n",
       "    </tr>\n",
       "    <tr>\n",
       "      <td>20</td>\n",
       "      <td>e217bedaa99e4c7dbcb9ef7c821d2d41</td>\n",
       "      <td>2</td>\n",
       "      <td>FINISHED</td>\n",
       "      <td>s3://dsla/mlruns/2/e217bedaa99e4c7dbcb9ef7c821...</td>\n",
       "      <td>2020-03-09 09:01:45.132000+00:00</td>\n",
       "      <td>2020-03-09 09:01:52.265000+00:00</td>\n",
       "      <td>0.528960</td>\n",
       "      <td>34998.903675</td>\n",
       "      <td>0.001</td>\n",
       "      <td>elkan</td>\n",
       "      <td>12</td>\n",
       "      <td>/home/centos/anaconda3/lib/python3.7/site-pack...</td>\n",
       "      <td>None</td>\n",
       "      <td>LOCAL</td>\n",
       "      <td>preetam</td>\n",
       "      <td>None</td>\n",
       "    </tr>\n",
       "    <tr>\n",
       "      <td>21</td>\n",
       "      <td>7c6180f1733b4ae6bfd77648bbd07b2d</td>\n",
       "      <td>2</td>\n",
       "      <td>FINISHED</td>\n",
       "      <td>s3://dsla/mlruns/2/7c6180f1733b4ae6bfd77648bbd...</td>\n",
       "      <td>2020-02-19 05:37:36.733000+00:00</td>\n",
       "      <td>2020-03-09 09:00:51.779000+00:00</td>\n",
       "      <td>0.528960</td>\n",
       "      <td>34998.903675</td>\n",
       "      <td>0.001</td>\n",
       "      <td>elkan</td>\n",
       "      <td>12</td>\n",
       "      <td>/home/centos/anaconda3/lib/python3.7/site-pack...</td>\n",
       "      <td>None</td>\n",
       "      <td>LOCAL</td>\n",
       "      <td>preetam</td>\n",
       "      <td>None</td>\n",
       "    </tr>\n",
       "    <tr>\n",
       "      <td>22</td>\n",
       "      <td>ae03026b578b4bb089a4a9408b774d10</td>\n",
       "      <td>2</td>\n",
       "      <td>FINISHED</td>\n",
       "      <td>s3://dsla/mlruns/2/ae03026b578b4bb089a4a9408b7...</td>\n",
       "      <td>2020-02-19 05:37:24.906000+00:00</td>\n",
       "      <td>2020-02-19 05:37:32.208000+00:00</td>\n",
       "      <td>0.528960</td>\n",
       "      <td>34998.903675</td>\n",
       "      <td>0.001</td>\n",
       "      <td>elkan</td>\n",
       "      <td>12</td>\n",
       "      <td>/home/centos/anaconda3/lib/python3.7/site-pack...</td>\n",
       "      <td>None</td>\n",
       "      <td>LOCAL</td>\n",
       "      <td>preetam</td>\n",
       "      <td>None</td>\n",
       "    </tr>\n",
       "    <tr>\n",
       "      <td>23</td>\n",
       "      <td>e45ad425965543d4b740892559f7ec2e</td>\n",
       "      <td>2</td>\n",
       "      <td>FINISHED</td>\n",
       "      <td>s3://dsla/mlruns/2/e45ad425965543d4b740892559f...</td>\n",
       "      <td>2020-02-16 09:27:05.720000+00:00</td>\n",
       "      <td>2020-02-17 07:27:35.732000+00:00</td>\n",
       "      <td>0.528960</td>\n",
       "      <td>34998.903675</td>\n",
       "      <td>0.001</td>\n",
       "      <td>elkan</td>\n",
       "      <td>12</td>\n",
       "      <td>/home/centos/anaconda3/lib/python3.7/site-pack...</td>\n",
       "      <td>None</td>\n",
       "      <td>LOCAL</td>\n",
       "      <td>preetam</td>\n",
       "      <td>None</td>\n",
       "    </tr>\n",
       "    <tr>\n",
       "      <td>24</td>\n",
       "      <td>60be301a7c2f497aada8e5400402fe93</td>\n",
       "      <td>2</td>\n",
       "      <td>FINISHED</td>\n",
       "      <td>s3://dsla/mlruns/2/60be301a7c2f497aada8e540040...</td>\n",
       "      <td>2020-02-16 09:26:49.663000+00:00</td>\n",
       "      <td>2020-02-16 09:26:56.853000+00:00</td>\n",
       "      <td>0.528960</td>\n",
       "      <td>34998.903675</td>\n",
       "      <td>0.001</td>\n",
       "      <td>elkan</td>\n",
       "      <td>12</td>\n",
       "      <td>/home/centos/anaconda3/lib/python3.7/site-pack...</td>\n",
       "      <td>None</td>\n",
       "      <td>LOCAL</td>\n",
       "      <td>preetam</td>\n",
       "      <td>None</td>\n",
       "    </tr>\n",
       "    <tr>\n",
       "      <td>25</td>\n",
       "      <td>c744ebb5a339417c9ecacd4daa6a6c06</td>\n",
       "      <td>2</td>\n",
       "      <td>FINISHED</td>\n",
       "      <td>s3://dsla/mlruns/2/c744ebb5a339417c9ecacd4daa6...</td>\n",
       "      <td>2020-01-08 08:55:08.937000+00:00</td>\n",
       "      <td>2020-01-08 09:03:04.963000+00:00</td>\n",
       "      <td>0.528960</td>\n",
       "      <td>34998.903675</td>\n",
       "      <td>0.001</td>\n",
       "      <td>elkan</td>\n",
       "      <td>12</td>\n",
       "      <td>/home/centos/anaconda3/lib/python3.7/site-pack...</td>\n",
       "      <td>None</td>\n",
       "      <td>LOCAL</td>\n",
       "      <td>preetam</td>\n",
       "      <td>None</td>\n",
       "    </tr>\n",
       "    <tr>\n",
       "      <td>26</td>\n",
       "      <td>66d93735e03d45c7a764dac6a8b25509</td>\n",
       "      <td>2</td>\n",
       "      <td>FINISHED</td>\n",
       "      <td>s3://dsla/mlruns/2/66d93735e03d45c7a764dac6a8b...</td>\n",
       "      <td>2020-01-08 08:55:01.686000+00:00</td>\n",
       "      <td>2020-01-08 08:55:08+00:00</td>\n",
       "      <td>0.528960</td>\n",
       "      <td>34998.903675</td>\n",
       "      <td>0.001</td>\n",
       "      <td>elkan</td>\n",
       "      <td>12</td>\n",
       "      <td>/home/centos/anaconda3/lib/python3.7/site-pack...</td>\n",
       "      <td>None</td>\n",
       "      <td>LOCAL</td>\n",
       "      <td>preetam</td>\n",
       "      <td>None</td>\n",
       "    </tr>\n",
       "    <tr>\n",
       "      <td>27</td>\n",
       "      <td>188ce4266d5344018ac2788273ecf376</td>\n",
       "      <td>2</td>\n",
       "      <td>FINISHED</td>\n",
       "      <td>s3://dsla/mlruns/2/188ce4266d5344018ac2788273e...</td>\n",
       "      <td>2020-01-08 08:15:53.236000+00:00</td>\n",
       "      <td>2020-01-08 08:54:45.914000+00:00</td>\n",
       "      <td>0.528960</td>\n",
       "      <td>34998.903675</td>\n",
       "      <td>0.001</td>\n",
       "      <td>elkan</td>\n",
       "      <td>12</td>\n",
       "      <td>/home/centos/anaconda3/lib/python3.7/site-pack...</td>\n",
       "      <td>None</td>\n",
       "      <td>LOCAL</td>\n",
       "      <td>preetam</td>\n",
       "      <td>None</td>\n",
       "    </tr>\n",
       "    <tr>\n",
       "      <td>28</td>\n",
       "      <td>bd45aa723a6b44c2bb100b352913534e</td>\n",
       "      <td>2</td>\n",
       "      <td>FINISHED</td>\n",
       "      <td>s3://dsla/mlruns/2/bd45aa723a6b44c2bb100b35291...</td>\n",
       "      <td>2020-01-08 08:15:45.801000+00:00</td>\n",
       "      <td>2020-01-08 08:15:52.251000+00:00</td>\n",
       "      <td>0.528960</td>\n",
       "      <td>34998.903675</td>\n",
       "      <td>0.001</td>\n",
       "      <td>elkan</td>\n",
       "      <td>12</td>\n",
       "      <td>/home/centos/anaconda3/lib/python3.7/site-pack...</td>\n",
       "      <td>None</td>\n",
       "      <td>LOCAL</td>\n",
       "      <td>preetam</td>\n",
       "      <td>None</td>\n",
       "    </tr>\n",
       "  </tbody>\n",
       "</table>\n",
       "</div>"
      ],
      "text/plain": [
       "                              run_id experiment_id    status  \\\n",
       "0   5bf6702eed304dfc953ac9a88f9c89a3             2  FINISHED   \n",
       "1   0f58e656f69849e58bb140a9707b5973             2  FINISHED   \n",
       "2   c080e84152194a93a88efeebbb20a5fe             2  FINISHED   \n",
       "3   15a34eeabbd64dee8b516aaf3a5b92f7             2  FINISHED   \n",
       "4   4b7edf16cb2f4b94b0d1db73a557c92a             2  FINISHED   \n",
       "5   f30899c1624b45b3aa4de827c2081375             2  FINISHED   \n",
       "6   bb104ce2cf5d45b987db4f7216346654             2  FINISHED   \n",
       "7   25e478acab9043e88b81eee4cc3c2845             2  FINISHED   \n",
       "8   3d5ba998686a45adb7d85665845ba652             2  FINISHED   \n",
       "9   24861e9ea9cf47c89b1d415f0dac435b             2  FINISHED   \n",
       "10  8d54a0f25dc84494b96e7edfaca8707b             2  FINISHED   \n",
       "11  1b47cb29bddb46828597ab25d112bbcc             2  FINISHED   \n",
       "12  58b17cc6388b4d0a8cf1d3990ddf909e             2  FINISHED   \n",
       "13  e14fa2e455fe4cfbb02988bd20d7765c             2  FINISHED   \n",
       "14  a094232d4d144689a60b557069f346c1             2  FINISHED   \n",
       "15  20d07d4f377f46649f36876922f75934             2  FINISHED   \n",
       "16  ee8d7901c2544f3ebbb67fbfb7c771d2             2  FINISHED   \n",
       "17  14c9c1bf305d4b72b981f3cc6081dc22             2  FINISHED   \n",
       "18  a7b621eb25ea458fb48d390e55efa743             2  FINISHED   \n",
       "19  851bcb59de1244269e7b7ba5eb35bff1             2  FINISHED   \n",
       "20  e217bedaa99e4c7dbcb9ef7c821d2d41             2  FINISHED   \n",
       "21  7c6180f1733b4ae6bfd77648bbd07b2d             2  FINISHED   \n",
       "22  ae03026b578b4bb089a4a9408b774d10             2  FINISHED   \n",
       "23  e45ad425965543d4b740892559f7ec2e             2  FINISHED   \n",
       "24  60be301a7c2f497aada8e5400402fe93             2  FINISHED   \n",
       "25  c744ebb5a339417c9ecacd4daa6a6c06             2  FINISHED   \n",
       "26  66d93735e03d45c7a764dac6a8b25509             2  FINISHED   \n",
       "27  188ce4266d5344018ac2788273ecf376             2  FINISHED   \n",
       "28  bd45aa723a6b44c2bb100b352913534e             2  FINISHED   \n",
       "\n",
       "                                         artifact_uri  \\\n",
       "0   s3://dsla/mlruns/2/5bf6702eed304dfc953ac9a88f9...   \n",
       "1   s3://dsla/mlruns/2/0f58e656f69849e58bb140a9707...   \n",
       "2   s3://dsla/mlruns/2/c080e84152194a93a88efeebbb2...   \n",
       "3   s3://dsla/mlruns/2/15a34eeabbd64dee8b516aaf3a5...   \n",
       "4   s3://dsla/mlruns/2/4b7edf16cb2f4b94b0d1db73a55...   \n",
       "5   s3://dsla/mlruns/2/f30899c1624b45b3aa4de827c20...   \n",
       "6   s3://dsla/mlruns/2/bb104ce2cf5d45b987db4f72163...   \n",
       "7   s3://dsla/mlruns/2/25e478acab9043e88b81eee4cc3...   \n",
       "8   s3://dsla/mlruns/2/3d5ba998686a45adb7d85665845...   \n",
       "9   s3://dsla/mlruns/2/24861e9ea9cf47c89b1d415f0da...   \n",
       "10  s3://dsla/mlruns/2/8d54a0f25dc84494b96e7edfaca...   \n",
       "11  s3://dsla/mlruns/2/1b47cb29bddb46828597ab25d11...   \n",
       "12  s3://dsla/mlruns/2/58b17cc6388b4d0a8cf1d3990dd...   \n",
       "13  s3://dsla/mlruns/2/e14fa2e455fe4cfbb02988bd20d...   \n",
       "14  s3://dsla/mlruns/2/a094232d4d144689a60b557069f...   \n",
       "15  s3://dsla/mlruns/2/20d07d4f377f46649f36876922f...   \n",
       "16  s3://dsla/mlruns/2/ee8d7901c2544f3ebbb67fbfb7c...   \n",
       "17  s3://dsla/mlruns/2/14c9c1bf305d4b72b981f3cc608...   \n",
       "18  s3://dsla/mlruns/2/a7b621eb25ea458fb48d390e55e...   \n",
       "19  s3://dsla/mlruns/2/851bcb59de1244269e7b7ba5eb3...   \n",
       "20  s3://dsla/mlruns/2/e217bedaa99e4c7dbcb9ef7c821...   \n",
       "21  s3://dsla/mlruns/2/7c6180f1733b4ae6bfd77648bbd...   \n",
       "22  s3://dsla/mlruns/2/ae03026b578b4bb089a4a9408b7...   \n",
       "23  s3://dsla/mlruns/2/e45ad425965543d4b740892559f...   \n",
       "24  s3://dsla/mlruns/2/60be301a7c2f497aada8e540040...   \n",
       "25  s3://dsla/mlruns/2/c744ebb5a339417c9ecacd4daa6...   \n",
       "26  s3://dsla/mlruns/2/66d93735e03d45c7a764dac6a8b...   \n",
       "27  s3://dsla/mlruns/2/188ce4266d5344018ac2788273e...   \n",
       "28  s3://dsla/mlruns/2/bd45aa723a6b44c2bb100b35291...   \n",
       "\n",
       "                         start_time                         end_time  \\\n",
       "0  2020-03-24 12:00:52.035000+00:00 2020-03-24 12:00:59.668000+00:00   \n",
       "1  2020-03-24 12:00:44.105000+00:00 2020-03-24 12:00:51.865000+00:00   \n",
       "2  2020-03-24 12:00:36.204000+00:00 2020-03-24 12:00:43.944000+00:00   \n",
       "3  2020-03-24 12:00:28.076000+00:00 2020-03-24 12:00:36.018000+00:00   \n",
       "4  2020-03-24 12:00:20.424000+00:00 2020-03-24 12:00:27.893000+00:00   \n",
       "5  2020-03-24 12:00:13.020000+00:00 2020-03-24 12:00:20.264000+00:00   \n",
       "6  2020-03-24 12:00:05.263000+00:00 2020-03-24 12:00:12.778000+00:00   \n",
       "7  2020-03-24 11:59:57.052000+00:00 2020-03-24 12:00:05.106000+00:00   \n",
       "8  2020-03-24 11:59:46.312000+00:00 2020-03-24 11:59:55.290000+00:00   \n",
       "9  2020-03-24 11:59:38.186000+00:00 2020-03-24 11:59:45.536000+00:00   \n",
       "10 2020-03-24 11:51:12.822000+00:00 2020-03-24 11:51:20.530000+00:00   \n",
       "11 2020-03-24 11:51:04.876000+00:00 2020-03-24 11:51:12.658000+00:00   \n",
       "12 2020-03-24 11:50:57.172000+00:00 2020-03-24 11:51:04.710000+00:00   \n",
       "13 2020-03-24 11:50:49.565000+00:00 2020-03-24 11:50:57.002000+00:00   \n",
       "14 2020-03-24 11:50:41.896000+00:00 2020-03-24 11:50:49.387000+00:00   \n",
       "15 2020-03-24 11:50:34.266000+00:00 2020-03-24 11:50:41.730000+00:00   \n",
       "16 2020-03-24 11:50:26.247000+00:00 2020-03-24 11:50:34.064000+00:00   \n",
       "17 2020-03-24 11:50:18.621000+00:00 2020-03-24 11:50:26.081000+00:00   \n",
       "18 2020-03-24 11:46:34.333000+00:00 2020-03-24 11:50:15.627000+00:00   \n",
       "19 2020-03-24 11:46:16.295000+00:00 2020-03-24 11:46:23.436000+00:00   \n",
       "20 2020-03-09 09:01:45.132000+00:00 2020-03-09 09:01:52.265000+00:00   \n",
       "21 2020-02-19 05:37:36.733000+00:00 2020-03-09 09:00:51.779000+00:00   \n",
       "22 2020-02-19 05:37:24.906000+00:00 2020-02-19 05:37:32.208000+00:00   \n",
       "23 2020-02-16 09:27:05.720000+00:00 2020-02-17 07:27:35.732000+00:00   \n",
       "24 2020-02-16 09:26:49.663000+00:00 2020-02-16 09:26:56.853000+00:00   \n",
       "25 2020-01-08 08:55:08.937000+00:00 2020-01-08 09:03:04.963000+00:00   \n",
       "26 2020-01-08 08:55:01.686000+00:00        2020-01-08 08:55:08+00:00   \n",
       "27 2020-01-08 08:15:53.236000+00:00 2020-01-08 08:54:45.914000+00:00   \n",
       "28 2020-01-08 08:15:45.801000+00:00 2020-01-08 08:15:52.251000+00:00   \n",
       "\n",
       "    metrics.silhouette  metrics.inertia params.tol params.algorithm  \\\n",
       "0             0.528960     34998.903675      0.001            elkan   \n",
       "1             0.525796     35756.716200        0.1            elkan   \n",
       "2             0.528059     35048.638721      0.001             full   \n",
       "3             0.523490     36675.546518        0.1             full   \n",
       "4             0.474887    118934.762610      0.001            elkan   \n",
       "5             0.470946    119844.497869        0.1            elkan   \n",
       "6             0.474467    118936.675861      0.001             full   \n",
       "7             0.470946    119844.497869        0.1             full   \n",
       "8             0.528960     34998.903675      0.001            elkan   \n",
       "9             0.528960     34998.903675      0.001            elkan   \n",
       "10            0.528960     34998.903675      0.001            elkan   \n",
       "11            0.525796     35756.716200        0.1            elkan   \n",
       "12            0.528059     35048.638721      0.001             full   \n",
       "13            0.523490     36675.546518        0.1             full   \n",
       "14            0.474887    118934.762610      0.001            elkan   \n",
       "15            0.470946    119844.497869        0.1            elkan   \n",
       "16            0.474467    118936.675861      0.001             full   \n",
       "17            0.470946    119844.497869        0.1             full   \n",
       "18            0.528960     34998.903675      0.001            elkan   \n",
       "19            0.528960     34998.903675      0.001            elkan   \n",
       "20            0.528960     34998.903675      0.001            elkan   \n",
       "21            0.528960     34998.903675      0.001            elkan   \n",
       "22            0.528960     34998.903675      0.001            elkan   \n",
       "23            0.528960     34998.903675      0.001            elkan   \n",
       "24            0.528960     34998.903675      0.001            elkan   \n",
       "25            0.528960     34998.903675      0.001            elkan   \n",
       "26            0.528960     34998.903675      0.001            elkan   \n",
       "27            0.528960     34998.903675      0.001            elkan   \n",
       "28            0.528960     34998.903675      0.001            elkan   \n",
       "\n",
       "   params.n_clusters                            tags.mlflow.source.name  \\\n",
       "0                 12  /home/centos/anaconda3/lib/python3.7/site-pack...   \n",
       "1                 12  /home/centos/anaconda3/lib/python3.7/site-pack...   \n",
       "2                 12  /home/centos/anaconda3/lib/python3.7/site-pack...   \n",
       "3                 12  /home/centos/anaconda3/lib/python3.7/site-pack...   \n",
       "4                  6  /home/centos/anaconda3/lib/python3.7/site-pack...   \n",
       "5                  6  /home/centos/anaconda3/lib/python3.7/site-pack...   \n",
       "6                  6  /home/centos/anaconda3/lib/python3.7/site-pack...   \n",
       "7                  6  /home/centos/anaconda3/lib/python3.7/site-pack...   \n",
       "8                 12  /home/centos/anaconda3/lib/python3.7/site-pack...   \n",
       "9                 12  /home/centos/anaconda3/lib/python3.7/site-pack...   \n",
       "10                12  /home/centos/anaconda3/lib/python3.7/site-pack...   \n",
       "11                12  /home/centos/anaconda3/lib/python3.7/site-pack...   \n",
       "12                12  /home/centos/anaconda3/lib/python3.7/site-pack...   \n",
       "13                12  /home/centos/anaconda3/lib/python3.7/site-pack...   \n",
       "14                 6  /home/centos/anaconda3/lib/python3.7/site-pack...   \n",
       "15                 6  /home/centos/anaconda3/lib/python3.7/site-pack...   \n",
       "16                 6  /home/centos/anaconda3/lib/python3.7/site-pack...   \n",
       "17                 6  /home/centos/anaconda3/lib/python3.7/site-pack...   \n",
       "18                12  /home/centos/anaconda3/lib/python3.7/site-pack...   \n",
       "19                12  /home/centos/anaconda3/lib/python3.7/site-pack...   \n",
       "20                12  /home/centos/anaconda3/lib/python3.7/site-pack...   \n",
       "21                12  /home/centos/anaconda3/lib/python3.7/site-pack...   \n",
       "22                12  /home/centos/anaconda3/lib/python3.7/site-pack...   \n",
       "23                12  /home/centos/anaconda3/lib/python3.7/site-pack...   \n",
       "24                12  /home/centos/anaconda3/lib/python3.7/site-pack...   \n",
       "25                12  /home/centos/anaconda3/lib/python3.7/site-pack...   \n",
       "26                12  /home/centos/anaconda3/lib/python3.7/site-pack...   \n",
       "27                12  /home/centos/anaconda3/lib/python3.7/site-pack...   \n",
       "28                12  /home/centos/anaconda3/lib/python3.7/site-pack...   \n",
       "\n",
       "   tags.project tags.mlflow.source.type tags.mlflow.user  \\\n",
       "0    my_project                   LOCAL          preetam   \n",
       "1    my_project                   LOCAL          preetam   \n",
       "2    my_project                   LOCAL          preetam   \n",
       "3    my_project                   LOCAL          preetam   \n",
       "4    my_project                   LOCAL          preetam   \n",
       "5    my_project                   LOCAL          preetam   \n",
       "6    my_project                   LOCAL          preetam   \n",
       "7    my_project                   LOCAL          preetam   \n",
       "8          None                   LOCAL          preetam   \n",
       "9          None                   LOCAL          preetam   \n",
       "10   my_project                   LOCAL          preetam   \n",
       "11   my_project                   LOCAL          preetam   \n",
       "12   my_project                   LOCAL          preetam   \n",
       "13   my_project                   LOCAL          preetam   \n",
       "14   my_project                   LOCAL          preetam   \n",
       "15   my_project                   LOCAL          preetam   \n",
       "16   my_project                   LOCAL          preetam   \n",
       "17   my_project                   LOCAL          preetam   \n",
       "18         None                   LOCAL          preetam   \n",
       "19         None                   LOCAL          preetam   \n",
       "20         None                   LOCAL          preetam   \n",
       "21         None                   LOCAL          preetam   \n",
       "22         None                   LOCAL          preetam   \n",
       "23         None                   LOCAL          preetam   \n",
       "24         None                   LOCAL          preetam   \n",
       "25         None                   LOCAL          preetam   \n",
       "26         None                   LOCAL          preetam   \n",
       "27         None                   LOCAL          preetam   \n",
       "28         None                   LOCAL          preetam   \n",
       "\n",
       "                        tags.mlflow.log-model.history  \n",
       "0   [{\"run_id\": \"5bf6702eed304dfc953ac9a88f9c89a3\"...  \n",
       "1   [{\"run_id\": \"0f58e656f69849e58bb140a9707b5973\"...  \n",
       "2   [{\"run_id\": \"c080e84152194a93a88efeebbb20a5fe\"...  \n",
       "3   [{\"run_id\": \"15a34eeabbd64dee8b516aaf3a5b92f7\"...  \n",
       "4   [{\"run_id\": \"4b7edf16cb2f4b94b0d1db73a557c92a\"...  \n",
       "5   [{\"run_id\": \"f30899c1624b45b3aa4de827c2081375\"...  \n",
       "6   [{\"run_id\": \"bb104ce2cf5d45b987db4f7216346654\"...  \n",
       "7   [{\"run_id\": \"25e478acab9043e88b81eee4cc3c2845\"...  \n",
       "8   [{\"run_id\": \"3d5ba998686a45adb7d85665845ba652\"...  \n",
       "9   [{\"run_id\": \"24861e9ea9cf47c89b1d415f0dac435b\"...  \n",
       "10  [{\"run_id\": \"8d54a0f25dc84494b96e7edfaca8707b\"...  \n",
       "11  [{\"run_id\": \"1b47cb29bddb46828597ab25d112bbcc\"...  \n",
       "12  [{\"run_id\": \"58b17cc6388b4d0a8cf1d3990ddf909e\"...  \n",
       "13  [{\"run_id\": \"e14fa2e455fe4cfbb02988bd20d7765c\"...  \n",
       "14  [{\"run_id\": \"a094232d4d144689a60b557069f346c1\"...  \n",
       "15  [{\"run_id\": \"20d07d4f377f46649f36876922f75934\"...  \n",
       "16  [{\"run_id\": \"ee8d7901c2544f3ebbb67fbfb7c771d2\"...  \n",
       "17  [{\"run_id\": \"14c9c1bf305d4b72b981f3cc6081dc22\"...  \n",
       "18  [{\"run_id\": \"a7b621eb25ea458fb48d390e55efa743\"...  \n",
       "19  [{\"run_id\": \"851bcb59de1244269e7b7ba5eb35bff1\"...  \n",
       "20                                               None  \n",
       "21                                               None  \n",
       "22                                               None  \n",
       "23                                               None  \n",
       "24                                               None  \n",
       "25                                               None  \n",
       "26                                               None  \n",
       "27                                               None  \n",
       "28                                               None  "
      ]
     },
     "execution_count": 16,
     "metadata": {},
     "output_type": "execute_result"
    }
   ],
   "source": [
    "mlflow.search_runs()"
   ]
  },
  {
   "cell_type": "code",
   "execution_count": 17,
   "metadata": {
    "ExecuteTime": {
     "end_time": "2020-03-24T12:01:00.614420Z",
     "start_time": "2020-03-24T12:01:00.357652Z"
    }
   },
   "outputs": [
    {
     "data": {
      "text/html": [
       "<div>\n",
       "<style scoped>\n",
       "    .dataframe tbody tr th:only-of-type {\n",
       "        vertical-align: middle;\n",
       "    }\n",
       "\n",
       "    .dataframe tbody tr th {\n",
       "        vertical-align: top;\n",
       "    }\n",
       "\n",
       "    .dataframe thead th {\n",
       "        text-align: right;\n",
       "    }\n",
       "</style>\n",
       "<table border=\"1\" class=\"dataframe\">\n",
       "  <thead>\n",
       "    <tr style=\"text-align: right;\">\n",
       "      <th></th>\n",
       "      <th>run_id</th>\n",
       "      <th>Run Date</th>\n",
       "      <th>metrics.inertia</th>\n",
       "      <th>metrics.silhouette</th>\n",
       "    </tr>\n",
       "  </thead>\n",
       "  <tbody>\n",
       "    <tr>\n",
       "      <td>5</td>\n",
       "      <td>f30899c1624b45b3aa4de827c2081375</td>\n",
       "      <td>2020-03-24 00:00:00+00:00</td>\n",
       "      <td>119844.497869</td>\n",
       "      <td>0.470946</td>\n",
       "    </tr>\n",
       "  </tbody>\n",
       "</table>\n",
       "</div>"
      ],
      "text/plain": [
       "                             run_id                  Run Date  \\\n",
       "5  f30899c1624b45b3aa4de827c2081375 2020-03-24 00:00:00+00:00   \n",
       "\n",
       "   metrics.inertia  metrics.silhouette  \n",
       "5    119844.497869            0.470946  "
      ]
     },
     "metadata": {},
     "output_type": "display_data"
    }
   ],
   "source": [
    "from mlflow.tracking.client import MlflowClient\n",
    "\n",
    "from datetime import datetime, timedelta\n",
    "import math\n",
    "import random\n",
    "\n",
    "experiment_id =2\n",
    "runs = mlflow.search_runs(experiment_ids=experiment_id)\n",
    "\n",
    "earliest_start_time = (datetime.now() - timedelta(days=14)).strftime('%Y-%m-%d')\n",
    "recent_runs = runs[runs.start_time >= earliest_start_time]\n",
    "\n",
    "pd.options.mode.chained_assignment = None  # Suppress pandas warning\n",
    "\n",
    "recent_runs['Run Date'] = recent_runs.start_time.dt.floor(freq='D')\n",
    "\n",
    "#best_runs_per_day_silhouette_idx = recent_runs.groupby(['Run Date'])['metrics.silhouette'].idxmin()\n",
    "#best_silhouette_runs = recent_runs.loc[best_runs_per_day_silhouette_idx]\n",
    "\n",
    "best_runs_idx = recent_runs.groupby(['Run Date'])['metrics.silhouette'].idxmin()\n",
    "best_runs = recent_runs.loc[best_runs_idx]\n",
    "\n",
    "display(best_runs[['run_id','Run Date', 'metrics.inertia','metrics.silhouette']])\n",
    "\n",
    "#import matplotlib.pyplot as plt\n",
    "#from matplotlib import interactive\n",
    "#interactive(True)\n",
    "\n",
    "#plt.plot(best_silhouette_runs[['Run Date']],best_silhouette_runs[['metrics.silhouette']])\n",
    "#plt.show()\n",
    "\n",
    "#plt.plot(best_inertia_runs[['Run Date']],best_inertia_runs[['metrics.inertia']])\n",
    "#plt.show()"
   ]
  },
  {
   "cell_type": "code",
   "execution_count": null,
   "metadata": {
    "ExecuteTime": {
     "end_time": "2020-03-24T11:55:27.460179Z",
     "start_time": "2020-03-24T11:55:22.938093Z"
    }
   },
   "outputs": [],
   "source": [
    "%%sh\n",
    "#export AWS_CA_BUNDLE=/etc/pki/ca-trust/extracted/pem/tls-ca-bundle.pem\n",
    "export APP_NAME=mlflow-xgb-demo\n",
    "export MODEL_PATH=s3://dsla/mlruns/2/7c6180f1733b4ae6bfd77648bbd07b2d/artifacts/model\n",
    "export LOCAL_PORT=8999\n",
    "\n",
    "mlflow sagemaker run-local -m $MODEL_PATH -p $LOCAL_PORT\n"
   ]
  },
  {
   "cell_type": "markdown",
   "metadata": {},
   "source": [
    "Let's then load the last model we've run."
   ]
  },
  {
   "cell_type": "code",
   "execution_count": 18,
   "metadata": {
    "ExecuteTime": {
     "end_time": "2020-03-24T12:01:11.830925Z",
     "start_time": "2020-03-24T12:01:08.603771Z"
    }
   },
   "outputs": [
    {
     "name": "stdout",
     "output_type": "stream",
     "text": [
      "KMeans(algorithm='elkan', copy_x=True, init='k-means++', max_iter=300,\n",
      "       n_clusters=12, n_init=10, n_jobs=-1, precompute_distances=True,\n",
      "       random_state=42, tol=0.001, verbose=0)\n",
      "Inertia: 34998.90367505566\n"
     ]
    }
   ],
   "source": [
    "last_run = mlflow.search_runs(max_results=1).loc[0]\n",
    "\n",
    "model = mlflow.sklearn.load_model(f'runs:/{last_run[\"run_id\"]}/model')\n",
    "print(model)\n",
    "                                  \n",
    "print(f'Inertia: {model.inertia_}')"
   ]
  },
  {
   "cell_type": "markdown",
   "metadata": {},
   "source": [
    "We've loaded the trained model in just one line, specifying the run id to MLFLow."
   ]
  },
  {
   "cell_type": "markdown",
   "metadata": {},
   "source": [
    "#### Pickle Load"
   ]
  },
  {
   "cell_type": "markdown",
   "metadata": {},
   "source": [
    "As expected, we can also load the model in the old way (load from pickle) from the folder where we specified to MLFlow to log the model."
   ]
  },
  {
   "cell_type": "code",
   "execution_count": 19,
   "metadata": {
    "ExecuteTime": {
     "end_time": "2020-03-24T12:01:17.387918Z",
     "start_time": "2020-03-24T12:01:16.284704Z"
    }
   },
   "outputs": [
    {
     "name": "stdout",
     "output_type": "stream",
     "text": [
      "2020-03-24 12:01:00  343 Bytes mlruns/2/5bf6702eed304dfc953ac9a88f9c89a3/artifacts/model/MLmodel\r\n",
      "2020-03-24 12:00:59  130 Bytes mlruns/2/5bf6702eed304dfc953ac9a88f9c89a3/artifacts/model/conda.yaml\r\n",
      "2020-03-24 12:00:59   39.8 KiB mlruns/2/5bf6702eed304dfc953ac9a88f9c89a3/artifacts/model/model.pkl\r\n",
      "\r\n",
      "Total Objects: 3\r\n",
      "   Total Size: 40.3 KiB\r\n"
     ]
    }
   ],
   "source": [
    "path = f'{last_run[\"artifact_uri\"]}/model'.replace('file:', '')\n",
    "\n",
    "# ls -al  $path\n",
    "\n",
    "!aws s3 ls $path  --recursive --human-readable --summarize"
   ]
  },
  {
   "cell_type": "code",
   "execution_count": 33,
   "metadata": {
    "ExecuteTime": {
     "end_time": "2020-03-24T12:14:17.358991Z",
     "start_time": "2020-03-24T12:14:16.593574Z"
    }
   },
   "outputs": [
    {
     "name": "stdout",
     "output_type": "stream",
     "text": [
      "KMeans(algorithm='elkan', copy_x=True, init='k-means++', max_iter=300,\n",
      "       n_clusters=12, n_init=10, n_jobs=-1, precompute_distances=True,\n",
      "       random_state=42, tol=0.001, verbose=0)\n",
      "Inertia: 34998.90367505566\n"
     ]
    }
   ],
   "source": [
    "import pickle\n",
    "import boto3\n",
    "\n",
    "s3 = boto3.resource('s3')\n",
    "\n",
    "path_new=\"mlruns/2/5bf6702eed304dfc953ac9a88f9c89a3/artifacts/model\"\n",
    "key = f'{path_new}/model.pkl'\n",
    "\n",
    "model_pkl = pickle.loads(s3.Bucket(\"dsla\").Object(key).get()['Body'].read())\n",
    "\n",
    "#with open('model.pkl', 'rb') as data:\n",
    "#    old_list = pickle.load(data)\n",
    "\n",
    "\n",
    "#with open(f'{path}/model.pkl', 'rb') as data:\n",
    "#    model_pkl = pickle.load(data)\n",
    "    \n",
    "print(model_pkl)                   \n",
    "print(f'Inertia: {model.inertia_}')"
   ]
  },
  {
   "cell_type": "markdown",
   "metadata": {},
   "source": [
    "### Predictions"
   ]
  },
  {
   "cell_type": "markdown",
   "metadata": {},
   "source": [
    "All training would not have sense without the ability of making predictions on new data. The following cell checks that the model behaves as expected with some test data."
   ]
  },
  {
   "cell_type": "code",
   "execution_count": 34,
   "metadata": {
    "ExecuteTime": {
     "end_time": "2020-03-24T12:14:36.710850Z",
     "start_time": "2020-03-24T12:14:36.704375Z"
    }
   },
   "outputs": [
    {
     "name": "stdout",
     "output_type": "stream",
     "text": [
      "Predictions: [3 6 3 5 7]\n",
      "Performance: [ True  True  True  True  True]\n"
     ]
    }
   ],
   "source": [
    "test_data = df.head()\n",
    "\n",
    "# if the last MLFlow run is selected the model should have the same \n",
    "# parameters as the first example so the clustering variable should\n",
    "# contain the actual results of the model\n",
    "actual_data = clustering[:5]\n",
    "\n",
    "predictions = model.predict(test_data)\n",
    "print(f'Predictions: {predictions}')\n",
    "\n",
    "performance = predictions == actual_data\n",
    "print(f'Performance: {performance}')"
   ]
  },
  {
   "cell_type": "markdown",
   "metadata": {},
   "source": [
    "### Prototype to Production"
   ]
  },
  {
   "cell_type": "markdown",
   "metadata": {},
   "source": [
    "All Data Scientists dream about having their model one day in production. This is freaking simple with MLFlow. It sets up an HTTP endpoint where you can send the data you want to predict and then it can send you back a response from your model."
   ]
  },
  {
   "cell_type": "markdown",
   "metadata": {},
   "source": [
    "However you should run on your server the following line in order to setup the endpoint:\n",
    "\n",
    "```\n",
    "mlflow models serve -m path_to_your_model -h host -p port\n",
    "```"
   ]
  },
  {
   "cell_type": "markdown",
   "metadata": {},
   "source": [
    "It is also necessary to convert the data into a suitable HTTP post body."
   ]
  },
  {
   "cell_type": "code",
   "execution_count": 35,
   "metadata": {
    "ExecuteTime": {
     "end_time": "2020-03-24T12:14:43.923109Z",
     "start_time": "2020-03-24T12:14:43.918918Z"
    }
   },
   "outputs": [
    {
     "data": {
      "text/plain": [
       "'{\"columns\":[\"x\",\"y\"],\"index\":[0,1,2,3,4],\"data\":[[-2.5409822464,-2.7264602184],[-1.6080690622,12.4178647995],[-3.363984108,-5.8635773659],[14.502576828,2.6358966827],[-2.0515813828,-10.5730810165]]}'"
      ]
     },
     "execution_count": 35,
     "metadata": {},
     "output_type": "execute_result"
    }
   ],
   "source": [
    "http_data = test_data.to_json(orient='split')\n",
    "\n",
    "http_data"
   ]
  },
  {
   "cell_type": "markdown",
   "metadata": {},
   "source": [
    "#### requests approach"
   ]
  },
  {
   "cell_type": "markdown",
   "metadata": {},
   "source": [
    "```python\n",
    "import requests\n",
    "\n",
    "host = 'https://usaeilidssbxd01.syngentaaws.org'\n",
    "port = '8990'\n",
    "\n",
    "url = f'http://{host}:{port}/invocations'\n",
    "    \n",
    "headers = {\n",
    "    'Content-Type': 'application/json',\n",
    "}\n",
    "\n",
    "r = requests.post(url=url, headers=headers, data=http_data)\n",
    "\n",
    "predictions = [int(x) for x in r.text if x.isdigit()]\n",
    "print(f'Predictions: {predictions}')\n",
    "\n",
    "performance = predictions == actual_data\n",
    "print(f'Performance: {performance}')\n",
    "```"
   ]
  },
  {
   "cell_type": "markdown",
   "metadata": {},
   "source": [
    "#### cURL approach"
   ]
  },
  {
   "cell_type": "markdown",
   "metadata": {},
   "source": [
    "```\n",
    "curl http://host:port/invocations -H 'Content-Type: application/json' -d http_data\n",
    "```"
   ]
  },
  {
   "cell_type": "code",
   "execution_count": null,
   "metadata": {},
   "outputs": [],
   "source": []
  }
 ],
 "metadata": {
  "jupytext": {
   "formats": "ipynb,py"
  },
  "kernelspec": {
   "display_name": "mlflow-sagemaker",
   "language": "python",
   "name": "mlflow-sagemaker"
  },
  "language_info": {
   "codemirror_mode": {
    "name": "ipython",
    "version": 3
   },
   "file_extension": ".py",
   "mimetype": "text/x-python",
   "name": "python",
   "nbconvert_exporter": "python",
   "pygments_lexer": "ipython3",
   "version": "3.7.3"
  },
  "toc": {
   "base_numbering": 1,
   "nav_menu": {},
   "number_sections": true,
   "sideBar": true,
   "skip_h1_title": false,
   "title_cell": "Table of Contents",
   "title_sidebar": "Contents",
   "toc_cell": false,
   "toc_position": {},
   "toc_section_display": true,
   "toc_window_display": true
  },
  "varInspector": {
   "cols": {
    "lenName": 16,
    "lenType": 16,
    "lenVar": 40
   },
   "kernels_config": {
    "python": {
     "delete_cmd_postfix": "",
     "delete_cmd_prefix": "del ",
     "library": "var_list.py",
     "varRefreshCmd": "print(var_dic_list())"
    },
    "r": {
     "delete_cmd_postfix": ") ",
     "delete_cmd_prefix": "rm(",
     "library": "var_list.r",
     "varRefreshCmd": "cat(var_dic_list()) "
    }
   },
   "types_to_exclude": [
    "module",
    "function",
    "builtin_function_or_method",
    "instance",
    "_Feature"
   ],
   "window_display": false
  }
 },
 "nbformat": 4,
 "nbformat_minor": 2
}
