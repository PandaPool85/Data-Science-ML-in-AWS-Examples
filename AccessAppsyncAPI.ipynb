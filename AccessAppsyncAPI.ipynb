{
 "cells": [
  {
   "cell_type": "code",
   "execution_count": 47,
   "metadata": {},
   "outputs": [
    {
     "name": "stdout",
     "output_type": "stream",
     "text": [
      "Authenticating with Cognito to get a JWT.\n",
      "Making POST call against the API\n",
      "Query = query hello { getHelloWorld { json } }\n",
      "JWT = eyJraWQiOiJOUHFhSzJKb0EyaEFVMkJHVTVoc3hZREZqZ1hLUG1xcFRRaDkzRG9vWVwvVT0iLCJhbGciOiJSUzI1NiJ9.eyJzdWIiOiIyYjA3YjQwOS03NDdiLTRlNmItOGI5Mi05ZDJhNjFjZDA0NjIiLCJhdWQiOiI0M2pnZmVyM2c3ZTlhaXQybzlmdnBmczhyMiIsImNvZ25pdG86Z3JvdXBzIjpbInBlZ2FzeXNfYXBwc3luY19jbGllbnRfdGVzdF91c2VycyJdLCJlbWFpbF92ZXJpZmllZCI6dHJ1ZSwiZXZlbnRfaWQiOiI4ZDU0OWMxNy1lZjJiLTQ0YTAtODEzNC1iNzYxYmU2NTVjZjAiLCJ0b2tlbl91c2UiOiJpZCIsImF1dGhfdGltZSI6MTU4NDM3Mzk0OCwiaXNzIjoiaHR0cHM6XC9cL2NvZ25pdG8taWRwLnVzLWVhc3QtMS5hbWF6b25hd3MuY29tXC91cy1lYXN0LTFfajJ1bjM5cVI3IiwiY29nbml0bzp1c2VybmFtZSI6InBlZ2FzeXNfYXBpX3Rlc3RfdXNlciIsImV4cCI6MTU4NDM3NzU0OCwiaWF0IjoxNTg0MzczOTQ4LCJlbWFpbCI6InJpY2hhcmQucG93ZWxsQHN5bmdlbnRhLmNvbSJ9.G_kbtZZyXharGSAkI0l07gy5iag69M8eMwD87M4iKmS3CCsGGC9PkpZT0cALsmlRMisHZnIhvTmiWyR14QasGHfosEXVzRyC89ZsQzbvZiDq4tJGEHs0P1X_GdFCNmnB71aMUHIbJ0aHZPmGpJIipfUoIjFldlJhP-WPVnZZxOF0CuishqV_d8kGN9XBA1x4xXdHkpGAU2JBKbE760wcsfod8SdgCH8U18cw6MsRMMOpZ6b7Z-KMWLS2T3Q7_Fk1vFc7E1ZvRYX_2EoR6s6A16MpHk77p3aQiPdFAhfRM9MdEYBlySgmcdjKNITYA6gtlVUIqcMMe-5Ix5zTUId_tA\n",
      "----------------------------\n",
      "\n",
      "Output: \n",
      "{\n",
      "    \"data\": {\n",
      "        \"getHelloWorld\": {\n",
      "            \"json\": \"\\\"Hello from Lambda!\\\"\"\n",
      "        }\n",
      "    }\n",
      "}\n"
     ]
    }
   ],
   "source": [
    "import sys\n",
    "import os\n",
    "sys.path.append(os.getcwd())\n",
    "from warrant import Cognito\n",
    "# Libraries used to send requests to appsync graphql api\n",
    "import json\n",
    "import requests\n",
    "import aws_creds as creds\n",
    "\n",
    "# Seeds R&D Data Lake APIs\n",
    "apis = {\n",
    "    \"dev\" : \"https://gz2j3dzh5fdsbmw6vtyivzv6xu.appsync-api.us-east-1.amazonaws.com/graphql\",\n",
    "    \"stage\" : \"https://6odoetjehfgqfmbcgfnuzlalda.appsync-api.us-east-1.amazonaws.com/graphql\",\n",
    "    \"test\" : \"https://eve3nnpumnh75frpsnrrgbhkea.appsync-api.us-east-1.amazonaws.com/graphql\",\n",
    "    \"prod\" : \"https://yhbxh5y6m5eypjjfwsgomka7ly.appsync-api.us-east-1.amazonaws.com/graphql\"\n",
    "}\n",
    "\n",
    "APPSYNC_ENV = \"dev\"\n",
    "\n",
    "# Cognito Configuration\n",
    "COGNITO_POOL_ID = 'us-east-1_j2un39qR7'\n",
    "COGNITO_APP_ID = '43jgfer3g7e9ait2o9fvpfs8r2'\n",
    "COGNITO_USERNAME = creds.COGNITO_USERNAME\n",
    "COGNITO_PASSWORD = creds.COGNITO_PASSWORD\n",
    "\n",
    "# Select which API to use\n",
    "APPSYNC_URL = apis[APPSYNC_ENV]\n",
    "\n",
    "# Provide the API query to run\n",
    "APPSYNC_QUERY = 'query hello { getHelloWorld { json } }'\n",
    "\n",
    "# set AWS env variables\n",
    "os.environ[\"AWS_DEFAULT_REGION\"] = \"us-east-1\"\n",
    "\n",
    "# Authenticate with Cognito\n",
    "print(\"Authenticating with Cognito to get a JWT.\")\n",
    "u = Cognito(COGNITO_POOL_ID,COGNITO_APP_ID,username=COGNITO_USERNAME)\n",
    "u.authenticate(password=COGNITO_PASSWORD)\n",
    "\n",
    "# Setup the POST call to Appsync\n",
    "print(\"Making POST call against the API\")\n",
    "print(\"Query = {}\".format(APPSYNC_QUERY))\n",
    "print(\"JWT = {}\".format(u.id_token))\n",
    "data = {\"query\": APPSYNC_QUERY}\n",
    "headers = {\"Content-Type\":\"application/graphql\",\"Authorization\": \"{}\".format(u.id_token)}\n",
    "resp = requests.post(APPSYNC_URL,headers=headers,data=json.dumps(data))\n",
    "\n",
    "# Print the results\n",
    "print(\"----------------------------\\n\")\n",
    "print(\"Output: \")\n",
    "print(json.dumps(resp.json(),indent=4))"
   ]
  },
  {
   "cell_type": "code",
   "execution_count": null,
   "metadata": {},
   "outputs": [],
   "source": []
  }
 ],
 "metadata": {
  "kernelspec": {
   "display_name": "cognito-test-env",
   "language": "python",
   "name": "cognito-test-env"
  },
  "language_info": {
   "codemirror_mode": {
    "name": "ipython",
    "version": 3
   },
   "file_extension": ".py",
   "mimetype": "text/x-python",
   "name": "python",
   "nbconvert_exporter": "python",
   "pygments_lexer": "ipython3",
   "version": "3.7.3"
  }
 },
 "nbformat": 4,
 "nbformat_minor": 2
}
